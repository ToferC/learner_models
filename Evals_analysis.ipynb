{
 "cells": [
  {
   "cell_type": "markdown",
   "metadata": {},
   "source": [
    "# Data Visualizations of Mock Learner Data and Interactions with Mock Learning Products\n",
    "This notebook is an example of the art of the possible for reimagining how the the Canada School of the Public Service works with our learners and our "
   ]
  },
  {
   "cell_type": "code",
   "execution_count": 1,
   "metadata": {},
   "outputs": [],
   "source": [
    "import matplotlib\n",
    "import matplotlib.pyplot as plt\n",
    "import pandas as pd\n",
    "import numpy as np\n",
    "import os\n",
    "\n",
    "%matplotlib inline"
   ]
  },
  {
   "cell_type": "code",
   "execution_count": 2,
   "metadata": {},
   "outputs": [],
   "source": [
    "data_dir = \"./data/\""
   ]
  },
  {
   "cell_type": "code",
   "execution_count": 3,
   "metadata": {},
   "outputs": [],
   "source": [
    "df = pd.read_csv(os.path.join(data_dir, \"evals.csv\"))"
   ]
  },
  {
   "cell_type": "code",
   "execution_count": 4,
   "metadata": {},
   "outputs": [],
   "source": [
    "eleven_grad=[\"darkred\", \"brown\", \"darkorange\", \"orange\", \"gold\", \"dodgerblue\", \"royalblue\", \"blue\", \"green\", \"forestgreen\", \"limegreen\"]\n",
    "seven_grad=[\"darkred\", \"orange\", \"gold\", \"dodgerblue\", \"royalblue\", \"green\", \"forestgreen\"]\n",
    "seven_diff=[\"brown\", \"green\", \"dodgerblue\", \"gold\", \"royalblue\", \"orange\", \"forestgreen\"]"
   ]
  },
  {
   "cell_type": "code",
   "execution_count": 5,
   "metadata": {},
   "outputs": [
    {
     "data": {
      "text/plain": [
       "Index(['eval_id', 'learner_id', 'audience', 'group', 'level', 'role',\n",
       "       'organization', 'pronouns', 'sexuality', 'ethnicity', 'language',\n",
       "       'person_with_disability', 'openness', 'exclusion', 'registration_id',\n",
       "       'offering_id', 'learning_product', 'business_line', 'content',\n",
       "       'duration', 'module', 'date_stamp', 'objective', 'current_skill',\n",
       "       'desired_skill', 'final_skill', 'recommend', 'rating', 'clear',\n",
       "       'entertaining', 'relevant', 'informative', 'useful', 'inclusive',\n",
       "       'easy', 'difficult', 'long', 'short', 'percent_completed', 'lo_1',\n",
       "       'lo_2', 'physical_space', 'physical_clean', 'physical_comfortable',\n",
       "       'physical_professional', 'physical_pleasant', 'physical_accessible',\n",
       "       'digital_content', 'digital_smooth', 'digital_professional',\n",
       "       'digital_accessible', 'personnel_present', 'personnel_pleasant',\n",
       "       'personnel_helpful', 'personnel_professional', 'personnel_inclusive',\n",
       "       'personnel_knowledgeable'],\n",
       "      dtype='object')"
      ]
     },
     "execution_count": 5,
     "metadata": {},
     "output_type": "execute_result"
    }
   ],
   "source": [
    "df.columns"
   ]
  },
  {
   "cell_type": "code",
   "execution_count": 6,
   "metadata": {},
   "outputs": [
    {
     "data": {
      "text/html": [
       "<div>\n",
       "<style scoped>\n",
       "    .dataframe tbody tr th:only-of-type {\n",
       "        vertical-align: middle;\n",
       "    }\n",
       "\n",
       "    .dataframe tbody tr th {\n",
       "        vertical-align: top;\n",
       "    }\n",
       "\n",
       "    .dataframe thead th {\n",
       "        text-align: right;\n",
       "    }\n",
       "</style>\n",
       "<table border=\"1\" class=\"dataframe\">\n",
       "  <thead>\n",
       "    <tr style=\"text-align: right;\">\n",
       "      <th></th>\n",
       "      <th>eval_id</th>\n",
       "      <th>learner_id</th>\n",
       "      <th>level</th>\n",
       "      <th>openness</th>\n",
       "      <th>exclusion</th>\n",
       "      <th>registration_id</th>\n",
       "      <th>offering_id</th>\n",
       "      <th>duration</th>\n",
       "      <th>module</th>\n",
       "      <th>current_skill</th>\n",
       "      <th>desired_skill</th>\n",
       "      <th>final_skill</th>\n",
       "      <th>rating</th>\n",
       "      <th>percent_completed</th>\n",
       "    </tr>\n",
       "  </thead>\n",
       "  <tbody>\n",
       "    <tr>\n",
       "      <th>count</th>\n",
       "      <td>15432.000000</td>\n",
       "      <td>15432.000000</td>\n",
       "      <td>15432.000000</td>\n",
       "      <td>15432.000000</td>\n",
       "      <td>15432.000000</td>\n",
       "      <td>15432.000000</td>\n",
       "      <td>15432.000000</td>\n",
       "      <td>15432.000000</td>\n",
       "      <td>15432.000000</td>\n",
       "      <td>15432.000000</td>\n",
       "      <td>15432.000000</td>\n",
       "      <td>15432.000000</td>\n",
       "      <td>15432.000000</td>\n",
       "      <td>15432.000000</td>\n",
       "    </tr>\n",
       "    <tr>\n",
       "      <th>mean</th>\n",
       "      <td>80618.420684</td>\n",
       "      <td>10618.420684</td>\n",
       "      <td>3.376426</td>\n",
       "      <td>0.599280</td>\n",
       "      <td>0.243125</td>\n",
       "      <td>99624.641524</td>\n",
       "      <td>960.199067</td>\n",
       "      <td>66.053655</td>\n",
       "      <td>181.865474</td>\n",
       "      <td>2.497862</td>\n",
       "      <td>4.559616</td>\n",
       "      <td>3.013802</td>\n",
       "      <td>7.780651</td>\n",
       "      <td>0.673600</td>\n",
       "    </tr>\n",
       "    <tr>\n",
       "      <th>std</th>\n",
       "      <td>7906.514896</td>\n",
       "      <td>7906.514896</td>\n",
       "      <td>1.789998</td>\n",
       "      <td>0.149907</td>\n",
       "      <td>0.204852</td>\n",
       "      <td>73716.390247</td>\n",
       "      <td>94.998638</td>\n",
       "      <td>20.430478</td>\n",
       "      <td>96.418462</td>\n",
       "      <td>1.472623</td>\n",
       "      <td>1.498474</td>\n",
       "      <td>1.584712</td>\n",
       "      <td>1.720856</td>\n",
       "      <td>0.231013</td>\n",
       "    </tr>\n",
       "    <tr>\n",
       "      <th>min</th>\n",
       "      <td>70000.000000</td>\n",
       "      <td>0.000000</td>\n",
       "      <td>1.000000</td>\n",
       "      <td>0.021134</td>\n",
       "      <td>0.000000</td>\n",
       "      <td>0.000000</td>\n",
       "      <td>877.000000</td>\n",
       "      <td>45.000000</td>\n",
       "      <td>101.000000</td>\n",
       "      <td>0.000000</td>\n",
       "      <td>2.000000</td>\n",
       "      <td>0.000000</td>\n",
       "      <td>4.000000</td>\n",
       "      <td>0.000000</td>\n",
       "    </tr>\n",
       "    <tr>\n",
       "      <th>25%</th>\n",
       "      <td>73428.750000</td>\n",
       "      <td>3428.750000</td>\n",
       "      <td>2.000000</td>\n",
       "      <td>0.497819</td>\n",
       "      <td>0.100000</td>\n",
       "      <td>30428.750000</td>\n",
       "      <td>880.000000</td>\n",
       "      <td>45.000000</td>\n",
       "      <td>101.000000</td>\n",
       "      <td>1.000000</td>\n",
       "      <td>3.000000</td>\n",
       "      <td>2.000000</td>\n",
       "      <td>6.000000</td>\n",
       "      <td>0.500000</td>\n",
       "    </tr>\n",
       "    <tr>\n",
       "      <th>50%</th>\n",
       "      <td>77357.500000</td>\n",
       "      <td>7357.500000</td>\n",
       "      <td>3.000000</td>\n",
       "      <td>0.600612</td>\n",
       "      <td>0.200000</td>\n",
       "      <td>70357.500000</td>\n",
       "      <td>884.000000</td>\n",
       "      <td>60.000000</td>\n",
       "      <td>102.000000</td>\n",
       "      <td>2.000000</td>\n",
       "      <td>5.000000</td>\n",
       "      <td>3.000000</td>\n",
       "      <td>8.000000</td>\n",
       "      <td>0.700000</td>\n",
       "    </tr>\n",
       "    <tr>\n",
       "      <th>75%</th>\n",
       "      <td>89570.250000</td>\n",
       "      <td>19570.250000</td>\n",
       "      <td>5.000000</td>\n",
       "      <td>0.701349</td>\n",
       "      <td>0.400000</td>\n",
       "      <td>182141.250000</td>\n",
       "      <td>1077.000000</td>\n",
       "      <td>90.000000</td>\n",
       "      <td>301.000000</td>\n",
       "      <td>3.000000</td>\n",
       "      <td>6.000000</td>\n",
       "      <td>4.000000</td>\n",
       "      <td>9.000000</td>\n",
       "      <td>0.900000</td>\n",
       "    </tr>\n",
       "    <tr>\n",
       "      <th>max</th>\n",
       "      <td>91999.000000</td>\n",
       "      <td>21999.000000</td>\n",
       "      <td>7.000000</td>\n",
       "      <td>1.000000</td>\n",
       "      <td>1.300000</td>\n",
       "      <td>192999.000000</td>\n",
       "      <td>1078.000000</td>\n",
       "      <td>150.000000</td>\n",
       "      <td>301.000000</td>\n",
       "      <td>8.000000</td>\n",
       "      <td>10.000000</td>\n",
       "      <td>9.000000</td>\n",
       "      <td>10.000000</td>\n",
       "      <td>1.000000</td>\n",
       "    </tr>\n",
       "  </tbody>\n",
       "</table>\n",
       "</div>"
      ],
      "text/plain": [
       "            eval_id    learner_id         level      openness     exclusion  \\\n",
       "count  15432.000000  15432.000000  15432.000000  15432.000000  15432.000000   \n",
       "mean   80618.420684  10618.420684      3.376426      0.599280      0.243125   \n",
       "std     7906.514896   7906.514896      1.789998      0.149907      0.204852   \n",
       "min    70000.000000      0.000000      1.000000      0.021134      0.000000   \n",
       "25%    73428.750000   3428.750000      2.000000      0.497819      0.100000   \n",
       "50%    77357.500000   7357.500000      3.000000      0.600612      0.200000   \n",
       "75%    89570.250000  19570.250000      5.000000      0.701349      0.400000   \n",
       "max    91999.000000  21999.000000      7.000000      1.000000      1.300000   \n",
       "\n",
       "       registration_id   offering_id      duration        module  \\\n",
       "count     15432.000000  15432.000000  15432.000000  15432.000000   \n",
       "mean      99624.641524    960.199067     66.053655    181.865474   \n",
       "std       73716.390247     94.998638     20.430478     96.418462   \n",
       "min           0.000000    877.000000     45.000000    101.000000   \n",
       "25%       30428.750000    880.000000     45.000000    101.000000   \n",
       "50%       70357.500000    884.000000     60.000000    102.000000   \n",
       "75%      182141.250000   1077.000000     90.000000    301.000000   \n",
       "max      192999.000000   1078.000000    150.000000    301.000000   \n",
       "\n",
       "       current_skill  desired_skill   final_skill        rating  \\\n",
       "count   15432.000000   15432.000000  15432.000000  15432.000000   \n",
       "mean        2.497862       4.559616      3.013802      7.780651   \n",
       "std         1.472623       1.498474      1.584712      1.720856   \n",
       "min         0.000000       2.000000      0.000000      4.000000   \n",
       "25%         1.000000       3.000000      2.000000      6.000000   \n",
       "50%         2.000000       5.000000      3.000000      8.000000   \n",
       "75%         3.000000       6.000000      4.000000      9.000000   \n",
       "max         8.000000      10.000000      9.000000     10.000000   \n",
       "\n",
       "       percent_completed  \n",
       "count       15432.000000  \n",
       "mean            0.673600  \n",
       "std             0.231013  \n",
       "min             0.000000  \n",
       "25%             0.500000  \n",
       "50%             0.700000  \n",
       "75%             0.900000  \n",
       "max             1.000000  "
      ]
     },
     "execution_count": 6,
     "metadata": {},
     "output_type": "execute_result"
    }
   ],
   "source": [
    "df.describe()"
   ]
  },
  {
   "cell_type": "code",
   "execution_count": 7,
   "metadata": {},
   "outputs": [],
   "source": [
    "audience = df.audience\n",
    "role = df.role"
   ]
  },
  {
   "cell_type": "code",
   "execution_count": 8,
   "metadata": {},
   "outputs": [],
   "source": [
    "scan = df.drop(['eval_id', 'learner_id', 'registration_id', 'offering_id'], axis=1)"
   ]
  },
  {
   "cell_type": "code",
   "execution_count": 9,
   "metadata": {},
   "outputs": [
    {
     "data": {
      "text/html": [
       "<div>\n",
       "<style scoped>\n",
       "    .dataframe tbody tr th:only-of-type {\n",
       "        vertical-align: middle;\n",
       "    }\n",
       "\n",
       "    .dataframe tbody tr th {\n",
       "        vertical-align: top;\n",
       "    }\n",
       "\n",
       "    .dataframe thead th {\n",
       "        text-align: right;\n",
       "    }\n",
       "</style>\n",
       "<table border=\"1\" class=\"dataframe\">\n",
       "  <thead>\n",
       "    <tr style=\"text-align: right;\">\n",
       "      <th></th>\n",
       "      <th></th>\n",
       "      <th></th>\n",
       "      <th>level</th>\n",
       "      <th>openness</th>\n",
       "      <th>exclusion</th>\n",
       "      <th>duration</th>\n",
       "      <th>module</th>\n",
       "      <th>current_skill</th>\n",
       "      <th>desired_skill</th>\n",
       "      <th>final_skill</th>\n",
       "      <th>recommend</th>\n",
       "      <th>rating</th>\n",
       "      <th>...</th>\n",
       "      <th>digital_content</th>\n",
       "      <th>digital_smooth</th>\n",
       "      <th>digital_professional</th>\n",
       "      <th>digital_accessible</th>\n",
       "      <th>personnel_present</th>\n",
       "      <th>personnel_pleasant</th>\n",
       "      <th>personnel_helpful</th>\n",
       "      <th>personnel_professional</th>\n",
       "      <th>personnel_inclusive</th>\n",
       "      <th>personnel_knowledgeable</th>\n",
       "    </tr>\n",
       "    <tr>\n",
       "      <th>pronouns</th>\n",
       "      <th>ethnicity</th>\n",
       "      <th>person_with_disability</th>\n",
       "      <th></th>\n",
       "      <th></th>\n",
       "      <th></th>\n",
       "      <th></th>\n",
       "      <th></th>\n",
       "      <th></th>\n",
       "      <th></th>\n",
       "      <th></th>\n",
       "      <th></th>\n",
       "      <th></th>\n",
       "      <th></th>\n",
       "      <th></th>\n",
       "      <th></th>\n",
       "      <th></th>\n",
       "      <th></th>\n",
       "      <th></th>\n",
       "      <th></th>\n",
       "      <th></th>\n",
       "      <th></th>\n",
       "      <th></th>\n",
       "      <th></th>\n",
       "    </tr>\n",
       "  </thead>\n",
       "  <tbody>\n",
       "    <tr>\n",
       "      <th rowspan=\"12\" valign=\"top\">HeHim</th>\n",
       "      <th rowspan=\"2\" valign=\"top\">Asian</th>\n",
       "      <th>False</th>\n",
       "      <td>3.458924</td>\n",
       "      <td>0.576606</td>\n",
       "      <td>0.253541</td>\n",
       "      <td>67.988669</td>\n",
       "      <td>173.288952</td>\n",
       "      <td>2.606232</td>\n",
       "      <td>4.648725</td>\n",
       "      <td>3.073654</td>\n",
       "      <td>0.679887</td>\n",
       "      <td>7.541076</td>\n",
       "      <td>...</td>\n",
       "      <td>0.943343</td>\n",
       "      <td>0.373938</td>\n",
       "      <td>0.339943</td>\n",
       "      <td>0.373938</td>\n",
       "      <td>0.694051</td>\n",
       "      <td>0.362606</td>\n",
       "      <td>0.252125</td>\n",
       "      <td>0.237960</td>\n",
       "      <td>0.229462</td>\n",
       "      <td>0.359773</td>\n",
       "    </tr>\n",
       "    <tr>\n",
       "      <th>True</th>\n",
       "      <td>3.113208</td>\n",
       "      <td>0.607167</td>\n",
       "      <td>0.645283</td>\n",
       "      <td>67.358491</td>\n",
       "      <td>161.735849</td>\n",
       "      <td>2.792453</td>\n",
       "      <td>4.830189</td>\n",
       "      <td>3.396226</td>\n",
       "      <td>0.660377</td>\n",
       "      <td>7.754717</td>\n",
       "      <td>...</td>\n",
       "      <td>0.962264</td>\n",
       "      <td>0.264151</td>\n",
       "      <td>0.320755</td>\n",
       "      <td>0.000000</td>\n",
       "      <td>0.660377</td>\n",
       "      <td>0.283019</td>\n",
       "      <td>0.264151</td>\n",
       "      <td>0.358491</td>\n",
       "      <td>0.018868</td>\n",
       "      <td>0.358491</td>\n",
       "    </tr>\n",
       "    <tr>\n",
       "      <th rowspan=\"2\" valign=\"top\">Black</th>\n",
       "      <th>False</th>\n",
       "      <td>3.477193</td>\n",
       "      <td>0.605636</td>\n",
       "      <td>0.244211</td>\n",
       "      <td>66.210526</td>\n",
       "      <td>177.807018</td>\n",
       "      <td>2.533333</td>\n",
       "      <td>4.596491</td>\n",
       "      <td>3.070175</td>\n",
       "      <td>0.778947</td>\n",
       "      <td>7.901754</td>\n",
       "      <td>...</td>\n",
       "      <td>0.971930</td>\n",
       "      <td>0.414035</td>\n",
       "      <td>0.375439</td>\n",
       "      <td>0.403509</td>\n",
       "      <td>0.698246</td>\n",
       "      <td>0.428070</td>\n",
       "      <td>0.256140</td>\n",
       "      <td>0.263158</td>\n",
       "      <td>0.235088</td>\n",
       "      <td>0.315789</td>\n",
       "    </tr>\n",
       "    <tr>\n",
       "      <th>True</th>\n",
       "      <td>3.393939</td>\n",
       "      <td>0.601333</td>\n",
       "      <td>0.715152</td>\n",
       "      <td>68.181818</td>\n",
       "      <td>174.060606</td>\n",
       "      <td>2.848485</td>\n",
       "      <td>5.030303</td>\n",
       "      <td>3.272727</td>\n",
       "      <td>0.666667</td>\n",
       "      <td>7.696970</td>\n",
       "      <td>...</td>\n",
       "      <td>0.939394</td>\n",
       "      <td>0.484848</td>\n",
       "      <td>0.393939</td>\n",
       "      <td>0.000000</td>\n",
       "      <td>0.696970</td>\n",
       "      <td>0.333333</td>\n",
       "      <td>0.242424</td>\n",
       "      <td>0.212121</td>\n",
       "      <td>0.030303</td>\n",
       "      <td>0.333333</td>\n",
       "    </tr>\n",
       "    <tr>\n",
       "      <th rowspan=\"2\" valign=\"top\">Caucasian</th>\n",
       "      <th>False</th>\n",
       "      <td>3.377163</td>\n",
       "      <td>0.600580</td>\n",
       "      <td>0.043246</td>\n",
       "      <td>65.977206</td>\n",
       "      <td>181.803504</td>\n",
       "      <td>2.495990</td>\n",
       "      <td>4.556564</td>\n",
       "      <td>3.029337</td>\n",
       "      <td>0.749683</td>\n",
       "      <td>7.848881</td>\n",
       "      <td>...</td>\n",
       "      <td>0.973407</td>\n",
       "      <td>0.393837</td>\n",
       "      <td>0.399747</td>\n",
       "      <td>0.396370</td>\n",
       "      <td>0.707894</td>\n",
       "      <td>0.378219</td>\n",
       "      <td>0.263191</td>\n",
       "      <td>0.274588</td>\n",
       "      <td>0.309624</td>\n",
       "      <td>0.359434</td>\n",
       "    </tr>\n",
       "    <tr>\n",
       "      <th>True</th>\n",
       "      <td>3.077947</td>\n",
       "      <td>0.610938</td>\n",
       "      <td>0.449049</td>\n",
       "      <td>65.589354</td>\n",
       "      <td>180.773764</td>\n",
       "      <td>2.482890</td>\n",
       "      <td>4.547529</td>\n",
       "      <td>2.984791</td>\n",
       "      <td>0.749049</td>\n",
       "      <td>7.800380</td>\n",
       "      <td>...</td>\n",
       "      <td>0.980989</td>\n",
       "      <td>0.406844</td>\n",
       "      <td>0.433460</td>\n",
       "      <td>0.000000</td>\n",
       "      <td>0.703422</td>\n",
       "      <td>0.387833</td>\n",
       "      <td>0.275665</td>\n",
       "      <td>0.285171</td>\n",
       "      <td>0.121673</td>\n",
       "      <td>0.370722</td>\n",
       "    </tr>\n",
       "    <tr>\n",
       "      <th rowspan=\"2\" valign=\"top\">HispanicLatinx</th>\n",
       "      <th>False</th>\n",
       "      <td>3.371601</td>\n",
       "      <td>0.605911</td>\n",
       "      <td>0.240483</td>\n",
       "      <td>66.435045</td>\n",
       "      <td>184.081571</td>\n",
       "      <td>2.462236</td>\n",
       "      <td>4.537764</td>\n",
       "      <td>3.000000</td>\n",
       "      <td>0.767372</td>\n",
       "      <td>7.861027</td>\n",
       "      <td>...</td>\n",
       "      <td>0.963746</td>\n",
       "      <td>0.410876</td>\n",
       "      <td>0.359517</td>\n",
       "      <td>0.395770</td>\n",
       "      <td>0.716012</td>\n",
       "      <td>0.359517</td>\n",
       "      <td>0.259819</td>\n",
       "      <td>0.317221</td>\n",
       "      <td>0.235650</td>\n",
       "      <td>0.377644</td>\n",
       "    </tr>\n",
       "    <tr>\n",
       "      <th>True</th>\n",
       "      <td>3.176471</td>\n",
       "      <td>0.570366</td>\n",
       "      <td>0.614706</td>\n",
       "      <td>63.970588</td>\n",
       "      <td>195.382353</td>\n",
       "      <td>2.352941</td>\n",
       "      <td>4.411765</td>\n",
       "      <td>2.794118</td>\n",
       "      <td>0.588235</td>\n",
       "      <td>7.323529</td>\n",
       "      <td>...</td>\n",
       "      <td>1.000000</td>\n",
       "      <td>0.529412</td>\n",
       "      <td>0.411765</td>\n",
       "      <td>0.000000</td>\n",
       "      <td>0.735294</td>\n",
       "      <td>0.441176</td>\n",
       "      <td>0.294118</td>\n",
       "      <td>0.294118</td>\n",
       "      <td>0.029412</td>\n",
       "      <td>0.500000</td>\n",
       "    </tr>\n",
       "    <tr>\n",
       "      <th rowspan=\"2\" valign=\"top\">Indigenous</th>\n",
       "      <th>False</th>\n",
       "      <td>3.250712</td>\n",
       "      <td>0.579765</td>\n",
       "      <td>0.243590</td>\n",
       "      <td>66.025641</td>\n",
       "      <td>183.353276</td>\n",
       "      <td>2.396011</td>\n",
       "      <td>4.475783</td>\n",
       "      <td>2.894587</td>\n",
       "      <td>0.678063</td>\n",
       "      <td>7.626781</td>\n",
       "      <td>...</td>\n",
       "      <td>0.971510</td>\n",
       "      <td>0.410256</td>\n",
       "      <td>0.356125</td>\n",
       "      <td>0.396011</td>\n",
       "      <td>0.712251</td>\n",
       "      <td>0.398860</td>\n",
       "      <td>0.282051</td>\n",
       "      <td>0.276353</td>\n",
       "      <td>0.279202</td>\n",
       "      <td>0.358974</td>\n",
       "    </tr>\n",
       "    <tr>\n",
       "      <th>True</th>\n",
       "      <td>3.193548</td>\n",
       "      <td>0.537226</td>\n",
       "      <td>0.625806</td>\n",
       "      <td>62.903226</td>\n",
       "      <td>223.774194</td>\n",
       "      <td>2.290323</td>\n",
       "      <td>4.290323</td>\n",
       "      <td>2.548387</td>\n",
       "      <td>0.580645</td>\n",
       "      <td>7.064516</td>\n",
       "      <td>...</td>\n",
       "      <td>1.000000</td>\n",
       "      <td>0.419355</td>\n",
       "      <td>0.354839</td>\n",
       "      <td>0.000000</td>\n",
       "      <td>0.806452</td>\n",
       "      <td>0.419355</td>\n",
       "      <td>0.225806</td>\n",
       "      <td>0.290323</td>\n",
       "      <td>0.032258</td>\n",
       "      <td>0.322581</td>\n",
       "    </tr>\n",
       "    <tr>\n",
       "      <th rowspan=\"2\" valign=\"top\">NoAnswer</th>\n",
       "      <th>False</th>\n",
       "      <td>3.462745</td>\n",
       "      <td>0.601586</td>\n",
       "      <td>0.240784</td>\n",
       "      <td>65.235294</td>\n",
       "      <td>173.478431</td>\n",
       "      <td>2.447059</td>\n",
       "      <td>4.501961</td>\n",
       "      <td>2.972549</td>\n",
       "      <td>0.792157</td>\n",
       "      <td>7.874510</td>\n",
       "      <td>...</td>\n",
       "      <td>0.992157</td>\n",
       "      <td>0.450980</td>\n",
       "      <td>0.372549</td>\n",
       "      <td>0.415686</td>\n",
       "      <td>0.682353</td>\n",
       "      <td>0.403922</td>\n",
       "      <td>0.266667</td>\n",
       "      <td>0.239216</td>\n",
       "      <td>0.258824</td>\n",
       "      <td>0.384314</td>\n",
       "    </tr>\n",
       "    <tr>\n",
       "      <th>True</th>\n",
       "      <td>3.450000</td>\n",
       "      <td>0.646359</td>\n",
       "      <td>0.655000</td>\n",
       "      <td>63.750000</td>\n",
       "      <td>201.250000</td>\n",
       "      <td>2.700000</td>\n",
       "      <td>4.800000</td>\n",
       "      <td>3.400000</td>\n",
       "      <td>0.750000</td>\n",
       "      <td>8.200000</td>\n",
       "      <td>...</td>\n",
       "      <td>1.000000</td>\n",
       "      <td>0.600000</td>\n",
       "      <td>0.400000</td>\n",
       "      <td>0.000000</td>\n",
       "      <td>0.750000</td>\n",
       "      <td>0.400000</td>\n",
       "      <td>0.400000</td>\n",
       "      <td>0.300000</td>\n",
       "      <td>0.100000</td>\n",
       "      <td>0.450000</td>\n",
       "    </tr>\n",
       "    <tr>\n",
       "      <th rowspan=\"12\" valign=\"top\">NoAnswer</th>\n",
       "      <th rowspan=\"2\" valign=\"top\">Asian</th>\n",
       "      <th>False</th>\n",
       "      <td>3.553191</td>\n",
       "      <td>0.558346</td>\n",
       "      <td>0.438298</td>\n",
       "      <td>69.255319</td>\n",
       "      <td>182.170213</td>\n",
       "      <td>2.595745</td>\n",
       "      <td>4.659574</td>\n",
       "      <td>3.021277</td>\n",
       "      <td>0.617021</td>\n",
       "      <td>7.127660</td>\n",
       "      <td>...</td>\n",
       "      <td>0.914894</td>\n",
       "      <td>0.340426</td>\n",
       "      <td>0.382979</td>\n",
       "      <td>0.361702</td>\n",
       "      <td>0.723404</td>\n",
       "      <td>0.361702</td>\n",
       "      <td>0.170213</td>\n",
       "      <td>0.234043</td>\n",
       "      <td>0.170213</td>\n",
       "      <td>0.340426</td>\n",
       "    </tr>\n",
       "    <tr>\n",
       "      <th>True</th>\n",
       "      <td>3.000000</td>\n",
       "      <td>0.515669</td>\n",
       "      <td>0.833333</td>\n",
       "      <td>65.000000</td>\n",
       "      <td>168.000000</td>\n",
       "      <td>0.666667</td>\n",
       "      <td>2.666667</td>\n",
       "      <td>1.000000</td>\n",
       "      <td>0.333333</td>\n",
       "      <td>6.666667</td>\n",
       "      <td>...</td>\n",
       "      <td>1.000000</td>\n",
       "      <td>0.666667</td>\n",
       "      <td>0.000000</td>\n",
       "      <td>0.000000</td>\n",
       "      <td>0.666667</td>\n",
       "      <td>0.000000</td>\n",
       "      <td>0.000000</td>\n",
       "      <td>0.000000</td>\n",
       "      <td>0.000000</td>\n",
       "      <td>0.666667</td>\n",
       "    </tr>\n",
       "    <tr>\n",
       "      <th rowspan=\"2\" valign=\"top\">Black</th>\n",
       "      <th>False</th>\n",
       "      <td>4.043478</td>\n",
       "      <td>0.654293</td>\n",
       "      <td>0.469565</td>\n",
       "      <td>72.391304</td>\n",
       "      <td>231.652174</td>\n",
       "      <td>2.347826</td>\n",
       "      <td>4.391304</td>\n",
       "      <td>2.826087</td>\n",
       "      <td>0.913043</td>\n",
       "      <td>8.260870</td>\n",
       "      <td>...</td>\n",
       "      <td>0.826087</td>\n",
       "      <td>0.478261</td>\n",
       "      <td>0.478261</td>\n",
       "      <td>0.347826</td>\n",
       "      <td>0.869565</td>\n",
       "      <td>0.434783</td>\n",
       "      <td>0.391304</td>\n",
       "      <td>0.347826</td>\n",
       "      <td>0.086957</td>\n",
       "      <td>0.565217</td>\n",
       "    </tr>\n",
       "    <tr>\n",
       "      <th>True</th>\n",
       "      <td>3.250000</td>\n",
       "      <td>0.516493</td>\n",
       "      <td>0.875000</td>\n",
       "      <td>63.750000</td>\n",
       "      <td>201.250000</td>\n",
       "      <td>2.750000</td>\n",
       "      <td>4.750000</td>\n",
       "      <td>3.000000</td>\n",
       "      <td>0.500000</td>\n",
       "      <td>6.500000</td>\n",
       "      <td>...</td>\n",
       "      <td>1.000000</td>\n",
       "      <td>0.250000</td>\n",
       "      <td>0.000000</td>\n",
       "      <td>0.000000</td>\n",
       "      <td>0.750000</td>\n",
       "      <td>0.000000</td>\n",
       "      <td>0.500000</td>\n",
       "      <td>0.500000</td>\n",
       "      <td>0.000000</td>\n",
       "      <td>0.250000</td>\n",
       "    </tr>\n",
       "    <tr>\n",
       "      <th rowspan=\"2\" valign=\"top\">Caucasian</th>\n",
       "      <th>False</th>\n",
       "      <td>3.375246</td>\n",
       "      <td>0.596966</td>\n",
       "      <td>0.250295</td>\n",
       "      <td>66.689587</td>\n",
       "      <td>181.858546</td>\n",
       "      <td>2.508841</td>\n",
       "      <td>4.559921</td>\n",
       "      <td>3.055010</td>\n",
       "      <td>0.732809</td>\n",
       "      <td>7.791749</td>\n",
       "      <td>...</td>\n",
       "      <td>0.960707</td>\n",
       "      <td>0.377210</td>\n",
       "      <td>0.406680</td>\n",
       "      <td>0.379175</td>\n",
       "      <td>0.711198</td>\n",
       "      <td>0.367387</td>\n",
       "      <td>0.261297</td>\n",
       "      <td>0.273084</td>\n",
       "      <td>0.290766</td>\n",
       "      <td>0.392927</td>\n",
       "    </tr>\n",
       "    <tr>\n",
       "      <th>True</th>\n",
       "      <td>2.976190</td>\n",
       "      <td>0.619285</td>\n",
       "      <td>0.629762</td>\n",
       "      <td>66.250000</td>\n",
       "      <td>170.380952</td>\n",
       "      <td>2.416667</td>\n",
       "      <td>4.452381</td>\n",
       "      <td>2.940476</td>\n",
       "      <td>0.726190</td>\n",
       "      <td>7.833333</td>\n",
       "      <td>...</td>\n",
       "      <td>0.976190</td>\n",
       "      <td>0.333333</td>\n",
       "      <td>0.369048</td>\n",
       "      <td>0.000000</td>\n",
       "      <td>0.678571</td>\n",
       "      <td>0.392857</td>\n",
       "      <td>0.285714</td>\n",
       "      <td>0.226190</td>\n",
       "      <td>0.083333</td>\n",
       "      <td>0.285714</td>\n",
       "    </tr>\n",
       "    <tr>\n",
       "      <th rowspan=\"2\" valign=\"top\">HispanicLatinx</th>\n",
       "      <th>False</th>\n",
       "      <td>2.909091</td>\n",
       "      <td>0.557796</td>\n",
       "      <td>0.445455</td>\n",
       "      <td>63.181818</td>\n",
       "      <td>216.363636</td>\n",
       "      <td>2.636364</td>\n",
       "      <td>4.818182</td>\n",
       "      <td>2.939394</td>\n",
       "      <td>0.727273</td>\n",
       "      <td>7.272727</td>\n",
       "      <td>...</td>\n",
       "      <td>1.000000</td>\n",
       "      <td>0.575758</td>\n",
       "      <td>0.212121</td>\n",
       "      <td>0.272727</td>\n",
       "      <td>0.787879</td>\n",
       "      <td>0.303030</td>\n",
       "      <td>0.212121</td>\n",
       "      <td>0.272727</td>\n",
       "      <td>0.181818</td>\n",
       "      <td>0.363636</td>\n",
       "    </tr>\n",
       "    <tr>\n",
       "      <th>True</th>\n",
       "      <td>2.000000</td>\n",
       "      <td>0.445675</td>\n",
       "      <td>0.925000</td>\n",
       "      <td>63.750000</td>\n",
       "      <td>201.250000</td>\n",
       "      <td>5.500000</td>\n",
       "      <td>7.500000</td>\n",
       "      <td>5.750000</td>\n",
       "      <td>0.250000</td>\n",
       "      <td>6.000000</td>\n",
       "      <td>...</td>\n",
       "      <td>1.000000</td>\n",
       "      <td>0.250000</td>\n",
       "      <td>0.250000</td>\n",
       "      <td>0.000000</td>\n",
       "      <td>0.750000</td>\n",
       "      <td>0.500000</td>\n",
       "      <td>0.250000</td>\n",
       "      <td>0.250000</td>\n",
       "      <td>0.000000</td>\n",
       "      <td>0.250000</td>\n",
       "    </tr>\n",
       "    <tr>\n",
       "      <th rowspan=\"2\" valign=\"top\">Indigenous</th>\n",
       "      <th>False</th>\n",
       "      <td>2.826087</td>\n",
       "      <td>0.527597</td>\n",
       "      <td>0.421739</td>\n",
       "      <td>68.478261</td>\n",
       "      <td>205.608696</td>\n",
       "      <td>2.956522</td>\n",
       "      <td>5.000000</td>\n",
       "      <td>3.347826</td>\n",
       "      <td>0.434783</td>\n",
       "      <td>6.782609</td>\n",
       "      <td>...</td>\n",
       "      <td>0.913043</td>\n",
       "      <td>0.434783</td>\n",
       "      <td>0.347826</td>\n",
       "      <td>0.391304</td>\n",
       "      <td>0.782609</td>\n",
       "      <td>0.391304</td>\n",
       "      <td>0.173913</td>\n",
       "      <td>0.347826</td>\n",
       "      <td>0.086957</td>\n",
       "      <td>0.391304</td>\n",
       "    </tr>\n",
       "    <tr>\n",
       "      <th>True</th>\n",
       "      <td>2.666667</td>\n",
       "      <td>0.674788</td>\n",
       "      <td>0.811111</td>\n",
       "      <td>61.666667</td>\n",
       "      <td>256.666667</td>\n",
       "      <td>3.222222</td>\n",
       "      <td>5.222222</td>\n",
       "      <td>3.888889</td>\n",
       "      <td>0.777778</td>\n",
       "      <td>8.333333</td>\n",
       "      <td>...</td>\n",
       "      <td>1.000000</td>\n",
       "      <td>0.555556</td>\n",
       "      <td>0.555556</td>\n",
       "      <td>0.000000</td>\n",
       "      <td>0.888889</td>\n",
       "      <td>0.555556</td>\n",
       "      <td>0.333333</td>\n",
       "      <td>0.444444</td>\n",
       "      <td>0.000000</td>\n",
       "      <td>0.555556</td>\n",
       "    </tr>\n",
       "    <tr>\n",
       "      <th rowspan=\"2\" valign=\"top\">NoAnswer</th>\n",
       "      <th>False</th>\n",
       "      <td>3.178571</td>\n",
       "      <td>0.587145</td>\n",
       "      <td>0.435714</td>\n",
       "      <td>63.750000</td>\n",
       "      <td>201.250000</td>\n",
       "      <td>3.250000</td>\n",
       "      <td>5.250000</td>\n",
       "      <td>3.714286</td>\n",
       "      <td>0.607143</td>\n",
       "      <td>7.785714</td>\n",
       "      <td>...</td>\n",
       "      <td>1.000000</td>\n",
       "      <td>0.428571</td>\n",
       "      <td>0.428571</td>\n",
       "      <td>0.285714</td>\n",
       "      <td>0.750000</td>\n",
       "      <td>0.321429</td>\n",
       "      <td>0.178571</td>\n",
       "      <td>0.285714</td>\n",
       "      <td>0.178571</td>\n",
       "      <td>0.392857</td>\n",
       "    </tr>\n",
       "    <tr>\n",
       "      <th>True</th>\n",
       "      <td>1.000000</td>\n",
       "      <td>0.355481</td>\n",
       "      <td>0.900000</td>\n",
       "      <td>60.000000</td>\n",
       "      <td>301.000000</td>\n",
       "      <td>3.000000</td>\n",
       "      <td>5.000000</td>\n",
       "      <td>3.000000</td>\n",
       "      <td>0.000000</td>\n",
       "      <td>5.000000</td>\n",
       "      <td>...</td>\n",
       "      <td>1.000000</td>\n",
       "      <td>0.000000</td>\n",
       "      <td>0.000000</td>\n",
       "      <td>0.000000</td>\n",
       "      <td>1.000000</td>\n",
       "      <td>0.000000</td>\n",
       "      <td>0.000000</td>\n",
       "      <td>0.000000</td>\n",
       "      <td>0.000000</td>\n",
       "      <td>1.000000</td>\n",
       "    </tr>\n",
       "    <tr>\n",
       "      <th rowspan=\"12\" valign=\"top\">SheHer</th>\n",
       "      <th rowspan=\"2\" valign=\"top\">Asian</th>\n",
       "      <th>False</th>\n",
       "      <td>3.339564</td>\n",
       "      <td>0.604568</td>\n",
       "      <td>0.449533</td>\n",
       "      <td>67.196262</td>\n",
       "      <td>184.171340</td>\n",
       "      <td>2.470405</td>\n",
       "      <td>4.529595</td>\n",
       "      <td>2.956386</td>\n",
       "      <td>0.722741</td>\n",
       "      <td>7.738318</td>\n",
       "      <td>...</td>\n",
       "      <td>0.950156</td>\n",
       "      <td>0.404984</td>\n",
       "      <td>0.429907</td>\n",
       "      <td>0.370717</td>\n",
       "      <td>0.719626</td>\n",
       "      <td>0.358255</td>\n",
       "      <td>0.289720</td>\n",
       "      <td>0.302181</td>\n",
       "      <td>0.112150</td>\n",
       "      <td>0.342679</td>\n",
       "    </tr>\n",
       "    <tr>\n",
       "      <th>True</th>\n",
       "      <td>3.028571</td>\n",
       "      <td>0.655649</td>\n",
       "      <td>0.842857</td>\n",
       "      <td>63.857143</td>\n",
       "      <td>198.400000</td>\n",
       "      <td>2.857143</td>\n",
       "      <td>4.857143</td>\n",
       "      <td>3.257143</td>\n",
       "      <td>0.914286</td>\n",
       "      <td>8.200000</td>\n",
       "      <td>...</td>\n",
       "      <td>1.000000</td>\n",
       "      <td>0.457143</td>\n",
       "      <td>0.542857</td>\n",
       "      <td>0.000000</td>\n",
       "      <td>0.742857</td>\n",
       "      <td>0.342857</td>\n",
       "      <td>0.228571</td>\n",
       "      <td>0.142857</td>\n",
       "      <td>0.057143</td>\n",
       "      <td>0.485714</td>\n",
       "    </tr>\n",
       "    <tr>\n",
       "      <th rowspan=\"2\" valign=\"top\">Black</th>\n",
       "      <th>False</th>\n",
       "      <td>3.468085</td>\n",
       "      <td>0.595222</td>\n",
       "      <td>0.448227</td>\n",
       "      <td>65.691489</td>\n",
       "      <td>181.446809</td>\n",
       "      <td>2.219858</td>\n",
       "      <td>4.283688</td>\n",
       "      <td>2.726950</td>\n",
       "      <td>0.687943</td>\n",
       "      <td>7.553191</td>\n",
       "      <td>...</td>\n",
       "      <td>0.978723</td>\n",
       "      <td>0.400709</td>\n",
       "      <td>0.429078</td>\n",
       "      <td>0.343972</td>\n",
       "      <td>0.705674</td>\n",
       "      <td>0.393617</td>\n",
       "      <td>0.273050</td>\n",
       "      <td>0.287234</td>\n",
       "      <td>0.124113</td>\n",
       "      <td>0.375887</td>\n",
       "    </tr>\n",
       "    <tr>\n",
       "      <th>True</th>\n",
       "      <td>3.317073</td>\n",
       "      <td>0.611843</td>\n",
       "      <td>0.865854</td>\n",
       "      <td>67.682927</td>\n",
       "      <td>169.634146</td>\n",
       "      <td>2.731707</td>\n",
       "      <td>4.902439</td>\n",
       "      <td>3.219512</td>\n",
       "      <td>0.634146</td>\n",
       "      <td>7.536585</td>\n",
       "      <td>...</td>\n",
       "      <td>0.951220</td>\n",
       "      <td>0.365854</td>\n",
       "      <td>0.390244</td>\n",
       "      <td>0.000000</td>\n",
       "      <td>0.682927</td>\n",
       "      <td>0.365854</td>\n",
       "      <td>0.268293</td>\n",
       "      <td>0.243902</td>\n",
       "      <td>0.024390</td>\n",
       "      <td>0.268293</td>\n",
       "    </tr>\n",
       "    <tr>\n",
       "      <th rowspan=\"2\" valign=\"top\">Caucasian</th>\n",
       "      <th>False</th>\n",
       "      <td>3.444726</td>\n",
       "      <td>0.599513</td>\n",
       "      <td>0.243840</td>\n",
       "      <td>66.022152</td>\n",
       "      <td>181.222574</td>\n",
       "      <td>2.512025</td>\n",
       "      <td>4.574051</td>\n",
       "      <td>3.032911</td>\n",
       "      <td>0.744937</td>\n",
       "      <td>7.809916</td>\n",
       "      <td>...</td>\n",
       "      <td>0.972996</td>\n",
       "      <td>0.402743</td>\n",
       "      <td>0.399789</td>\n",
       "      <td>0.394515</td>\n",
       "      <td>0.706540</td>\n",
       "      <td>0.384599</td>\n",
       "      <td>0.264346</td>\n",
       "      <td>0.271097</td>\n",
       "      <td>0.263502</td>\n",
       "      <td>0.355485</td>\n",
       "    </tr>\n",
       "    <tr>\n",
       "      <th>True</th>\n",
       "      <td>3.196998</td>\n",
       "      <td>0.599475</td>\n",
       "      <td>0.644278</td>\n",
       "      <td>65.825516</td>\n",
       "      <td>179.733583</td>\n",
       "      <td>2.529081</td>\n",
       "      <td>4.574109</td>\n",
       "      <td>2.983114</td>\n",
       "      <td>0.709193</td>\n",
       "      <td>7.589118</td>\n",
       "      <td>...</td>\n",
       "      <td>0.977486</td>\n",
       "      <td>0.412758</td>\n",
       "      <td>0.390244</td>\n",
       "      <td>0.000000</td>\n",
       "      <td>0.701689</td>\n",
       "      <td>0.378987</td>\n",
       "      <td>0.245779</td>\n",
       "      <td>0.262664</td>\n",
       "      <td>0.065666</td>\n",
       "      <td>0.386492</td>\n",
       "    </tr>\n",
       "    <tr>\n",
       "      <th rowspan=\"2\" valign=\"top\">HispanicLatinx</th>\n",
       "      <th>False</th>\n",
       "      <td>3.286207</td>\n",
       "      <td>0.606077</td>\n",
       "      <td>0.444138</td>\n",
       "      <td>65.431034</td>\n",
       "      <td>197.817241</td>\n",
       "      <td>2.524138</td>\n",
       "      <td>4.558621</td>\n",
       "      <td>3.027586</td>\n",
       "      <td>0.741379</td>\n",
       "      <td>7.810345</td>\n",
       "      <td>...</td>\n",
       "      <td>0.972414</td>\n",
       "      <td>0.448276</td>\n",
       "      <td>0.368966</td>\n",
       "      <td>0.444828</td>\n",
       "      <td>0.748276</td>\n",
       "      <td>0.417241</td>\n",
       "      <td>0.258621</td>\n",
       "      <td>0.279310</td>\n",
       "      <td>0.151724</td>\n",
       "      <td>0.365517</td>\n",
       "    </tr>\n",
       "    <tr>\n",
       "      <th>True</th>\n",
       "      <td>2.709677</td>\n",
       "      <td>0.576893</td>\n",
       "      <td>0.861290</td>\n",
       "      <td>63.387097</td>\n",
       "      <td>210.903226</td>\n",
       "      <td>2.225806</td>\n",
       "      <td>4.290323</td>\n",
       "      <td>2.548387</td>\n",
       "      <td>0.612903</td>\n",
       "      <td>7.258065</td>\n",
       "      <td>...</td>\n",
       "      <td>1.000000</td>\n",
       "      <td>0.322581</td>\n",
       "      <td>0.483871</td>\n",
       "      <td>0.000000</td>\n",
       "      <td>0.774194</td>\n",
       "      <td>0.451613</td>\n",
       "      <td>0.290323</td>\n",
       "      <td>0.322581</td>\n",
       "      <td>0.064516</td>\n",
       "      <td>0.419355</td>\n",
       "    </tr>\n",
       "    <tr>\n",
       "      <th rowspan=\"2\" valign=\"top\">Indigenous</th>\n",
       "      <th>False</th>\n",
       "      <td>3.516340</td>\n",
       "      <td>0.588727</td>\n",
       "      <td>0.463072</td>\n",
       "      <td>65.931373</td>\n",
       "      <td>182.349673</td>\n",
       "      <td>2.470588</td>\n",
       "      <td>4.565359</td>\n",
       "      <td>2.928105</td>\n",
       "      <td>0.696078</td>\n",
       "      <td>7.562092</td>\n",
       "      <td>...</td>\n",
       "      <td>0.973856</td>\n",
       "      <td>0.411765</td>\n",
       "      <td>0.441176</td>\n",
       "      <td>0.352941</td>\n",
       "      <td>0.709150</td>\n",
       "      <td>0.349673</td>\n",
       "      <td>0.274510</td>\n",
       "      <td>0.254902</td>\n",
       "      <td>0.124183</td>\n",
       "      <td>0.379085</td>\n",
       "    </tr>\n",
       "    <tr>\n",
       "      <th>True</th>\n",
       "      <td>3.285714</td>\n",
       "      <td>0.564817</td>\n",
       "      <td>0.848571</td>\n",
       "      <td>64.285714</td>\n",
       "      <td>187.000000</td>\n",
       "      <td>2.542857</td>\n",
       "      <td>4.600000</td>\n",
       "      <td>2.942857</td>\n",
       "      <td>0.571429</td>\n",
       "      <td>7.028571</td>\n",
       "      <td>...</td>\n",
       "      <td>1.000000</td>\n",
       "      <td>0.314286</td>\n",
       "      <td>0.314286</td>\n",
       "      <td>0.000000</td>\n",
       "      <td>0.714286</td>\n",
       "      <td>0.371429</td>\n",
       "      <td>0.342857</td>\n",
       "      <td>0.257143</td>\n",
       "      <td>0.057143</td>\n",
       "      <td>0.285714</td>\n",
       "    </tr>\n",
       "    <tr>\n",
       "      <th rowspan=\"2\" valign=\"top\">NoAnswer</th>\n",
       "      <th>False</th>\n",
       "      <td>3.352423</td>\n",
       "      <td>0.611748</td>\n",
       "      <td>0.445815</td>\n",
       "      <td>65.748899</td>\n",
       "      <td>187.634361</td>\n",
       "      <td>2.656388</td>\n",
       "      <td>4.753304</td>\n",
       "      <td>3.158590</td>\n",
       "      <td>0.722467</td>\n",
       "      <td>7.704846</td>\n",
       "      <td>...</td>\n",
       "      <td>0.973568</td>\n",
       "      <td>0.405286</td>\n",
       "      <td>0.378855</td>\n",
       "      <td>0.374449</td>\n",
       "      <td>0.722467</td>\n",
       "      <td>0.422907</td>\n",
       "      <td>0.299559</td>\n",
       "      <td>0.281938</td>\n",
       "      <td>0.145374</td>\n",
       "      <td>0.365639</td>\n",
       "    </tr>\n",
       "    <tr>\n",
       "      <th>True</th>\n",
       "      <td>3.888889</td>\n",
       "      <td>0.638686</td>\n",
       "      <td>0.829630</td>\n",
       "      <td>67.222222</td>\n",
       "      <td>219.740741</td>\n",
       "      <td>2.185185</td>\n",
       "      <td>4.185185</td>\n",
       "      <td>2.629630</td>\n",
       "      <td>0.703704</td>\n",
       "      <td>7.851852</td>\n",
       "      <td>...</td>\n",
       "      <td>0.925926</td>\n",
       "      <td>0.518519</td>\n",
       "      <td>0.370370</td>\n",
       "      <td>0.000000</td>\n",
       "      <td>0.814815</td>\n",
       "      <td>0.592593</td>\n",
       "      <td>0.296296</td>\n",
       "      <td>0.296296</td>\n",
       "      <td>0.074074</td>\n",
       "      <td>0.555556</td>\n",
       "    </tr>\n",
       "    <tr>\n",
       "      <th rowspan=\"12\" valign=\"top\">TheyThem</th>\n",
       "      <th rowspan=\"2\" valign=\"top\">Asian</th>\n",
       "      <th>False</th>\n",
       "      <td>3.000000</td>\n",
       "      <td>0.575758</td>\n",
       "      <td>0.472222</td>\n",
       "      <td>68.750000</td>\n",
       "      <td>151.388889</td>\n",
       "      <td>2.222222</td>\n",
       "      <td>4.388889</td>\n",
       "      <td>2.777778</td>\n",
       "      <td>0.666667</td>\n",
       "      <td>7.500000</td>\n",
       "      <td>...</td>\n",
       "      <td>0.944444</td>\n",
       "      <td>0.444444</td>\n",
       "      <td>0.250000</td>\n",
       "      <td>0.444444</td>\n",
       "      <td>0.638889</td>\n",
       "      <td>0.305556</td>\n",
       "      <td>0.138889</td>\n",
       "      <td>0.194444</td>\n",
       "      <td>0.055556</td>\n",
       "      <td>0.333333</td>\n",
       "    </tr>\n",
       "    <tr>\n",
       "      <th>True</th>\n",
       "      <td>2.000000</td>\n",
       "      <td>0.510937</td>\n",
       "      <td>0.800000</td>\n",
       "      <td>67.500000</td>\n",
       "      <td>101.500000</td>\n",
       "      <td>6.000000</td>\n",
       "      <td>8.000000</td>\n",
       "      <td>6.500000</td>\n",
       "      <td>0.000000</td>\n",
       "      <td>6.000000</td>\n",
       "      <td>...</td>\n",
       "      <td>1.000000</td>\n",
       "      <td>1.000000</td>\n",
       "      <td>0.000000</td>\n",
       "      <td>0.000000</td>\n",
       "      <td>0.500000</td>\n",
       "      <td>0.000000</td>\n",
       "      <td>0.500000</td>\n",
       "      <td>0.000000</td>\n",
       "      <td>0.000000</td>\n",
       "      <td>0.000000</td>\n",
       "    </tr>\n",
       "    <tr>\n",
       "      <th rowspan=\"2\" valign=\"top\">Black</th>\n",
       "      <th>False</th>\n",
       "      <td>2.642857</td>\n",
       "      <td>0.606716</td>\n",
       "      <td>0.464286</td>\n",
       "      <td>67.857143</td>\n",
       "      <td>163.261905</td>\n",
       "      <td>3.023810</td>\n",
       "      <td>5.023810</td>\n",
       "      <td>3.619048</td>\n",
       "      <td>0.690476</td>\n",
       "      <td>7.714286</td>\n",
       "      <td>...</td>\n",
       "      <td>0.952381</td>\n",
       "      <td>0.380952</td>\n",
       "      <td>0.333333</td>\n",
       "      <td>0.428571</td>\n",
       "      <td>0.666667</td>\n",
       "      <td>0.238095</td>\n",
       "      <td>0.309524</td>\n",
       "      <td>0.238095</td>\n",
       "      <td>0.095238</td>\n",
       "      <td>0.214286</td>\n",
       "    </tr>\n",
       "    <tr>\n",
       "      <th>True</th>\n",
       "      <td>3.000000</td>\n",
       "      <td>0.661668</td>\n",
       "      <td>0.800000</td>\n",
       "      <td>67.500000</td>\n",
       "      <td>101.500000</td>\n",
       "      <td>3.000000</td>\n",
       "      <td>6.000000</td>\n",
       "      <td>3.500000</td>\n",
       "      <td>1.000000</td>\n",
       "      <td>8.000000</td>\n",
       "      <td>...</td>\n",
       "      <td>1.000000</td>\n",
       "      <td>0.000000</td>\n",
       "      <td>0.000000</td>\n",
       "      <td>0.000000</td>\n",
       "      <td>0.500000</td>\n",
       "      <td>0.000000</td>\n",
       "      <td>0.000000</td>\n",
       "      <td>0.500000</td>\n",
       "      <td>0.000000</td>\n",
       "      <td>0.500000</td>\n",
       "    </tr>\n",
       "    <tr>\n",
       "      <th rowspan=\"2\" valign=\"top\">Caucasian</th>\n",
       "      <th>False</th>\n",
       "      <td>3.346225</td>\n",
       "      <td>0.594766</td>\n",
       "      <td>0.246225</td>\n",
       "      <td>65.552486</td>\n",
       "      <td>180.863720</td>\n",
       "      <td>2.300184</td>\n",
       "      <td>4.357274</td>\n",
       "      <td>2.825046</td>\n",
       "      <td>0.712707</td>\n",
       "      <td>7.773481</td>\n",
       "      <td>...</td>\n",
       "      <td>0.981584</td>\n",
       "      <td>0.384899</td>\n",
       "      <td>0.405157</td>\n",
       "      <td>0.383057</td>\n",
       "      <td>0.703499</td>\n",
       "      <td>0.373849</td>\n",
       "      <td>0.252302</td>\n",
       "      <td>0.289134</td>\n",
       "      <td>0.257827</td>\n",
       "      <td>0.351750</td>\n",
       "    </tr>\n",
       "    <tr>\n",
       "      <th>True</th>\n",
       "      <td>3.750000</td>\n",
       "      <td>0.614249</td>\n",
       "      <td>0.635000</td>\n",
       "      <td>70.000000</td>\n",
       "      <td>184.650000</td>\n",
       "      <td>2.666667</td>\n",
       "      <td>4.800000</td>\n",
       "      <td>3.166667</td>\n",
       "      <td>0.733333</td>\n",
       "      <td>7.683333</td>\n",
       "      <td>...</td>\n",
       "      <td>0.900000</td>\n",
       "      <td>0.450000</td>\n",
       "      <td>0.383333</td>\n",
       "      <td>0.000000</td>\n",
       "      <td>0.733333</td>\n",
       "      <td>0.383333</td>\n",
       "      <td>0.200000</td>\n",
       "      <td>0.183333</td>\n",
       "      <td>0.033333</td>\n",
       "      <td>0.383333</td>\n",
       "    </tr>\n",
       "    <tr>\n",
       "      <th rowspan=\"2\" valign=\"top\">HispanicLatinx</th>\n",
       "      <th>False</th>\n",
       "      <td>3.566667</td>\n",
       "      <td>0.616067</td>\n",
       "      <td>0.453333</td>\n",
       "      <td>64.000000</td>\n",
       "      <td>194.600000</td>\n",
       "      <td>2.433333</td>\n",
       "      <td>4.500000</td>\n",
       "      <td>2.833333</td>\n",
       "      <td>0.800000</td>\n",
       "      <td>7.900000</td>\n",
       "      <td>...</td>\n",
       "      <td>1.000000</td>\n",
       "      <td>0.433333</td>\n",
       "      <td>0.333333</td>\n",
       "      <td>0.433333</td>\n",
       "      <td>0.733333</td>\n",
       "      <td>0.500000</td>\n",
       "      <td>0.300000</td>\n",
       "      <td>0.233333</td>\n",
       "      <td>0.200000</td>\n",
       "      <td>0.400000</td>\n",
       "    </tr>\n",
       "    <tr>\n",
       "      <th>True</th>\n",
       "      <td>4.000000</td>\n",
       "      <td>0.664441</td>\n",
       "      <td>0.840000</td>\n",
       "      <td>66.000000</td>\n",
       "      <td>141.400000</td>\n",
       "      <td>2.000000</td>\n",
       "      <td>4.000000</td>\n",
       "      <td>2.600000</td>\n",
       "      <td>0.800000</td>\n",
       "      <td>8.000000</td>\n",
       "      <td>...</td>\n",
       "      <td>1.000000</td>\n",
       "      <td>0.600000</td>\n",
       "      <td>0.600000</td>\n",
       "      <td>0.000000</td>\n",
       "      <td>0.600000</td>\n",
       "      <td>0.600000</td>\n",
       "      <td>0.200000</td>\n",
       "      <td>0.200000</td>\n",
       "      <td>0.000000</td>\n",
       "      <td>0.000000</td>\n",
       "    </tr>\n",
       "    <tr>\n",
       "      <th rowspan=\"2\" valign=\"top\">Indigenous</th>\n",
       "      <th>False</th>\n",
       "      <td>3.433333</td>\n",
       "      <td>0.593761</td>\n",
       "      <td>0.436667</td>\n",
       "      <td>64.500000</td>\n",
       "      <td>181.300000</td>\n",
       "      <td>2.700000</td>\n",
       "      <td>4.833333</td>\n",
       "      <td>3.066667</td>\n",
       "      <td>0.800000</td>\n",
       "      <td>7.666667</td>\n",
       "      <td>...</td>\n",
       "      <td>1.000000</td>\n",
       "      <td>0.466667</td>\n",
       "      <td>0.300000</td>\n",
       "      <td>0.600000</td>\n",
       "      <td>0.700000</td>\n",
       "      <td>0.400000</td>\n",
       "      <td>0.233333</td>\n",
       "      <td>0.366667</td>\n",
       "      <td>0.066667</td>\n",
       "      <td>0.400000</td>\n",
       "    </tr>\n",
       "    <tr>\n",
       "      <th>True</th>\n",
       "      <td>1.666667</td>\n",
       "      <td>0.788999</td>\n",
       "      <td>0.833333</td>\n",
       "      <td>65.000000</td>\n",
       "      <td>168.000000</td>\n",
       "      <td>2.000000</td>\n",
       "      <td>4.000000</td>\n",
       "      <td>3.000000</td>\n",
       "      <td>1.000000</td>\n",
       "      <td>9.666667</td>\n",
       "      <td>...</td>\n",
       "      <td>1.000000</td>\n",
       "      <td>0.666667</td>\n",
       "      <td>0.666667</td>\n",
       "      <td>0.000000</td>\n",
       "      <td>0.666667</td>\n",
       "      <td>0.666667</td>\n",
       "      <td>0.333333</td>\n",
       "      <td>0.666667</td>\n",
       "      <td>0.000000</td>\n",
       "      <td>0.333333</td>\n",
       "    </tr>\n",
       "    <tr>\n",
       "      <th rowspan=\"2\" valign=\"top\">NoAnswer</th>\n",
       "      <th>False</th>\n",
       "      <td>3.888889</td>\n",
       "      <td>0.607678</td>\n",
       "      <td>0.466667</td>\n",
       "      <td>65.000000</td>\n",
       "      <td>168.000000</td>\n",
       "      <td>2.333333</td>\n",
       "      <td>4.333333</td>\n",
       "      <td>2.888889</td>\n",
       "      <td>0.666667</td>\n",
       "      <td>7.666667</td>\n",
       "      <td>...</td>\n",
       "      <td>1.000000</td>\n",
       "      <td>0.555556</td>\n",
       "      <td>0.370370</td>\n",
       "      <td>0.407407</td>\n",
       "      <td>0.666667</td>\n",
       "      <td>0.259259</td>\n",
       "      <td>0.111111</td>\n",
       "      <td>0.370370</td>\n",
       "      <td>0.074074</td>\n",
       "      <td>0.444444</td>\n",
       "    </tr>\n",
       "    <tr>\n",
       "      <th>True</th>\n",
       "      <td>3.000000</td>\n",
       "      <td>0.502641</td>\n",
       "      <td>0.816667</td>\n",
       "      <td>65.000000</td>\n",
       "      <td>168.000000</td>\n",
       "      <td>2.666667</td>\n",
       "      <td>4.666667</td>\n",
       "      <td>3.166667</td>\n",
       "      <td>0.166667</td>\n",
       "      <td>6.166667</td>\n",
       "      <td>...</td>\n",
       "      <td>1.000000</td>\n",
       "      <td>0.166667</td>\n",
       "      <td>0.333333</td>\n",
       "      <td>0.000000</td>\n",
       "      <td>0.666667</td>\n",
       "      <td>0.333333</td>\n",
       "      <td>0.000000</td>\n",
       "      <td>0.000000</td>\n",
       "      <td>0.000000</td>\n",
       "      <td>0.500000</td>\n",
       "    </tr>\n",
       "  </tbody>\n",
       "</table>\n",
       "<p>48 rows × 37 columns</p>\n",
       "</div>"
      ],
      "text/plain": [
       "                                                   level  openness  exclusion  \\\n",
       "pronouns ethnicity      person_with_disability                                  \n",
       "HeHim    Asian          False                   3.458924  0.576606   0.253541   \n",
       "                        True                    3.113208  0.607167   0.645283   \n",
       "         Black          False                   3.477193  0.605636   0.244211   \n",
       "                        True                    3.393939  0.601333   0.715152   \n",
       "         Caucasian      False                   3.377163  0.600580   0.043246   \n",
       "                        True                    3.077947  0.610938   0.449049   \n",
       "         HispanicLatinx False                   3.371601  0.605911   0.240483   \n",
       "                        True                    3.176471  0.570366   0.614706   \n",
       "         Indigenous     False                   3.250712  0.579765   0.243590   \n",
       "                        True                    3.193548  0.537226   0.625806   \n",
       "         NoAnswer       False                   3.462745  0.601586   0.240784   \n",
       "                        True                    3.450000  0.646359   0.655000   \n",
       "NoAnswer Asian          False                   3.553191  0.558346   0.438298   \n",
       "                        True                    3.000000  0.515669   0.833333   \n",
       "         Black          False                   4.043478  0.654293   0.469565   \n",
       "                        True                    3.250000  0.516493   0.875000   \n",
       "         Caucasian      False                   3.375246  0.596966   0.250295   \n",
       "                        True                    2.976190  0.619285   0.629762   \n",
       "         HispanicLatinx False                   2.909091  0.557796   0.445455   \n",
       "                        True                    2.000000  0.445675   0.925000   \n",
       "         Indigenous     False                   2.826087  0.527597   0.421739   \n",
       "                        True                    2.666667  0.674788   0.811111   \n",
       "         NoAnswer       False                   3.178571  0.587145   0.435714   \n",
       "                        True                    1.000000  0.355481   0.900000   \n",
       "SheHer   Asian          False                   3.339564  0.604568   0.449533   \n",
       "                        True                    3.028571  0.655649   0.842857   \n",
       "         Black          False                   3.468085  0.595222   0.448227   \n",
       "                        True                    3.317073  0.611843   0.865854   \n",
       "         Caucasian      False                   3.444726  0.599513   0.243840   \n",
       "                        True                    3.196998  0.599475   0.644278   \n",
       "         HispanicLatinx False                   3.286207  0.606077   0.444138   \n",
       "                        True                    2.709677  0.576893   0.861290   \n",
       "         Indigenous     False                   3.516340  0.588727   0.463072   \n",
       "                        True                    3.285714  0.564817   0.848571   \n",
       "         NoAnswer       False                   3.352423  0.611748   0.445815   \n",
       "                        True                    3.888889  0.638686   0.829630   \n",
       "TheyThem Asian          False                   3.000000  0.575758   0.472222   \n",
       "                        True                    2.000000  0.510937   0.800000   \n",
       "         Black          False                   2.642857  0.606716   0.464286   \n",
       "                        True                    3.000000  0.661668   0.800000   \n",
       "         Caucasian      False                   3.346225  0.594766   0.246225   \n",
       "                        True                    3.750000  0.614249   0.635000   \n",
       "         HispanicLatinx False                   3.566667  0.616067   0.453333   \n",
       "                        True                    4.000000  0.664441   0.840000   \n",
       "         Indigenous     False                   3.433333  0.593761   0.436667   \n",
       "                        True                    1.666667  0.788999   0.833333   \n",
       "         NoAnswer       False                   3.888889  0.607678   0.466667   \n",
       "                        True                    3.000000  0.502641   0.816667   \n",
       "\n",
       "                                                 duration      module  \\\n",
       "pronouns ethnicity      person_with_disability                          \n",
       "HeHim    Asian          False                   67.988669  173.288952   \n",
       "                        True                    67.358491  161.735849   \n",
       "         Black          False                   66.210526  177.807018   \n",
       "                        True                    68.181818  174.060606   \n",
       "         Caucasian      False                   65.977206  181.803504   \n",
       "                        True                    65.589354  180.773764   \n",
       "         HispanicLatinx False                   66.435045  184.081571   \n",
       "                        True                    63.970588  195.382353   \n",
       "         Indigenous     False                   66.025641  183.353276   \n",
       "                        True                    62.903226  223.774194   \n",
       "         NoAnswer       False                   65.235294  173.478431   \n",
       "                        True                    63.750000  201.250000   \n",
       "NoAnswer Asian          False                   69.255319  182.170213   \n",
       "                        True                    65.000000  168.000000   \n",
       "         Black          False                   72.391304  231.652174   \n",
       "                        True                    63.750000  201.250000   \n",
       "         Caucasian      False                   66.689587  181.858546   \n",
       "                        True                    66.250000  170.380952   \n",
       "         HispanicLatinx False                   63.181818  216.363636   \n",
       "                        True                    63.750000  201.250000   \n",
       "         Indigenous     False                   68.478261  205.608696   \n",
       "                        True                    61.666667  256.666667   \n",
       "         NoAnswer       False                   63.750000  201.250000   \n",
       "                        True                    60.000000  301.000000   \n",
       "SheHer   Asian          False                   67.196262  184.171340   \n",
       "                        True                    63.857143  198.400000   \n",
       "         Black          False                   65.691489  181.446809   \n",
       "                        True                    67.682927  169.634146   \n",
       "         Caucasian      False                   66.022152  181.222574   \n",
       "                        True                    65.825516  179.733583   \n",
       "         HispanicLatinx False                   65.431034  197.817241   \n",
       "                        True                    63.387097  210.903226   \n",
       "         Indigenous     False                   65.931373  182.349673   \n",
       "                        True                    64.285714  187.000000   \n",
       "         NoAnswer       False                   65.748899  187.634361   \n",
       "                        True                    67.222222  219.740741   \n",
       "TheyThem Asian          False                   68.750000  151.388889   \n",
       "                        True                    67.500000  101.500000   \n",
       "         Black          False                   67.857143  163.261905   \n",
       "                        True                    67.500000  101.500000   \n",
       "         Caucasian      False                   65.552486  180.863720   \n",
       "                        True                    70.000000  184.650000   \n",
       "         HispanicLatinx False                   64.000000  194.600000   \n",
       "                        True                    66.000000  141.400000   \n",
       "         Indigenous     False                   64.500000  181.300000   \n",
       "                        True                    65.000000  168.000000   \n",
       "         NoAnswer       False                   65.000000  168.000000   \n",
       "                        True                    65.000000  168.000000   \n",
       "\n",
       "                                                current_skill  desired_skill  \\\n",
       "pronouns ethnicity      person_with_disability                                 \n",
       "HeHim    Asian          False                        2.606232       4.648725   \n",
       "                        True                         2.792453       4.830189   \n",
       "         Black          False                        2.533333       4.596491   \n",
       "                        True                         2.848485       5.030303   \n",
       "         Caucasian      False                        2.495990       4.556564   \n",
       "                        True                         2.482890       4.547529   \n",
       "         HispanicLatinx False                        2.462236       4.537764   \n",
       "                        True                         2.352941       4.411765   \n",
       "         Indigenous     False                        2.396011       4.475783   \n",
       "                        True                         2.290323       4.290323   \n",
       "         NoAnswer       False                        2.447059       4.501961   \n",
       "                        True                         2.700000       4.800000   \n",
       "NoAnswer Asian          False                        2.595745       4.659574   \n",
       "                        True                         0.666667       2.666667   \n",
       "         Black          False                        2.347826       4.391304   \n",
       "                        True                         2.750000       4.750000   \n",
       "         Caucasian      False                        2.508841       4.559921   \n",
       "                        True                         2.416667       4.452381   \n",
       "         HispanicLatinx False                        2.636364       4.818182   \n",
       "                        True                         5.500000       7.500000   \n",
       "         Indigenous     False                        2.956522       5.000000   \n",
       "                        True                         3.222222       5.222222   \n",
       "         NoAnswer       False                        3.250000       5.250000   \n",
       "                        True                         3.000000       5.000000   \n",
       "SheHer   Asian          False                        2.470405       4.529595   \n",
       "                        True                         2.857143       4.857143   \n",
       "         Black          False                        2.219858       4.283688   \n",
       "                        True                         2.731707       4.902439   \n",
       "         Caucasian      False                        2.512025       4.574051   \n",
       "                        True                         2.529081       4.574109   \n",
       "         HispanicLatinx False                        2.524138       4.558621   \n",
       "                        True                         2.225806       4.290323   \n",
       "         Indigenous     False                        2.470588       4.565359   \n",
       "                        True                         2.542857       4.600000   \n",
       "         NoAnswer       False                        2.656388       4.753304   \n",
       "                        True                         2.185185       4.185185   \n",
       "TheyThem Asian          False                        2.222222       4.388889   \n",
       "                        True                         6.000000       8.000000   \n",
       "         Black          False                        3.023810       5.023810   \n",
       "                        True                         3.000000       6.000000   \n",
       "         Caucasian      False                        2.300184       4.357274   \n",
       "                        True                         2.666667       4.800000   \n",
       "         HispanicLatinx False                        2.433333       4.500000   \n",
       "                        True                         2.000000       4.000000   \n",
       "         Indigenous     False                        2.700000       4.833333   \n",
       "                        True                         2.000000       4.000000   \n",
       "         NoAnswer       False                        2.333333       4.333333   \n",
       "                        True                         2.666667       4.666667   \n",
       "\n",
       "                                                final_skill  recommend  \\\n",
       "pronouns ethnicity      person_with_disability                           \n",
       "HeHim    Asian          False                      3.073654   0.679887   \n",
       "                        True                       3.396226   0.660377   \n",
       "         Black          False                      3.070175   0.778947   \n",
       "                        True                       3.272727   0.666667   \n",
       "         Caucasian      False                      3.029337   0.749683   \n",
       "                        True                       2.984791   0.749049   \n",
       "         HispanicLatinx False                      3.000000   0.767372   \n",
       "                        True                       2.794118   0.588235   \n",
       "         Indigenous     False                      2.894587   0.678063   \n",
       "                        True                       2.548387   0.580645   \n",
       "         NoAnswer       False                      2.972549   0.792157   \n",
       "                        True                       3.400000   0.750000   \n",
       "NoAnswer Asian          False                      3.021277   0.617021   \n",
       "                        True                       1.000000   0.333333   \n",
       "         Black          False                      2.826087   0.913043   \n",
       "                        True                       3.000000   0.500000   \n",
       "         Caucasian      False                      3.055010   0.732809   \n",
       "                        True                       2.940476   0.726190   \n",
       "         HispanicLatinx False                      2.939394   0.727273   \n",
       "                        True                       5.750000   0.250000   \n",
       "         Indigenous     False                      3.347826   0.434783   \n",
       "                        True                       3.888889   0.777778   \n",
       "         NoAnswer       False                      3.714286   0.607143   \n",
       "                        True                       3.000000   0.000000   \n",
       "SheHer   Asian          False                      2.956386   0.722741   \n",
       "                        True                       3.257143   0.914286   \n",
       "         Black          False                      2.726950   0.687943   \n",
       "                        True                       3.219512   0.634146   \n",
       "         Caucasian      False                      3.032911   0.744937   \n",
       "                        True                       2.983114   0.709193   \n",
       "         HispanicLatinx False                      3.027586   0.741379   \n",
       "                        True                       2.548387   0.612903   \n",
       "         Indigenous     False                      2.928105   0.696078   \n",
       "                        True                       2.942857   0.571429   \n",
       "         NoAnswer       False                      3.158590   0.722467   \n",
       "                        True                       2.629630   0.703704   \n",
       "TheyThem Asian          False                      2.777778   0.666667   \n",
       "                        True                       6.500000   0.000000   \n",
       "         Black          False                      3.619048   0.690476   \n",
       "                        True                       3.500000   1.000000   \n",
       "         Caucasian      False                      2.825046   0.712707   \n",
       "                        True                       3.166667   0.733333   \n",
       "         HispanicLatinx False                      2.833333   0.800000   \n",
       "                        True                       2.600000   0.800000   \n",
       "         Indigenous     False                      3.066667   0.800000   \n",
       "                        True                       3.000000   1.000000   \n",
       "         NoAnswer       False                      2.888889   0.666667   \n",
       "                        True                       3.166667   0.166667   \n",
       "\n",
       "                                                  rating  ...  \\\n",
       "pronouns ethnicity      person_with_disability            ...   \n",
       "HeHim    Asian          False                   7.541076  ...   \n",
       "                        True                    7.754717  ...   \n",
       "         Black          False                   7.901754  ...   \n",
       "                        True                    7.696970  ...   \n",
       "         Caucasian      False                   7.848881  ...   \n",
       "                        True                    7.800380  ...   \n",
       "         HispanicLatinx False                   7.861027  ...   \n",
       "                        True                    7.323529  ...   \n",
       "         Indigenous     False                   7.626781  ...   \n",
       "                        True                    7.064516  ...   \n",
       "         NoAnswer       False                   7.874510  ...   \n",
       "                        True                    8.200000  ...   \n",
       "NoAnswer Asian          False                   7.127660  ...   \n",
       "                        True                    6.666667  ...   \n",
       "         Black          False                   8.260870  ...   \n",
       "                        True                    6.500000  ...   \n",
       "         Caucasian      False                   7.791749  ...   \n",
       "                        True                    7.833333  ...   \n",
       "         HispanicLatinx False                   7.272727  ...   \n",
       "                        True                    6.000000  ...   \n",
       "         Indigenous     False                   6.782609  ...   \n",
       "                        True                    8.333333  ...   \n",
       "         NoAnswer       False                   7.785714  ...   \n",
       "                        True                    5.000000  ...   \n",
       "SheHer   Asian          False                   7.738318  ...   \n",
       "                        True                    8.200000  ...   \n",
       "         Black          False                   7.553191  ...   \n",
       "                        True                    7.536585  ...   \n",
       "         Caucasian      False                   7.809916  ...   \n",
       "                        True                    7.589118  ...   \n",
       "         HispanicLatinx False                   7.810345  ...   \n",
       "                        True                    7.258065  ...   \n",
       "         Indigenous     False                   7.562092  ...   \n",
       "                        True                    7.028571  ...   \n",
       "         NoAnswer       False                   7.704846  ...   \n",
       "                        True                    7.851852  ...   \n",
       "TheyThem Asian          False                   7.500000  ...   \n",
       "                        True                    6.000000  ...   \n",
       "         Black          False                   7.714286  ...   \n",
       "                        True                    8.000000  ...   \n",
       "         Caucasian      False                   7.773481  ...   \n",
       "                        True                    7.683333  ...   \n",
       "         HispanicLatinx False                   7.900000  ...   \n",
       "                        True                    8.000000  ...   \n",
       "         Indigenous     False                   7.666667  ...   \n",
       "                        True                    9.666667  ...   \n",
       "         NoAnswer       False                   7.666667  ...   \n",
       "                        True                    6.166667  ...   \n",
       "\n",
       "                                                digital_content  \\\n",
       "pronouns ethnicity      person_with_disability                    \n",
       "HeHim    Asian          False                          0.943343   \n",
       "                        True                           0.962264   \n",
       "         Black          False                          0.971930   \n",
       "                        True                           0.939394   \n",
       "         Caucasian      False                          0.973407   \n",
       "                        True                           0.980989   \n",
       "         HispanicLatinx False                          0.963746   \n",
       "                        True                           1.000000   \n",
       "         Indigenous     False                          0.971510   \n",
       "                        True                           1.000000   \n",
       "         NoAnswer       False                          0.992157   \n",
       "                        True                           1.000000   \n",
       "NoAnswer Asian          False                          0.914894   \n",
       "                        True                           1.000000   \n",
       "         Black          False                          0.826087   \n",
       "                        True                           1.000000   \n",
       "         Caucasian      False                          0.960707   \n",
       "                        True                           0.976190   \n",
       "         HispanicLatinx False                          1.000000   \n",
       "                        True                           1.000000   \n",
       "         Indigenous     False                          0.913043   \n",
       "                        True                           1.000000   \n",
       "         NoAnswer       False                          1.000000   \n",
       "                        True                           1.000000   \n",
       "SheHer   Asian          False                          0.950156   \n",
       "                        True                           1.000000   \n",
       "         Black          False                          0.978723   \n",
       "                        True                           0.951220   \n",
       "         Caucasian      False                          0.972996   \n",
       "                        True                           0.977486   \n",
       "         HispanicLatinx False                          0.972414   \n",
       "                        True                           1.000000   \n",
       "         Indigenous     False                          0.973856   \n",
       "                        True                           1.000000   \n",
       "         NoAnswer       False                          0.973568   \n",
       "                        True                           0.925926   \n",
       "TheyThem Asian          False                          0.944444   \n",
       "                        True                           1.000000   \n",
       "         Black          False                          0.952381   \n",
       "                        True                           1.000000   \n",
       "         Caucasian      False                          0.981584   \n",
       "                        True                           0.900000   \n",
       "         HispanicLatinx False                          1.000000   \n",
       "                        True                           1.000000   \n",
       "         Indigenous     False                          1.000000   \n",
       "                        True                           1.000000   \n",
       "         NoAnswer       False                          1.000000   \n",
       "                        True                           1.000000   \n",
       "\n",
       "                                                digital_smooth  \\\n",
       "pronouns ethnicity      person_with_disability                   \n",
       "HeHim    Asian          False                         0.373938   \n",
       "                        True                          0.264151   \n",
       "         Black          False                         0.414035   \n",
       "                        True                          0.484848   \n",
       "         Caucasian      False                         0.393837   \n",
       "                        True                          0.406844   \n",
       "         HispanicLatinx False                         0.410876   \n",
       "                        True                          0.529412   \n",
       "         Indigenous     False                         0.410256   \n",
       "                        True                          0.419355   \n",
       "         NoAnswer       False                         0.450980   \n",
       "                        True                          0.600000   \n",
       "NoAnswer Asian          False                         0.340426   \n",
       "                        True                          0.666667   \n",
       "         Black          False                         0.478261   \n",
       "                        True                          0.250000   \n",
       "         Caucasian      False                         0.377210   \n",
       "                        True                          0.333333   \n",
       "         HispanicLatinx False                         0.575758   \n",
       "                        True                          0.250000   \n",
       "         Indigenous     False                         0.434783   \n",
       "                        True                          0.555556   \n",
       "         NoAnswer       False                         0.428571   \n",
       "                        True                          0.000000   \n",
       "SheHer   Asian          False                         0.404984   \n",
       "                        True                          0.457143   \n",
       "         Black          False                         0.400709   \n",
       "                        True                          0.365854   \n",
       "         Caucasian      False                         0.402743   \n",
       "                        True                          0.412758   \n",
       "         HispanicLatinx False                         0.448276   \n",
       "                        True                          0.322581   \n",
       "         Indigenous     False                         0.411765   \n",
       "                        True                          0.314286   \n",
       "         NoAnswer       False                         0.405286   \n",
       "                        True                          0.518519   \n",
       "TheyThem Asian          False                         0.444444   \n",
       "                        True                          1.000000   \n",
       "         Black          False                         0.380952   \n",
       "                        True                          0.000000   \n",
       "         Caucasian      False                         0.384899   \n",
       "                        True                          0.450000   \n",
       "         HispanicLatinx False                         0.433333   \n",
       "                        True                          0.600000   \n",
       "         Indigenous     False                         0.466667   \n",
       "                        True                          0.666667   \n",
       "         NoAnswer       False                         0.555556   \n",
       "                        True                          0.166667   \n",
       "\n",
       "                                                digital_professional  \\\n",
       "pronouns ethnicity      person_with_disability                         \n",
       "HeHim    Asian          False                               0.339943   \n",
       "                        True                                0.320755   \n",
       "         Black          False                               0.375439   \n",
       "                        True                                0.393939   \n",
       "         Caucasian      False                               0.399747   \n",
       "                        True                                0.433460   \n",
       "         HispanicLatinx False                               0.359517   \n",
       "                        True                                0.411765   \n",
       "         Indigenous     False                               0.356125   \n",
       "                        True                                0.354839   \n",
       "         NoAnswer       False                               0.372549   \n",
       "                        True                                0.400000   \n",
       "NoAnswer Asian          False                               0.382979   \n",
       "                        True                                0.000000   \n",
       "         Black          False                               0.478261   \n",
       "                        True                                0.000000   \n",
       "         Caucasian      False                               0.406680   \n",
       "                        True                                0.369048   \n",
       "         HispanicLatinx False                               0.212121   \n",
       "                        True                                0.250000   \n",
       "         Indigenous     False                               0.347826   \n",
       "                        True                                0.555556   \n",
       "         NoAnswer       False                               0.428571   \n",
       "                        True                                0.000000   \n",
       "SheHer   Asian          False                               0.429907   \n",
       "                        True                                0.542857   \n",
       "         Black          False                               0.429078   \n",
       "                        True                                0.390244   \n",
       "         Caucasian      False                               0.399789   \n",
       "                        True                                0.390244   \n",
       "         HispanicLatinx False                               0.368966   \n",
       "                        True                                0.483871   \n",
       "         Indigenous     False                               0.441176   \n",
       "                        True                                0.314286   \n",
       "         NoAnswer       False                               0.378855   \n",
       "                        True                                0.370370   \n",
       "TheyThem Asian          False                               0.250000   \n",
       "                        True                                0.000000   \n",
       "         Black          False                               0.333333   \n",
       "                        True                                0.000000   \n",
       "         Caucasian      False                               0.405157   \n",
       "                        True                                0.383333   \n",
       "         HispanicLatinx False                               0.333333   \n",
       "                        True                                0.600000   \n",
       "         Indigenous     False                               0.300000   \n",
       "                        True                                0.666667   \n",
       "         NoAnswer       False                               0.370370   \n",
       "                        True                                0.333333   \n",
       "\n",
       "                                                digital_accessible  \\\n",
       "pronouns ethnicity      person_with_disability                       \n",
       "HeHim    Asian          False                             0.373938   \n",
       "                        True                              0.000000   \n",
       "         Black          False                             0.403509   \n",
       "                        True                              0.000000   \n",
       "         Caucasian      False                             0.396370   \n",
       "                        True                              0.000000   \n",
       "         HispanicLatinx False                             0.395770   \n",
       "                        True                              0.000000   \n",
       "         Indigenous     False                             0.396011   \n",
       "                        True                              0.000000   \n",
       "         NoAnswer       False                             0.415686   \n",
       "                        True                              0.000000   \n",
       "NoAnswer Asian          False                             0.361702   \n",
       "                        True                              0.000000   \n",
       "         Black          False                             0.347826   \n",
       "                        True                              0.000000   \n",
       "         Caucasian      False                             0.379175   \n",
       "                        True                              0.000000   \n",
       "         HispanicLatinx False                             0.272727   \n",
       "                        True                              0.000000   \n",
       "         Indigenous     False                             0.391304   \n",
       "                        True                              0.000000   \n",
       "         NoAnswer       False                             0.285714   \n",
       "                        True                              0.000000   \n",
       "SheHer   Asian          False                             0.370717   \n",
       "                        True                              0.000000   \n",
       "         Black          False                             0.343972   \n",
       "                        True                              0.000000   \n",
       "         Caucasian      False                             0.394515   \n",
       "                        True                              0.000000   \n",
       "         HispanicLatinx False                             0.444828   \n",
       "                        True                              0.000000   \n",
       "         Indigenous     False                             0.352941   \n",
       "                        True                              0.000000   \n",
       "         NoAnswer       False                             0.374449   \n",
       "                        True                              0.000000   \n",
       "TheyThem Asian          False                             0.444444   \n",
       "                        True                              0.000000   \n",
       "         Black          False                             0.428571   \n",
       "                        True                              0.000000   \n",
       "         Caucasian      False                             0.383057   \n",
       "                        True                              0.000000   \n",
       "         HispanicLatinx False                             0.433333   \n",
       "                        True                              0.000000   \n",
       "         Indigenous     False                             0.600000   \n",
       "                        True                              0.000000   \n",
       "         NoAnswer       False                             0.407407   \n",
       "                        True                              0.000000   \n",
       "\n",
       "                                                personnel_present  \\\n",
       "pronouns ethnicity      person_with_disability                      \n",
       "HeHim    Asian          False                            0.694051   \n",
       "                        True                             0.660377   \n",
       "         Black          False                            0.698246   \n",
       "                        True                             0.696970   \n",
       "         Caucasian      False                            0.707894   \n",
       "                        True                             0.703422   \n",
       "         HispanicLatinx False                            0.716012   \n",
       "                        True                             0.735294   \n",
       "         Indigenous     False                            0.712251   \n",
       "                        True                             0.806452   \n",
       "         NoAnswer       False                            0.682353   \n",
       "                        True                             0.750000   \n",
       "NoAnswer Asian          False                            0.723404   \n",
       "                        True                             0.666667   \n",
       "         Black          False                            0.869565   \n",
       "                        True                             0.750000   \n",
       "         Caucasian      False                            0.711198   \n",
       "                        True                             0.678571   \n",
       "         HispanicLatinx False                            0.787879   \n",
       "                        True                             0.750000   \n",
       "         Indigenous     False                            0.782609   \n",
       "                        True                             0.888889   \n",
       "         NoAnswer       False                            0.750000   \n",
       "                        True                             1.000000   \n",
       "SheHer   Asian          False                            0.719626   \n",
       "                        True                             0.742857   \n",
       "         Black          False                            0.705674   \n",
       "                        True                             0.682927   \n",
       "         Caucasian      False                            0.706540   \n",
       "                        True                             0.701689   \n",
       "         HispanicLatinx False                            0.748276   \n",
       "                        True                             0.774194   \n",
       "         Indigenous     False                            0.709150   \n",
       "                        True                             0.714286   \n",
       "         NoAnswer       False                            0.722467   \n",
       "                        True                             0.814815   \n",
       "TheyThem Asian          False                            0.638889   \n",
       "                        True                             0.500000   \n",
       "         Black          False                            0.666667   \n",
       "                        True                             0.500000   \n",
       "         Caucasian      False                            0.703499   \n",
       "                        True                             0.733333   \n",
       "         HispanicLatinx False                            0.733333   \n",
       "                        True                             0.600000   \n",
       "         Indigenous     False                            0.700000   \n",
       "                        True                             0.666667   \n",
       "         NoAnswer       False                            0.666667   \n",
       "                        True                             0.666667   \n",
       "\n",
       "                                                personnel_pleasant  \\\n",
       "pronouns ethnicity      person_with_disability                       \n",
       "HeHim    Asian          False                             0.362606   \n",
       "                        True                              0.283019   \n",
       "         Black          False                             0.428070   \n",
       "                        True                              0.333333   \n",
       "         Caucasian      False                             0.378219   \n",
       "                        True                              0.387833   \n",
       "         HispanicLatinx False                             0.359517   \n",
       "                        True                              0.441176   \n",
       "         Indigenous     False                             0.398860   \n",
       "                        True                              0.419355   \n",
       "         NoAnswer       False                             0.403922   \n",
       "                        True                              0.400000   \n",
       "NoAnswer Asian          False                             0.361702   \n",
       "                        True                              0.000000   \n",
       "         Black          False                             0.434783   \n",
       "                        True                              0.000000   \n",
       "         Caucasian      False                             0.367387   \n",
       "                        True                              0.392857   \n",
       "         HispanicLatinx False                             0.303030   \n",
       "                        True                              0.500000   \n",
       "         Indigenous     False                             0.391304   \n",
       "                        True                              0.555556   \n",
       "         NoAnswer       False                             0.321429   \n",
       "                        True                              0.000000   \n",
       "SheHer   Asian          False                             0.358255   \n",
       "                        True                              0.342857   \n",
       "         Black          False                             0.393617   \n",
       "                        True                              0.365854   \n",
       "         Caucasian      False                             0.384599   \n",
       "                        True                              0.378987   \n",
       "         HispanicLatinx False                             0.417241   \n",
       "                        True                              0.451613   \n",
       "         Indigenous     False                             0.349673   \n",
       "                        True                              0.371429   \n",
       "         NoAnswer       False                             0.422907   \n",
       "                        True                              0.592593   \n",
       "TheyThem Asian          False                             0.305556   \n",
       "                        True                              0.000000   \n",
       "         Black          False                             0.238095   \n",
       "                        True                              0.000000   \n",
       "         Caucasian      False                             0.373849   \n",
       "                        True                              0.383333   \n",
       "         HispanicLatinx False                             0.500000   \n",
       "                        True                              0.600000   \n",
       "         Indigenous     False                             0.400000   \n",
       "                        True                              0.666667   \n",
       "         NoAnswer       False                             0.259259   \n",
       "                        True                              0.333333   \n",
       "\n",
       "                                                personnel_helpful  \\\n",
       "pronouns ethnicity      person_with_disability                      \n",
       "HeHim    Asian          False                            0.252125   \n",
       "                        True                             0.264151   \n",
       "         Black          False                            0.256140   \n",
       "                        True                             0.242424   \n",
       "         Caucasian      False                            0.263191   \n",
       "                        True                             0.275665   \n",
       "         HispanicLatinx False                            0.259819   \n",
       "                        True                             0.294118   \n",
       "         Indigenous     False                            0.282051   \n",
       "                        True                             0.225806   \n",
       "         NoAnswer       False                            0.266667   \n",
       "                        True                             0.400000   \n",
       "NoAnswer Asian          False                            0.170213   \n",
       "                        True                             0.000000   \n",
       "         Black          False                            0.391304   \n",
       "                        True                             0.500000   \n",
       "         Caucasian      False                            0.261297   \n",
       "                        True                             0.285714   \n",
       "         HispanicLatinx False                            0.212121   \n",
       "                        True                             0.250000   \n",
       "         Indigenous     False                            0.173913   \n",
       "                        True                             0.333333   \n",
       "         NoAnswer       False                            0.178571   \n",
       "                        True                             0.000000   \n",
       "SheHer   Asian          False                            0.289720   \n",
       "                        True                             0.228571   \n",
       "         Black          False                            0.273050   \n",
       "                        True                             0.268293   \n",
       "         Caucasian      False                            0.264346   \n",
       "                        True                             0.245779   \n",
       "         HispanicLatinx False                            0.258621   \n",
       "                        True                             0.290323   \n",
       "         Indigenous     False                            0.274510   \n",
       "                        True                             0.342857   \n",
       "         NoAnswer       False                            0.299559   \n",
       "                        True                             0.296296   \n",
       "TheyThem Asian          False                            0.138889   \n",
       "                        True                             0.500000   \n",
       "         Black          False                            0.309524   \n",
       "                        True                             0.000000   \n",
       "         Caucasian      False                            0.252302   \n",
       "                        True                             0.200000   \n",
       "         HispanicLatinx False                            0.300000   \n",
       "                        True                             0.200000   \n",
       "         Indigenous     False                            0.233333   \n",
       "                        True                             0.333333   \n",
       "         NoAnswer       False                            0.111111   \n",
       "                        True                             0.000000   \n",
       "\n",
       "                                                personnel_professional  \\\n",
       "pronouns ethnicity      person_with_disability                           \n",
       "HeHim    Asian          False                                 0.237960   \n",
       "                        True                                  0.358491   \n",
       "         Black          False                                 0.263158   \n",
       "                        True                                  0.212121   \n",
       "         Caucasian      False                                 0.274588   \n",
       "                        True                                  0.285171   \n",
       "         HispanicLatinx False                                 0.317221   \n",
       "                        True                                  0.294118   \n",
       "         Indigenous     False                                 0.276353   \n",
       "                        True                                  0.290323   \n",
       "         NoAnswer       False                                 0.239216   \n",
       "                        True                                  0.300000   \n",
       "NoAnswer Asian          False                                 0.234043   \n",
       "                        True                                  0.000000   \n",
       "         Black          False                                 0.347826   \n",
       "                        True                                  0.500000   \n",
       "         Caucasian      False                                 0.273084   \n",
       "                        True                                  0.226190   \n",
       "         HispanicLatinx False                                 0.272727   \n",
       "                        True                                  0.250000   \n",
       "         Indigenous     False                                 0.347826   \n",
       "                        True                                  0.444444   \n",
       "         NoAnswer       False                                 0.285714   \n",
       "                        True                                  0.000000   \n",
       "SheHer   Asian          False                                 0.302181   \n",
       "                        True                                  0.142857   \n",
       "         Black          False                                 0.287234   \n",
       "                        True                                  0.243902   \n",
       "         Caucasian      False                                 0.271097   \n",
       "                        True                                  0.262664   \n",
       "         HispanicLatinx False                                 0.279310   \n",
       "                        True                                  0.322581   \n",
       "         Indigenous     False                                 0.254902   \n",
       "                        True                                  0.257143   \n",
       "         NoAnswer       False                                 0.281938   \n",
       "                        True                                  0.296296   \n",
       "TheyThem Asian          False                                 0.194444   \n",
       "                        True                                  0.000000   \n",
       "         Black          False                                 0.238095   \n",
       "                        True                                  0.500000   \n",
       "         Caucasian      False                                 0.289134   \n",
       "                        True                                  0.183333   \n",
       "         HispanicLatinx False                                 0.233333   \n",
       "                        True                                  0.200000   \n",
       "         Indigenous     False                                 0.366667   \n",
       "                        True                                  0.666667   \n",
       "         NoAnswer       False                                 0.370370   \n",
       "                        True                                  0.000000   \n",
       "\n",
       "                                                personnel_inclusive  \\\n",
       "pronouns ethnicity      person_with_disability                        \n",
       "HeHim    Asian          False                              0.229462   \n",
       "                        True                               0.018868   \n",
       "         Black          False                              0.235088   \n",
       "                        True                               0.030303   \n",
       "         Caucasian      False                              0.309624   \n",
       "                        True                               0.121673   \n",
       "         HispanicLatinx False                              0.235650   \n",
       "                        True                               0.029412   \n",
       "         Indigenous     False                              0.279202   \n",
       "                        True                               0.032258   \n",
       "         NoAnswer       False                              0.258824   \n",
       "                        True                               0.100000   \n",
       "NoAnswer Asian          False                              0.170213   \n",
       "                        True                               0.000000   \n",
       "         Black          False                              0.086957   \n",
       "                        True                               0.000000   \n",
       "         Caucasian      False                              0.290766   \n",
       "                        True                               0.083333   \n",
       "         HispanicLatinx False                              0.181818   \n",
       "                        True                               0.000000   \n",
       "         Indigenous     False                              0.086957   \n",
       "                        True                               0.000000   \n",
       "         NoAnswer       False                              0.178571   \n",
       "                        True                               0.000000   \n",
       "SheHer   Asian          False                              0.112150   \n",
       "                        True                               0.057143   \n",
       "         Black          False                              0.124113   \n",
       "                        True                               0.024390   \n",
       "         Caucasian      False                              0.263502   \n",
       "                        True                               0.065666   \n",
       "         HispanicLatinx False                              0.151724   \n",
       "                        True                               0.064516   \n",
       "         Indigenous     False                              0.124183   \n",
       "                        True                               0.057143   \n",
       "         NoAnswer       False                              0.145374   \n",
       "                        True                               0.074074   \n",
       "TheyThem Asian          False                              0.055556   \n",
       "                        True                               0.000000   \n",
       "         Black          False                              0.095238   \n",
       "                        True                               0.000000   \n",
       "         Caucasian      False                              0.257827   \n",
       "                        True                               0.033333   \n",
       "         HispanicLatinx False                              0.200000   \n",
       "                        True                               0.000000   \n",
       "         Indigenous     False                              0.066667   \n",
       "                        True                               0.000000   \n",
       "         NoAnswer       False                              0.074074   \n",
       "                        True                               0.000000   \n",
       "\n",
       "                                                personnel_knowledgeable  \n",
       "pronouns ethnicity      person_with_disability                           \n",
       "HeHim    Asian          False                                  0.359773  \n",
       "                        True                                   0.358491  \n",
       "         Black          False                                  0.315789  \n",
       "                        True                                   0.333333  \n",
       "         Caucasian      False                                  0.359434  \n",
       "                        True                                   0.370722  \n",
       "         HispanicLatinx False                                  0.377644  \n",
       "                        True                                   0.500000  \n",
       "         Indigenous     False                                  0.358974  \n",
       "                        True                                   0.322581  \n",
       "         NoAnswer       False                                  0.384314  \n",
       "                        True                                   0.450000  \n",
       "NoAnswer Asian          False                                  0.340426  \n",
       "                        True                                   0.666667  \n",
       "         Black          False                                  0.565217  \n",
       "                        True                                   0.250000  \n",
       "         Caucasian      False                                  0.392927  \n",
       "                        True                                   0.285714  \n",
       "         HispanicLatinx False                                  0.363636  \n",
       "                        True                                   0.250000  \n",
       "         Indigenous     False                                  0.391304  \n",
       "                        True                                   0.555556  \n",
       "         NoAnswer       False                                  0.392857  \n",
       "                        True                                   1.000000  \n",
       "SheHer   Asian          False                                  0.342679  \n",
       "                        True                                   0.485714  \n",
       "         Black          False                                  0.375887  \n",
       "                        True                                   0.268293  \n",
       "         Caucasian      False                                  0.355485  \n",
       "                        True                                   0.386492  \n",
       "         HispanicLatinx False                                  0.365517  \n",
       "                        True                                   0.419355  \n",
       "         Indigenous     False                                  0.379085  \n",
       "                        True                                   0.285714  \n",
       "         NoAnswer       False                                  0.365639  \n",
       "                        True                                   0.555556  \n",
       "TheyThem Asian          False                                  0.333333  \n",
       "                        True                                   0.000000  \n",
       "         Black          False                                  0.214286  \n",
       "                        True                                   0.500000  \n",
       "         Caucasian      False                                  0.351750  \n",
       "                        True                                   0.383333  \n",
       "         HispanicLatinx False                                  0.400000  \n",
       "                        True                                   0.000000  \n",
       "         Indigenous     False                                  0.400000  \n",
       "                        True                                   0.333333  \n",
       "         NoAnswer       False                                  0.444444  \n",
       "                        True                                   0.500000  \n",
       "\n",
       "[48 rows x 37 columns]"
      ]
     },
     "execution_count": 9,
     "metadata": {},
     "output_type": "execute_result"
    }
   ],
   "source": [
    "scan.groupby(['pronouns', 'ethnicity', 'person_with_disability']).agg('mean')"
   ]
  },
  {
   "cell_type": "code",
   "execution_count": 10,
   "metadata": {},
   "outputs": [
    {
     "data": {
      "text/html": [
       "<div>\n",
       "<style scoped>\n",
       "    .dataframe tbody tr th:only-of-type {\n",
       "        vertical-align: middle;\n",
       "    }\n",
       "\n",
       "    .dataframe tbody tr th {\n",
       "        vertical-align: top;\n",
       "    }\n",
       "\n",
       "    .dataframe thead th {\n",
       "        text-align: right;\n",
       "    }\n",
       "</style>\n",
       "<table border=\"1\" class=\"dataframe\">\n",
       "  <thead>\n",
       "    <tr style=\"text-align: right;\">\n",
       "      <th></th>\n",
       "      <th>level</th>\n",
       "      <th>person_with_disability</th>\n",
       "      <th>openness</th>\n",
       "      <th>exclusion</th>\n",
       "      <th>duration</th>\n",
       "      <th>current_skill</th>\n",
       "      <th>desired_skill</th>\n",
       "      <th>final_skill</th>\n",
       "      <th>recommend</th>\n",
       "      <th>rating</th>\n",
       "      <th>...</th>\n",
       "      <th>digital_content</th>\n",
       "      <th>digital_smooth</th>\n",
       "      <th>digital_professional</th>\n",
       "      <th>digital_accessible</th>\n",
       "      <th>personnel_present</th>\n",
       "      <th>personnel_pleasant</th>\n",
       "      <th>personnel_helpful</th>\n",
       "      <th>personnel_professional</th>\n",
       "      <th>personnel_inclusive</th>\n",
       "      <th>personnel_knowledgeable</th>\n",
       "    </tr>\n",
       "    <tr>\n",
       "      <th>module</th>\n",
       "      <th></th>\n",
       "      <th></th>\n",
       "      <th></th>\n",
       "      <th></th>\n",
       "      <th></th>\n",
       "      <th></th>\n",
       "      <th></th>\n",
       "      <th></th>\n",
       "      <th></th>\n",
       "      <th></th>\n",
       "      <th></th>\n",
       "      <th></th>\n",
       "      <th></th>\n",
       "      <th></th>\n",
       "      <th></th>\n",
       "      <th></th>\n",
       "      <th></th>\n",
       "      <th></th>\n",
       "      <th></th>\n",
       "      <th></th>\n",
       "      <th></th>\n",
       "    </tr>\n",
       "  </thead>\n",
       "  <tbody>\n",
       "    <tr>\n",
       "      <th>101</th>\n",
       "      <td>3.365556</td>\n",
       "      <td>0.102444</td>\n",
       "      <td>0.598800</td>\n",
       "      <td>0.241511</td>\n",
       "      <td>90.0</td>\n",
       "      <td>2.488000</td>\n",
       "      <td>4.547333</td>\n",
       "      <td>2.656667</td>\n",
       "      <td>0.677333</td>\n",
       "      <td>7.450667</td>\n",
       "      <td>...</td>\n",
       "      <td>1.0</td>\n",
       "      <td>0.310889</td>\n",
       "      <td>0.349556</td>\n",
       "      <td>0.322000</td>\n",
       "      <td>0.0</td>\n",
       "      <td>0.000000</td>\n",
       "      <td>0.000000</td>\n",
       "      <td>0.000000</td>\n",
       "      <td>0.000000</td>\n",
       "      <td>0.000000</td>\n",
       "    </tr>\n",
       "    <tr>\n",
       "      <th>102</th>\n",
       "      <td>3.365556</td>\n",
       "      <td>0.102444</td>\n",
       "      <td>0.598800</td>\n",
       "      <td>0.241511</td>\n",
       "      <td>45.0</td>\n",
       "      <td>2.488000</td>\n",
       "      <td>4.547333</td>\n",
       "      <td>3.631111</td>\n",
       "      <td>0.732667</td>\n",
       "      <td>7.770000</td>\n",
       "      <td>...</td>\n",
       "      <td>1.0</td>\n",
       "      <td>0.316000</td>\n",
       "      <td>0.297778</td>\n",
       "      <td>0.296222</td>\n",
       "      <td>1.0</td>\n",
       "      <td>0.470667</td>\n",
       "      <td>0.421333</td>\n",
       "      <td>0.438444</td>\n",
       "      <td>0.185556</td>\n",
       "      <td>0.430889</td>\n",
       "    </tr>\n",
       "    <tr>\n",
       "      <th>201</th>\n",
       "      <td>3.319444</td>\n",
       "      <td>0.087963</td>\n",
       "      <td>0.614548</td>\n",
       "      <td>0.255093</td>\n",
       "      <td>90.0</td>\n",
       "      <td>2.254630</td>\n",
       "      <td>4.328704</td>\n",
       "      <td>2.296296</td>\n",
       "      <td>0.416667</td>\n",
       "      <td>6.462963</td>\n",
       "      <td>...</td>\n",
       "      <td>0.0</td>\n",
       "      <td>0.000000</td>\n",
       "      <td>0.000000</td>\n",
       "      <td>0.000000</td>\n",
       "      <td>1.0</td>\n",
       "      <td>0.435185</td>\n",
       "      <td>0.148148</td>\n",
       "      <td>0.152778</td>\n",
       "      <td>0.375000</td>\n",
       "      <td>0.148148</td>\n",
       "    </tr>\n",
       "    <tr>\n",
       "      <th>202</th>\n",
       "      <td>3.319444</td>\n",
       "      <td>0.087963</td>\n",
       "      <td>0.614548</td>\n",
       "      <td>0.255093</td>\n",
       "      <td>150.0</td>\n",
       "      <td>2.254630</td>\n",
       "      <td>4.328704</td>\n",
       "      <td>3.263889</td>\n",
       "      <td>0.796296</td>\n",
       "      <td>8.023148</td>\n",
       "      <td>...</td>\n",
       "      <td>0.0</td>\n",
       "      <td>0.000000</td>\n",
       "      <td>0.000000</td>\n",
       "      <td>0.000000</td>\n",
       "      <td>1.0</td>\n",
       "      <td>0.458333</td>\n",
       "      <td>0.180556</td>\n",
       "      <td>0.194444</td>\n",
       "      <td>0.379630</td>\n",
       "      <td>0.157407</td>\n",
       "    </tr>\n",
       "    <tr>\n",
       "      <th>301</th>\n",
       "      <td>3.396833</td>\n",
       "      <td>0.103667</td>\n",
       "      <td>0.598902</td>\n",
       "      <td>0.244683</td>\n",
       "      <td>60.0</td>\n",
       "      <td>2.530167</td>\n",
       "      <td>4.594667</td>\n",
       "      <td>2.835500</td>\n",
       "      <td>0.792333</td>\n",
       "      <td>8.074833</td>\n",
       "      <td>...</td>\n",
       "      <td>1.0</td>\n",
       "      <td>0.563000</td>\n",
       "      <td>0.533500</td>\n",
       "      <td>0.442500</td>\n",
       "      <td>1.0</td>\n",
       "      <td>0.595667</td>\n",
       "      <td>0.350167</td>\n",
       "      <td>0.361667</td>\n",
       "      <td>0.457333</td>\n",
       "      <td>0.595667</td>\n",
       "    </tr>\n",
       "  </tbody>\n",
       "</table>\n",
       "<p>5 rows × 37 columns</p>\n",
       "</div>"
      ],
      "text/plain": [
       "           level  person_with_disability  openness  exclusion  duration  \\\n",
       "module                                                                    \n",
       "101     3.365556                0.102444  0.598800   0.241511      90.0   \n",
       "102     3.365556                0.102444  0.598800   0.241511      45.0   \n",
       "201     3.319444                0.087963  0.614548   0.255093      90.0   \n",
       "202     3.319444                0.087963  0.614548   0.255093     150.0   \n",
       "301     3.396833                0.103667  0.598902   0.244683      60.0   \n",
       "\n",
       "        current_skill  desired_skill  final_skill  recommend    rating  ...  \\\n",
       "module                                                                  ...   \n",
       "101          2.488000       4.547333     2.656667   0.677333  7.450667  ...   \n",
       "102          2.488000       4.547333     3.631111   0.732667  7.770000  ...   \n",
       "201          2.254630       4.328704     2.296296   0.416667  6.462963  ...   \n",
       "202          2.254630       4.328704     3.263889   0.796296  8.023148  ...   \n",
       "301          2.530167       4.594667     2.835500   0.792333  8.074833  ...   \n",
       "\n",
       "        digital_content  digital_smooth  digital_professional  \\\n",
       "module                                                          \n",
       "101                 1.0        0.310889              0.349556   \n",
       "102                 1.0        0.316000              0.297778   \n",
       "201                 0.0        0.000000              0.000000   \n",
       "202                 0.0        0.000000              0.000000   \n",
       "301                 1.0        0.563000              0.533500   \n",
       "\n",
       "        digital_accessible  personnel_present  personnel_pleasant  \\\n",
       "module                                                              \n",
       "101               0.322000                0.0            0.000000   \n",
       "102               0.296222                1.0            0.470667   \n",
       "201               0.000000                1.0            0.435185   \n",
       "202               0.000000                1.0            0.458333   \n",
       "301               0.442500                1.0            0.595667   \n",
       "\n",
       "        personnel_helpful  personnel_professional  personnel_inclusive  \\\n",
       "module                                                                   \n",
       "101              0.000000                0.000000             0.000000   \n",
       "102              0.421333                0.438444             0.185556   \n",
       "201              0.148148                0.152778             0.375000   \n",
       "202              0.180556                0.194444             0.379630   \n",
       "301              0.350167                0.361667             0.457333   \n",
       "\n",
       "        personnel_knowledgeable  \n",
       "module                           \n",
       "101                    0.000000  \n",
       "102                    0.430889  \n",
       "201                    0.148148  \n",
       "202                    0.157407  \n",
       "301                    0.595667  \n",
       "\n",
       "[5 rows x 37 columns]"
      ]
     },
     "execution_count": 10,
     "metadata": {},
     "output_type": "execute_result"
    }
   ],
   "source": [
    "scan.groupby('module').agg('mean')"
   ]
  },
  {
   "cell_type": "code",
   "execution_count": 11,
   "metadata": {},
   "outputs": [],
   "source": [
    "feedback = scan.drop([\"level\", \"current_skill\", \"desired_skill\", \"final_skill\", \"rating\"], axis=1)\n",
    "\n",
    "skill = scan[[\"module\", \"current_skill\", \"desired_skill\", \"final_skill\"]]\n",
    "learning_obj = scan[[\"module\", \"lo_1\", \"lo_2\"]]\n",
    "\n",
    "module = feedback[[\"module\", \"clear\", \"entertaining\", \"relevant\", \"informative\", \"useful\", \"inclusive\"]]\n",
    "digital = feedback[[\"module\", \"digital_smooth\", \"digital_professional\", \"digital_accessible\"]]\n",
    "physical = feedback[[\"module\", \"physical_clean\", \"physical_pleasant\", \"physical_accessible\", \"physical_professional\", \"physical_comfortable\"]]\n",
    "personnel = feedback[[\"module\", \"personnel_pleasant\", \"personnel_helpful\", \"personnel_professional\", \"personnel_inclusive\", \"personnel_knowledgeable\"]]\n",
    "rating = df[[\"module\", \"rating\"]]"
   ]
  },
  {
   "cell_type": "markdown",
   "metadata": {},
   "source": [
    "## Ratings for learning products\n",
    "Takes user ratings from a 1-10 scale. Able to cut by business line, learning products, virtual vs. in-class products, etc."
   ]
  },
  {
   "cell_type": "markdown",
   "metadata": {},
   "source": [
    "### Rating by learning product.\n",
    "Simple aggregated ratings for specific learning products."
   ]
  },
  {
   "cell_type": "code",
   "execution_count": 47,
   "metadata": {},
   "outputs": [
    {
     "data": {
      "text/plain": [
       "<matplotlib.axes._subplots.AxesSubplot at 0x222753c4df0>"
      ]
     },
     "execution_count": 47,
     "metadata": {},
     "output_type": "execute_result"
    },
    {
     "data": {
      "image/png": "[encoded data removed]",
      "text/plain": [
       "<Figure size 720x432 with 1 Axes>"
      ]
     },
     "metadata": {
      "needs_background": "light"
     },
     "output_type": "display_data"
    }
   ],
   "source": [
    "rating_offering = df[[\"learning_product\", \"rating\"]]\n",
    "rating_offering.groupby(\"learning_product\").agg(\"mean\").plot(kind=\"bar\", title=\"Rating by Learning Product\", figsize=(10,6))"
   ]
  },
  {
   "cell_type": "markdown",
   "metadata": {},
   "source": [
    "### Rating by learning product module.\n",
    "A deeper dive into learning products broken down by individual module."
   ]
  },
  {
   "cell_type": "code",
   "execution_count": 48,
   "metadata": {},
   "outputs": [
    {
     "data": {
      "text/plain": [
       "<matplotlib.axes._subplots.AxesSubplot at 0x22277930430>"
      ]
     },
     "execution_count": 48,
     "metadata": {},
     "output_type": "execute_result"
    },
    {
     "data": {
      "image/png": "[encoded data removed]",
      "text/plain": [
       "<Figure size 720x432 with 1 Axes>"
      ]
     },
     "metadata": {
      "needs_background": "light"
     },
     "output_type": "display_data"
    }
   ],
   "source": [
    "module_rating = df[[\"module\", \"rating\"]]\n",
    "module_rating.groupby(\"module\").agg(\"mean\").plot(kind=\"bar\", title=\"Rating by Learning Product\", figsize=(10,6))"
   ]
  },
  {
   "cell_type": "markdown",
   "metadata": {},
   "source": [
    "### Rating by offering_id.\n",
    "A deeper dive into specific offerings of a learning product."
   ]
  },
  {
   "cell_type": "code",
   "execution_count": 49,
   "metadata": {},
   "outputs": [
    {
     "data": {
      "text/plain": [
       "<matplotlib.axes._subplots.AxesSubplot at 0x22275c03b80>"
      ]
     },
     "execution_count": 49,
     "metadata": {},
     "output_type": "execute_result"
    },
    {
     "data": {
      "image/png": "[encoded data removed]",
      "text/plain": [
       "<Figure size 720x432 with 1 Axes>"
      ]
     },
     "metadata": {
      "needs_background": "light"
     },
     "output_type": "display_data"
    }
   ],
   "source": [
    "offering_rating = df[[\"offering_id\", \"rating\"]]\n",
    "offering_rating.groupby(\"offering_id\").agg(\"mean\").plot(kind=\"bar\", title=\"Rating by Offering ID\", figsize=(10,6))"
   ]
  },
  {
   "cell_type": "markdown",
   "metadata": {},
   "source": [
    "### Crosstab of module and ratings.\n",
    "A different view of overall ratings that shows the peaks and valleys, giving more insight into the success of a learning product or module."
   ]
  },
  {
   "cell_type": "code",
   "execution_count": 50,
   "metadata": {},
   "outputs": [
    {
     "data": {
      "text/plain": [
       "<matplotlib.axes._subplots.AxesSubplot at 0x2227780a520>"
      ]
     },
     "execution_count": 50,
     "metadata": {},
     "output_type": "execute_result"
    },
    {
     "data": {
      "image/png": "[encoded data removed]",
      "text/plain": [
       "<Figure size 864x432 with 1 Axes>"
      ]
     },
     "metadata": {
      "needs_background": "light"
     },
     "output_type": "display_data"
    }
   ],
   "source": [
    "pd.crosstab(df.learning_product, df.rating, normalize=\"index\").plot(\n",
    "    kind=\"bar\", color=seven_grad, figsize=(12, 6),\n",
    "    title=\"Ratings by Learning Product\")"
   ]
  },
  {
   "cell_type": "markdown",
   "metadata": {},
   "source": [
    "### Modules.\n",
    "Digging a bit deeper into the products."
   ]
  },
  {
   "cell_type": "code",
   "execution_count": 52,
   "metadata": {},
   "outputs": [
    {
     "data": {
      "text/plain": [
       "<matplotlib.axes._subplots.AxesSubplot at 0x22277e7c160>"
      ]
     },
     "execution_count": 52,
     "metadata": {},
     "output_type": "execute_result"
    },
    {
     "data": {
      "image/png": "[encoded data removed]",
      "text/plain": [
       "<Figure size 864x432 with 1 Axes>"
      ]
     },
     "metadata": {
      "needs_background": "light"
     },
     "output_type": "display_data"
    }
   ],
   "source": [
    "pd.crosstab(df.module, df.rating, normalize=\"index\").plot(\n",
    "    kind=\"bar\", color=seven_grad, figsize=(12, 6),\n",
    "    title=\"Ratings by Module\")"
   ]
  },
  {
   "cell_type": "markdown",
   "metadata": {},
   "source": [
    "### Offerings.\n",
    "Going deeper still, looking for differences in specific offerings of a learning product."
   ]
  },
  {
   "cell_type": "code",
   "execution_count": 55,
   "metadata": {},
   "outputs": [
    {
     "data": {
      "text/plain": [
       "<matplotlib.axes._subplots.AxesSubplot at 0x22277ecc4f0>"
      ]
     },
     "execution_count": 55,
     "metadata": {},
     "output_type": "execute_result"
    },
    {
     "data": {
      "image/png": "[encoded data removed]",
      "text/plain": [
       "<Figure size 864x432 with 1 Axes>"
      ]
     },
     "metadata": {
      "needs_background": "light"
     },
     "output_type": "display_data"
    }
   ],
   "source": [
    "pd.crosstab(df.offering_id.where(df.learning_product==\"I501\"), df.rating, normalize=\"index\").plot(\n",
    "    kind=\"bar\", color=seven_grad, figsize=(12, 6),\n",
    "    title=\"Ratings by Offering for I501\")"
   ]
  },
  {
   "cell_type": "markdown",
   "metadata": {},
   "source": [
    "### Examing ratings by audience.\n",
    "How do different communities in the GC respond to our learning products?"
   ]
  },
  {
   "cell_type": "code",
   "execution_count": 56,
   "metadata": {},
   "outputs": [
    {
     "data": {
      "text/plain": [
       "<matplotlib.axes._subplots.AxesSubplot at 0x22278a51310>"
      ]
     },
     "execution_count": 56,
     "metadata": {},
     "output_type": "execute_result"
    },
    {
     "data": {
      "image/png": "[encoded data removed]",
      "text/plain": [
       "<Figure size 864x432 with 1 Axes>"
      ]
     },
     "metadata": {
      "needs_background": "light"
     },
     "output_type": "display_data"
    }
   ],
   "source": [
    "pd.crosstab([df.module.where(df.module==101), df.audience], df.rating, normalize=\"index\").plot(\n",
    "    kind=\"bar\", color=seven_grad, figsize=(12, 6),\n",
    "    title=\"Ratings by Audience - I501 - Module 101\")"
   ]
  },
  {
   "cell_type": "code",
   "execution_count": 17,
   "metadata": {},
   "outputs": [
    {
     "data": {
      "text/plain": [
       "<matplotlib.axes._subplots.AxesSubplot at 0x222724ec5b0>"
      ]
     },
     "execution_count": 17,
     "metadata": {},
     "output_type": "execute_result"
    },
    {
     "data": {
      "image/png": "[encoded data removed]",
      "text/plain": [
       "<Figure size 864x432 with 1 Axes>"
      ]
     },
     "metadata": {
      "needs_background": "light"
     },
     "output_type": "display_data"
    }
   ],
   "source": [
    "pd.crosstab([df.module.where(df.module==102), df.audience], df.rating, normalize=\"index\").plot(\n",
    "    kind=\"bar\", color=seven_grad, figsize=(12, 6),\n",
    "    title=\"Ratings by Audience - Module 102\")"
   ]
  },
  {
   "cell_type": "code",
   "execution_count": 18,
   "metadata": {},
   "outputs": [
    {
     "data": {
      "text/plain": [
       "<matplotlib.axes._subplots.AxesSubplot at 0x2227259d9a0>"
      ]
     },
     "execution_count": 18,
     "metadata": {},
     "output_type": "execute_result"
    },
    {
     "data": {
      "image/png": "[encoded data removed]",
      "text/plain": [
       "<Figure size 864x432 with 1 Axes>"
      ]
     },
     "metadata": {
      "needs_background": "light"
     },
     "output_type": "display_data"
    }
   ],
   "source": [
    "pd.crosstab([df.module.where(df.module==201), df.audience], df.rating, normalize=\"index\").plot(\n",
    "    kind=\"bar\", color=seven_grad, figsize=(12, 6),\n",
    "    title=\"Ratings by Audience - Module 201\")"
   ]
  },
  {
   "cell_type": "code",
   "execution_count": 19,
   "metadata": {},
   "outputs": [
    {
     "data": {
      "text/plain": [
       "<matplotlib.axes._subplots.AxesSubplot at 0x22272a8a9d0>"
      ]
     },
     "execution_count": 19,
     "metadata": {},
     "output_type": "execute_result"
    },
    {
     "data": {
      "image/png": "[encoded data removed]",
      "text/plain": [
       "<Figure size 864x432 with 1 Axes>"
      ]
     },
     "metadata": {
      "needs_background": "light"
     },
     "output_type": "display_data"
    }
   ],
   "source": [
    "pd.crosstab([df.module.where(df.module==202), df.audience], df.rating, normalize=\"index\").plot(\n",
    "    kind=\"bar\", color=seven_grad, figsize=(12, 6),\n",
    "    title=\"Ratings by Audience - Module 202\")"
   ]
  },
  {
   "cell_type": "code",
   "execution_count": 20,
   "metadata": {},
   "outputs": [
    {
     "data": {
      "text/plain": [
       "<matplotlib.axes._subplots.AxesSubplot at 0x22272b41370>"
      ]
     },
     "execution_count": 20,
     "metadata": {},
     "output_type": "execute_result"
    },
    {
     "data": {
      "image/png": "[encoded data removed]",
      "text/plain": [
       "<Figure size 864x432 with 1 Axes>"
      ]
     },
     "metadata": {
      "needs_background": "light"
     },
     "output_type": "display_data"
    }
   ],
   "source": [
    "pd.crosstab([df.module.where(df.module==301), df.audience], df.rating, normalize=\"index\").plot(\n",
    "    kind=\"bar\", color=seven_grad, figsize=(12, 6),\n",
    "    title=\"Ratings by Audience - Module 301\")"
   ]
  },
  {
   "cell_type": "markdown",
   "metadata": {},
   "source": [
    "## Learner Feedback\n",
    "Acquiring fast, actionable insight into our learning products."
   ]
  },
  {
   "cell_type": "code",
   "execution_count": 21,
   "metadata": {},
   "outputs": [
    {
     "data": {
      "text/plain": [
       "<matplotlib.axes._subplots.AxesSubplot at 0x22272bf83d0>"
      ]
     },
     "execution_count": 21,
     "metadata": {},
     "output_type": "execute_result"
    },
    {
     "data": {
      "image/png": "[encoded data removed]",
      "text/plain": [
       "<Figure size 864x432 with 1 Axes>"
      ]
     },
     "metadata": {
      "needs_background": "light"
     },
     "output_type": "display_data"
    }
   ],
   "source": [
    "module.groupby(\"module\").agg('mean').plot(title=\"Learner Feedback\", kind=\"bar\", figsize=(12,6),\n",
    "                                       color=seven_diff)"
   ]
  },
  {
   "cell_type": "code",
   "execution_count": 22,
   "metadata": {},
   "outputs": [
    {
     "data": {
      "text/plain": [
       "<matplotlib.axes._subplots.AxesSubplot at 0x22272e0f340>"
      ]
     },
     "execution_count": 22,
     "metadata": {},
     "output_type": "execute_result"
    },
    {
     "data": {
      "image/png": "[encoded data removed]",
      "text/plain": [
       "<Figure size 720x432 with 1 Axes>"
      ]
     },
     "metadata": {
      "needs_background": "light"
     },
     "output_type": "display_data"
    }
   ],
   "source": [
    "pd.crosstab(df.offering_id, df.recommend, normalize=\"index\").plot(\n",
    "    title=\"Learner Feedback - Recommend - by Offering\", kind=\"bar\", figsize=(10,6))"
   ]
  },
  {
   "cell_type": "code",
   "execution_count": 23,
   "metadata": {},
   "outputs": [
    {
     "data": {
      "text/plain": [
       "<matplotlib.axes._subplots.AxesSubplot at 0x22272ed12b0>"
      ]
     },
     "execution_count": 23,
     "metadata": {},
     "output_type": "execute_result"
    },
    {
     "data": {
      "image/png": "[encoded data removed]",
      "text/plain": [
       "<Figure size 720x432 with 1 Axes>"
      ]
     },
     "metadata": {
      "needs_background": "light"
     },
     "output_type": "display_data"
    }
   ],
   "source": [
    "pd.crosstab([df.module.where(df.learning_product==\"I501\"), df.audience], df.recommend, normalize=\"index\").plot(\n",
    "    title=\"Learner Feedback I501 - Recommend by Learning Product and Audience\", kind=\"bar\", figsize=(10,6))"
   ]
  },
  {
   "cell_type": "code",
   "execution_count": 24,
   "metadata": {},
   "outputs": [
    {
     "data": {
      "text/plain": [
       "<matplotlib.axes._subplots.AxesSubplot at 0x222731f4040>"
      ]
     },
     "execution_count": 24,
     "metadata": {},
     "output_type": "execute_result"
    },
    {
     "data": {
      "image/png": "[encoded data removed]",
      "text/plain": [
       "<Figure size 720x432 with 1 Axes>"
      ]
     },
     "metadata": {
      "needs_background": "light"
     },
     "output_type": "display_data"
    }
   ],
   "source": [
    "digital.groupby(\"module\").agg('mean').plot(title=\"Learner Feedback - Digital XP\", kind=\"bar\", figsize=(10,6))"
   ]
  },
  {
   "cell_type": "code",
   "execution_count": 25,
   "metadata": {},
   "outputs": [
    {
     "data": {
      "text/plain": [
       "<matplotlib.axes._subplots.AxesSubplot at 0x22273266ca0>"
      ]
     },
     "execution_count": 25,
     "metadata": {},
     "output_type": "execute_result"
    },
    {
     "data": {
      "image/png": "[encoded data removed]",
      "text/plain": [
       "<Figure size 720x432 with 1 Axes>"
      ]
     },
     "metadata": {
      "needs_background": "light"
     },
     "output_type": "display_data"
    }
   ],
   "source": [
    "physical.groupby(\"module\").agg('mean').plot(title=\"Learner Feedback - Physical XP\", kind=\"bar\", figsize=(10,6))"
   ]
  },
  {
   "cell_type": "code",
   "execution_count": 26,
   "metadata": {},
   "outputs": [
    {
     "data": {
      "text/plain": [
       "<matplotlib.axes._subplots.AxesSubplot at 0x22272347640>"
      ]
     },
     "execution_count": 26,
     "metadata": {},
     "output_type": "execute_result"
    },
    {
     "data": {
      "image/png": "[encoded data removed]",
      "text/plain": [
       "<Figure size 720x432 with 1 Axes>"
      ]
     },
     "metadata": {
      "needs_background": "light"
     },
     "output_type": "display_data"
    }
   ],
   "source": [
    "personnel.groupby(\"module\").agg('mean').plot(title=\"Learner Feedback - Facilitator XP\", kind=\"bar\", figsize=(10,6))"
   ]
  },
  {
   "cell_type": "code",
   "execution_count": 27,
   "metadata": {},
   "outputs": [
    {
     "data": {
      "text/plain": [
       "<matplotlib.axes._subplots.AxesSubplot at 0x222732eb3a0>"
      ]
     },
     "execution_count": 27,
     "metadata": {},
     "output_type": "execute_result"
    },
    {
     "data": {
      "image/png": "[encoded data removed]",
      "text/plain": [
       "<Figure size 720x432 with 1 Axes>"
      ]
     },
     "metadata": {
      "needs_background": "light"
     },
     "output_type": "display_data"
    }
   ],
   "source": [
    "skill.groupby(\"module\").agg('mean').plot(title=\"Learner Skill Improvement\", kind=\"bar\", figsize=(10,6))"
   ]
  },
  {
   "cell_type": "code",
   "execution_count": 28,
   "metadata": {},
   "outputs": [
    {
     "data": {
      "text/plain": [
       "array(['Meet', 'NotMeet', 'Exceeded'], dtype=object)"
      ]
     },
     "execution_count": 28,
     "metadata": {},
     "output_type": "execute_result"
    }
   ],
   "source": [
    "learning_obj.lo_1.unique()"
   ]
  },
  {
   "cell_type": "code",
   "execution_count": 29,
   "metadata": {},
   "outputs": [
    {
     "data": {
      "text/plain": [
       "<matplotlib.axes._subplots.AxesSubplot at 0x22272b4ffa0>"
      ]
     },
     "execution_count": 29,
     "metadata": {},
     "output_type": "execute_result"
    },
    {
     "data": {
      "image/png": "[encoded data removed]",
      "text/plain": [
       "<Figure size 720x432 with 1 Axes>"
      ]
     },
     "metadata": {
      "needs_background": "light"
     },
     "output_type": "display_data"
    }
   ],
   "source": [
    "pd.crosstab(learning_obj.module, learning_obj.lo_1, normalize='index').plot(kind='bar', color=['C2', 'C0', 'C1'], title=\"Learning Objective 1 Met\", figsize=(10,6))"
   ]
  },
  {
   "cell_type": "code",
   "execution_count": 30,
   "metadata": {},
   "outputs": [
    {
     "data": {
      "text/plain": [
       "<matplotlib.axes._subplots.AxesSubplot at 0x222746c4fd0>"
      ]
     },
     "execution_count": 30,
     "metadata": {},
     "output_type": "execute_result"
    },
    {
     "data": {
      "image/png": "[encoded data removed]",
      "text/plain": [
       "<Figure size 720x432 with 1 Axes>"
      ]
     },
     "metadata": {
      "needs_background": "light"
     },
     "output_type": "display_data"
    }
   ],
   "source": [
    "pd.crosstab(learning_obj.module, learning_obj.lo_2, normalize='index').plot(kind='bar', color=['C2', 'C0', 'C1'], title=\"Learning Objective 2 Met\", figsize=(10,6))"
   ]
  },
  {
   "cell_type": "code",
   "execution_count": 31,
   "metadata": {},
   "outputs": [
    {
     "data": {
      "text/plain": [
       "Index(['module', 'lo_1', 'lo_2'], dtype='object')"
      ]
     },
     "execution_count": 31,
     "metadata": {},
     "output_type": "execute_result"
    }
   ],
   "source": [
    "learning_obj.columns"
   ]
  },
  {
   "cell_type": "code",
   "execution_count": 32,
   "metadata": {},
   "outputs": [
    {
     "data": {
      "text/plain": [
       "<matplotlib.axes._subplots.AxesSubplot at 0x22274739bb0>"
      ]
     },
     "execution_count": 32,
     "metadata": {},
     "output_type": "execute_result"
    },
    {
     "data": {
      "image/png": "[encoded data removed]",
      "text/plain": [
       "<Figure size 1008x432 with 1 Axes>"
      ]
     },
     "metadata": {
      "needs_background": "light"
     },
     "output_type": "display_data"
    }
   ],
   "source": [
    "pd.crosstab(scan.module, scan.percent_completed, normalize='index').plot(kind='bar', title=\"% of Module Completed\", figsize=(14,6), color=eleven_grad)"
   ]
  },
  {
   "cell_type": "code",
   "execution_count": 33,
   "metadata": {},
   "outputs": [
    {
     "data": {
      "text/plain": [
       "<matplotlib.axes._subplots.AxesSubplot at 0x2227482d430>"
      ]
     },
     "execution_count": 33,
     "metadata": {},
     "output_type": "execute_result"
    },
    {
     "data": {
      "image/png": "[encoded data removed]",
      "text/plain": [
       "<Figure size 1008x432 with 1 Axes>"
      ]
     },
     "metadata": {
      "needs_background": "light"
     },
     "output_type": "display_data"
    }
   ],
   "source": [
    "pd.crosstab(scan.module.where(scan.module==101), scan.percent_completed, normalize='index').plot(kind='bar', title=\"% of Module 101 Completed\", figsize=(14,6), color=eleven_grad)"
   ]
  },
  {
   "cell_type": "code",
   "execution_count": 34,
   "metadata": {},
   "outputs": [
    {
     "data": {
      "text/html": [
       "<div>\n",
       "<style scoped>\n",
       "    .dataframe tbody tr th:only-of-type {\n",
       "        vertical-align: middle;\n",
       "    }\n",
       "\n",
       "    .dataframe tbody tr th {\n",
       "        vertical-align: top;\n",
       "    }\n",
       "\n",
       "    .dataframe thead th {\n",
       "        text-align: right;\n",
       "    }\n",
       "</style>\n",
       "<table border=\"1\" class=\"dataframe\">\n",
       "  <thead>\n",
       "    <tr style=\"text-align: right;\">\n",
       "      <th></th>\n",
       "      <th>rating</th>\n",
       "      <th>4</th>\n",
       "      <th>5</th>\n",
       "      <th>6</th>\n",
       "      <th>7</th>\n",
       "      <th>8</th>\n",
       "      <th>9</th>\n",
       "      <th>10</th>\n",
       "    </tr>\n",
       "    <tr>\n",
       "      <th>offering_id</th>\n",
       "      <th>learning_product</th>\n",
       "      <th></th>\n",
       "      <th></th>\n",
       "      <th></th>\n",
       "      <th></th>\n",
       "      <th></th>\n",
       "      <th></th>\n",
       "      <th></th>\n",
       "    </tr>\n",
       "  </thead>\n",
       "  <tbody>\n",
       "    <tr>\n",
       "      <th>877</th>\n",
       "      <th>I501</th>\n",
       "      <td>18</td>\n",
       "      <td>97</td>\n",
       "      <td>194</td>\n",
       "      <td>178</td>\n",
       "      <td>175</td>\n",
       "      <td>155</td>\n",
       "      <td>183</td>\n",
       "    </tr>\n",
       "    <tr>\n",
       "      <th>878</th>\n",
       "      <th>I501</th>\n",
       "      <td>26</td>\n",
       "      <td>125</td>\n",
       "      <td>160</td>\n",
       "      <td>191</td>\n",
       "      <td>150</td>\n",
       "      <td>129</td>\n",
       "      <td>219</td>\n",
       "    </tr>\n",
       "    <tr>\n",
       "      <th>879</th>\n",
       "      <th>I501</th>\n",
       "      <td>17</td>\n",
       "      <td>75</td>\n",
       "      <td>184</td>\n",
       "      <td>215</td>\n",
       "      <td>181</td>\n",
       "      <td>151</td>\n",
       "      <td>177</td>\n",
       "    </tr>\n",
       "    <tr>\n",
       "      <th>880</th>\n",
       "      <th>I501</th>\n",
       "      <td>22</td>\n",
       "      <td>98</td>\n",
       "      <td>155</td>\n",
       "      <td>214</td>\n",
       "      <td>184</td>\n",
       "      <td>133</td>\n",
       "      <td>194</td>\n",
       "    </tr>\n",
       "    <tr>\n",
       "      <th>881</th>\n",
       "      <th>I501</th>\n",
       "      <td>22</td>\n",
       "      <td>108</td>\n",
       "      <td>160</td>\n",
       "      <td>192</td>\n",
       "      <td>172</td>\n",
       "      <td>120</td>\n",
       "      <td>226</td>\n",
       "    </tr>\n",
       "    <tr>\n",
       "      <th>882</th>\n",
       "      <th>I501</th>\n",
       "      <td>32</td>\n",
       "      <td>94</td>\n",
       "      <td>149</td>\n",
       "      <td>198</td>\n",
       "      <td>169</td>\n",
       "      <td>130</td>\n",
       "      <td>228</td>\n",
       "    </tr>\n",
       "    <tr>\n",
       "      <th>883</th>\n",
       "      <th>I501</th>\n",
       "      <td>34</td>\n",
       "      <td>84</td>\n",
       "      <td>180</td>\n",
       "      <td>198</td>\n",
       "      <td>157</td>\n",
       "      <td>133</td>\n",
       "      <td>214</td>\n",
       "    </tr>\n",
       "    <tr>\n",
       "      <th>884</th>\n",
       "      <th>I501</th>\n",
       "      <td>24</td>\n",
       "      <td>96</td>\n",
       "      <td>221</td>\n",
       "      <td>185</td>\n",
       "      <td>166</td>\n",
       "      <td>116</td>\n",
       "      <td>192</td>\n",
       "    </tr>\n",
       "    <tr>\n",
       "      <th>885</th>\n",
       "      <th>I501</th>\n",
       "      <td>10</td>\n",
       "      <td>77</td>\n",
       "      <td>193</td>\n",
       "      <td>202</td>\n",
       "      <td>202</td>\n",
       "      <td>125</td>\n",
       "      <td>191</td>\n",
       "    </tr>\n",
       "  </tbody>\n",
       "</table>\n",
       "</div>"
      ],
      "text/plain": [
       "rating                        4    5    6    7    8    9    10\n",
       "offering_id learning_product                                  \n",
       "877         I501              18   97  194  178  175  155  183\n",
       "878         I501              26  125  160  191  150  129  219\n",
       "879         I501              17   75  184  215  181  151  177\n",
       "880         I501              22   98  155  214  184  133  194\n",
       "881         I501              22  108  160  192  172  120  226\n",
       "882         I501              32   94  149  198  169  130  228\n",
       "883         I501              34   84  180  198  157  133  214\n",
       "884         I501              24   96  221  185  166  116  192\n",
       "885         I501              10   77  193  202  202  125  191"
      ]
     },
     "execution_count": 34,
     "metadata": {},
     "output_type": "execute_result"
    }
   ],
   "source": [
    "pd.crosstab([df.offering_id, df.learning_product.where(df.learning_product==\"I501\")], df.rating)"
   ]
  },
  {
   "cell_type": "code",
   "execution_count": 35,
   "metadata": {},
   "outputs": [
    {
     "data": {
      "text/plain": [
       "<matplotlib.axes._subplots.AxesSubplot at 0x22274be30d0>"
      ]
     },
     "execution_count": 35,
     "metadata": {},
     "output_type": "execute_result"
    },
    {
     "data": {
      "image/png": "[encoded data removed]",
      "text/plain": [
       "<Figure size 1008x432 with 1 Axes>"
      ]
     },
     "metadata": {
      "needs_background": "light"
     },
     "output_type": "display_data"
    }
   ],
   "source": [
    "pd.crosstab([df.offering_id, df.learning_product.where(df.learning_product==\"I501\")], df.rating, normalize='index').plot(kind='bar', title=\"Rating by Offering (I501)\", figsize=(14,6),\n",
    "                                                                                                                        color=seven_grad)"
   ]
  },
  {
   "cell_type": "code",
   "execution_count": 36,
   "metadata": {},
   "outputs": [
    {
     "data": {
      "text/plain": [
       "<matplotlib.axes._subplots.AxesSubplot at 0x22274cdfc10>"
      ]
     },
     "execution_count": 36,
     "metadata": {},
     "output_type": "execute_result"
    },
    {
     "data": {
      "image/png": "[encoded data removed]",
      "text/plain": [
       "<Figure size 1008x432 with 1 Axes>"
      ]
     },
     "metadata": {
      "needs_background": "light"
     },
     "output_type": "display_data"
    }
   ],
   "source": [
    "pd.crosstab(df.offering_id.where(df.learning_product==\"P901\"), df.rating, normalize=\"index\").plot(\n",
    "    kind='bar', title=\"Rating by Offering (P901)\", figsize=(14,6), color=seven_grad)"
   ]
  },
  {
   "cell_type": "code",
   "execution_count": 37,
   "metadata": {},
   "outputs": [
    {
     "data": {
      "text/plain": [
       "<matplotlib.axes._subplots.AxesSubplot at 0x22274d48610>"
      ]
     },
     "execution_count": 37,
     "metadata": {},
     "output_type": "execute_result"
    },
    {
     "data": {
      "image/png": "[encoded data removed]",
      "text/plain": [
       "<Figure size 1008x432 with 1 Axes>"
      ]
     },
     "metadata": {
      "needs_background": "light"
     },
     "output_type": "display_data"
    }
   ],
   "source": [
    "df.groupby(df[\"offering_id\"].where(df.learning_product==\"E311\"))[\"rating\"].value_counts(\n",
    "    normalize=True).unstack().plot(kind='bar', title=\"Rating by Offering (E311)\", figsize=(14,6),\n",
    "                                                                                                                      color=seven_grad)"
   ]
  },
  {
   "cell_type": "code",
   "execution_count": 38,
   "metadata": {},
   "outputs": [
    {
     "data": {
      "text/plain": [
       "<matplotlib.axes._subplots.AxesSubplot at 0x222756218e0>"
      ]
     },
     "execution_count": 38,
     "metadata": {},
     "output_type": "execute_result"
    },
    {
     "data": {
      "image/png": "[encoded data removed]",
      "text/plain": [
       "<Figure size 1008x432 with 1 Axes>"
      ]
     },
     "metadata": {
      "needs_background": "light"
     },
     "output_type": "display_data"
    }
   ],
   "source": [
    "pd.crosstab([df.offering_id, df.learning_product.where(df.learning_product==\"P901\")], df.rating, normalize=\"index\").plot(kind='bar', title=\"Rating by Offering (P901)\", figsize=(14,6),\n",
    "                                                                                                                      color=seven_grad)"
   ]
  },
  {
   "cell_type": "code",
   "execution_count": 39,
   "metadata": {},
   "outputs": [
    {
     "data": {
      "text/plain": [
       "<matplotlib.axes._subplots.AxesSubplot at 0x222749278b0>"
      ]
     },
     "execution_count": 39,
     "metadata": {},
     "output_type": "execute_result"
    },
    {
     "data": {
      "image/png": "[encoded data removed]",
      "text/plain": [
       "<Figure size 864x432 with 1 Axes>"
      ]
     },
     "metadata": {
      "needs_background": "light"
     },
     "output_type": "display_data"
    }
   ],
   "source": [
    "pd.crosstab([df.offering_id, df.learning_product.where(df.learning_product==\"P901\")], df.recommend, normalize=\"index\").plot(kind='bar', title=\"Recommended by Offering (E311)\", figsize=(12,6))"
   ]
  },
  {
   "cell_type": "code",
   "execution_count": 40,
   "metadata": {},
   "outputs": [
    {
     "data": {
      "text/plain": [
       "<matplotlib.axes._subplots.AxesSubplot at 0x222749bb4c0>"
      ]
     },
     "execution_count": 40,
     "metadata": {},
     "output_type": "execute_result"
    },
    {
     "data": {
      "image/png": "[encoded data removed]",
      "text/plain": [
       "<Figure size 720x432 with 1 Axes>"
      ]
     },
     "metadata": {
      "needs_background": "light"
     },
     "output_type": "display_data"
    }
   ],
   "source": [
    "pd.crosstab(df.offering_id.where(df.learning_product==\"P901\"), df.rating, normalize=\"index\").plot(\n",
    "    kind='bar', title=\"Rating by Offering for P901\", figsize=(10,6), color=seven_grad)"
   ]
  },
  {
   "cell_type": "code",
   "execution_count": 41,
   "metadata": {},
   "outputs": [
    {
     "data": {
      "text/html": [
       "<div>\n",
       "<style scoped>\n",
       "    .dataframe tbody tr th:only-of-type {\n",
       "        vertical-align: middle;\n",
       "    }\n",
       "\n",
       "    .dataframe tbody tr th {\n",
       "        vertical-align: top;\n",
       "    }\n",
       "\n",
       "    .dataframe thead th {\n",
       "        text-align: right;\n",
       "    }\n",
       "</style>\n",
       "<table border=\"1\" class=\"dataframe\">\n",
       "  <thead>\n",
       "    <tr style=\"text-align: right;\">\n",
       "      <th></th>\n",
       "      <th>rating</th>\n",
       "    </tr>\n",
       "    <tr>\n",
       "      <th>learning_product</th>\n",
       "      <th></th>\n",
       "    </tr>\n",
       "  </thead>\n",
       "  <tbody>\n",
       "    <tr>\n",
       "      <th>E311</th>\n",
       "      <td>8.074833</td>\n",
       "    </tr>\n",
       "    <tr>\n",
       "      <th>I501</th>\n",
       "      <td>7.610333</td>\n",
       "    </tr>\n",
       "    <tr>\n",
       "      <th>P901</th>\n",
       "      <td>7.243056</td>\n",
       "    </tr>\n",
       "  </tbody>\n",
       "</table>\n",
       "</div>"
      ],
      "text/plain": [
       "                    rating\n",
       "learning_product          \n",
       "E311              8.074833\n",
       "I501              7.610333\n",
       "P901              7.243056"
      ]
     },
     "execution_count": 41,
     "metadata": {},
     "output_type": "execute_result"
    }
   ],
   "source": [
    "rating_offering.groupby(\"learning_product\").agg(\"mean\")"
   ]
  },
  {
   "cell_type": "code",
   "execution_count": 42,
   "metadata": {},
   "outputs": [
    {
     "data": {
      "text/plain": [
       "<matplotlib.axes._subplots.AxesSubplot at 0x222757dda30>"
      ]
     },
     "execution_count": 42,
     "metadata": {},
     "output_type": "execute_result"
    },
    {
     "data": {
      "image/png": "[encoded data removed]",
      "text/plain": [
       "<Figure size 1008x432 with 1 Axes>"
      ]
     },
     "metadata": {
      "needs_background": "light"
     },
     "output_type": "display_data"
    }
   ],
   "source": [
    "pd.crosstab([df.ethnicity, df.audience], df.inclusive, normalize=\"index\").plot(kind='bar', title=\"Inclusivity by Ethnicity and Audience\", figsize=(14,6))"
   ]
  },
  {
   "cell_type": "code",
   "execution_count": 43,
   "metadata": {},
   "outputs": [
    {
     "data": {
      "text/plain": [
       "<matplotlib.axes._subplots.AxesSubplot at 0x22275b6d5e0>"
      ]
     },
     "execution_count": 43,
     "metadata": {},
     "output_type": "execute_result"
    },
    {
     "data": {
      "image/png": "[encoded data removed]",
      "text/plain": [
       "<Figure size 864x432 with 1 Axes>"
      ]
     },
     "metadata": {
      "needs_background": "light"
     },
     "output_type": "display_data"
    }
   ],
   "source": [
    "pd.crosstab([df.ethnicity, df.learning_product.where(df.learning_product==\"I501\")], df.inclusive==True, normalize=\"index\").plot(kind='bar', title=\"Inclusivity by Ethnicity (I501)\", figsize=(12,6))"
   ]
  },
  {
   "cell_type": "code",
   "execution_count": 44,
   "metadata": {},
   "outputs": [
    {
     "data": {
      "text/plain": [
       "<matplotlib.axes._subplots.AxesSubplot at 0x22275f44f10>"
      ]
     },
     "execution_count": 44,
     "metadata": {},
     "output_type": "execute_result"
    },
    {
     "data": {
      "image/png": "[encoded data removed]",
      "text/plain": [
       "<Figure size 864x432 with 1 Axes>"
      ]
     },
     "metadata": {
      "needs_background": "light"
     },
     "output_type": "display_data"
    }
   ],
   "source": [
    "pd.crosstab([df.ethnicity, df.learning_product.where(df.learning_product==\"P901\")], df.inclusive==True, normalize=\"index\").plot(kind='bar', title=\"Inclusivity by Ethnicity (P901)\", figsize=(12,6))"
   ]
  },
  {
   "cell_type": "code",
   "execution_count": 45,
   "metadata": {},
   "outputs": [
    {
     "data": {
      "text/plain": [
       "<matplotlib.axes._subplots.AxesSubplot at 0x22275fb7fa0>"
      ]
     },
     "execution_count": 45,
     "metadata": {},
     "output_type": "execute_result"
    },
    {
     "data": {
      "image/png": "[encoded data removed]",
      "text/plain": [
       "<Figure size 864x432 with 1 Axes>"
      ]
     },
     "metadata": {
      "needs_background": "light"
     },
     "output_type": "display_data"
    }
   ],
   "source": [
    "pd.crosstab([df.ethnicity, df.learning_product.where(df.learning_product==\"E311\")], df.physical_accessible==True, normalize=\"index\").plot(kind='bar', title=\"Inclusivity by Audience (E311)\", figsize=(12,6))"
   ]
  },
  {
   "cell_type": "code",
   "execution_count": 46,
   "metadata": {},
   "outputs": [
    {
     "data": {
      "text/plain": [
       "<matplotlib.axes._subplots.AxesSubplot at 0x222760351f0>"
      ]
     },
     "execution_count": 46,
     "metadata": {},
     "output_type": "execute_result"
    },
    {
     "data": {
      "image/png": "[encoded data removed]",
      "text/plain": [
       "<Figure size 864x432 with 1 Axes>"
      ]
     },
     "metadata": {
      "needs_background": "light"
     },
     "output_type": "display_data"
    }
   ],
   "source": [
    "pd.crosstab([df.person_with_disability, df.learning_product], df.physical_accessible.where(df.physical_space==True), normalize=\"index\").plot(\n",
    "    kind='bar', title=\"Physical Accessibility by Persons with a Disability\", figsize=(12,6))"
   ]
  },
  {
   "cell_type": "code",
   "execution_count": null,
   "metadata": {},
   "outputs": [],
   "source": []
  },
  {
   "cell_type": "code",
   "execution_count": null,
   "metadata": {},
   "outputs": [],
   "source": []
  }
 ],
 "metadata": {
  "kernelspec": {
   "display_name": "Python 3",
   "language": "python",
   "name": "python3"
  },
  "language_info": {
   "codemirror_mode": {
    "name": "ipython",
    "version": 3
   },
   "file_extension": ".py",
   "mimetype": "text/x-python",
   "name": "python",
   "nbconvert_exporter": "python",
   "pygments_lexer": "ipython3",
   "version": "3.8.5"
  }
 },
 "nbformat": 4,
 "nbformat_minor": 4
}
