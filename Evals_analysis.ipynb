{
 "cells": [
  {
   "cell_type": "code",
   "execution_count": 1,
   "metadata": {},
   "outputs": [],
   "source": [
    "import matplotlib\n",
    "import matplotlib.pyplot as plt\n",
    "import pandas as pd\n",
    "import numpy as np\n",
    "import os\n",
    "\n",
    "%matplotlib inline\n"
   ]
  },
  {
   "cell_type": "code",
   "execution_count": 2,
   "metadata": {},
   "outputs": [],
   "source": [
    "data_dir = \"./data/\"\n"
   ]
  },
  {
   "cell_type": "code",
   "execution_count": 3,
   "metadata": {},
   "outputs": [],
   "source": [
    "df = pd.read_csv(os.path.join(data_dir, \"evals.csv\"))"
   ]
  },
  {
   "cell_type": "code",
   "execution_count": 4,
   "metadata": {},
   "outputs": [
    {
     "data": {
      "text/html": [
       "<div>\n",
       "<style scoped>\n",
       "    .dataframe tbody tr th:only-of-type {\n",
       "        vertical-align: middle;\n",
       "    }\n",
       "\n",
       "    .dataframe tbody tr th {\n",
       "        vertical-align: top;\n",
       "    }\n",
       "\n",
       "    .dataframe thead th {\n",
       "        text-align: right;\n",
       "    }\n",
       "</style>\n",
       "<table border=\"1\" class=\"dataframe\">\n",
       "  <thead>\n",
       "    <tr style=\"text-align: right;\">\n",
       "      <th></th>\n",
       "      <th>eval_id</th>\n",
       "      <th>learner_id</th>\n",
       "      <th>audience</th>\n",
       "      <th>group</th>\n",
       "      <th>level</th>\n",
       "      <th>role</th>\n",
       "      <th>organization</th>\n",
       "      <th>pronouns</th>\n",
       "      <th>sexuality</th>\n",
       "      <th>ethnicity</th>\n",
       "      <th>...</th>\n",
       "      <th>digital_content</th>\n",
       "      <th>digital_smooth</th>\n",
       "      <th>digital_professional</th>\n",
       "      <th>digital_accessible</th>\n",
       "      <th>personnel_present</th>\n",
       "      <th>personnel_pleasant</th>\n",
       "      <th>personnel_helpful</th>\n",
       "      <th>personnel_professional</th>\n",
       "      <th>personnel_inclusive</th>\n",
       "      <th>personnel_knowledgeable</th>\n",
       "    </tr>\n",
       "  </thead>\n",
       "  <tbody>\n",
       "    <tr>\n",
       "      <th>0</th>\n",
       "      <td>70000</td>\n",
       "      <td>0</td>\n",
       "      <td>Employee</td>\n",
       "      <td>PM</td>\n",
       "      <td>5</td>\n",
       "      <td>Research</td>\n",
       "      <td>CRA</td>\n",
       "      <td>NoAnswer</td>\n",
       "      <td>Heterosexual</td>\n",
       "      <td>Black</td>\n",
       "      <td>...</td>\n",
       "      <td>True</td>\n",
       "      <td>True</td>\n",
       "      <td>True</td>\n",
       "      <td>False</td>\n",
       "      <td>False</td>\n",
       "      <td>False</td>\n",
       "      <td>False</td>\n",
       "      <td>False</td>\n",
       "      <td>False</td>\n",
       "      <td>False</td>\n",
       "    </tr>\n",
       "    <tr>\n",
       "      <th>1</th>\n",
       "      <td>70000</td>\n",
       "      <td>0</td>\n",
       "      <td>Employee</td>\n",
       "      <td>PM</td>\n",
       "      <td>5</td>\n",
       "      <td>Research</td>\n",
       "      <td>CRA</td>\n",
       "      <td>NoAnswer</td>\n",
       "      <td>Heterosexual</td>\n",
       "      <td>Black</td>\n",
       "      <td>...</td>\n",
       "      <td>True</td>\n",
       "      <td>False</td>\n",
       "      <td>False</td>\n",
       "      <td>False</td>\n",
       "      <td>True</td>\n",
       "      <td>False</td>\n",
       "      <td>True</td>\n",
       "      <td>True</td>\n",
       "      <td>False</td>\n",
       "      <td>False</td>\n",
       "    </tr>\n",
       "    <tr>\n",
       "      <th>2</th>\n",
       "      <td>70001</td>\n",
       "      <td>1</td>\n",
       "      <td>Employee</td>\n",
       "      <td>PM</td>\n",
       "      <td>2</td>\n",
       "      <td>Security</td>\n",
       "      <td>NRCan</td>\n",
       "      <td>NoAnswer</td>\n",
       "      <td>Heterosexual</td>\n",
       "      <td>Caucasian</td>\n",
       "      <td>...</td>\n",
       "      <td>True</td>\n",
       "      <td>True</td>\n",
       "      <td>True</td>\n",
       "      <td>False</td>\n",
       "      <td>False</td>\n",
       "      <td>False</td>\n",
       "      <td>False</td>\n",
       "      <td>False</td>\n",
       "      <td>False</td>\n",
       "      <td>False</td>\n",
       "    </tr>\n",
       "    <tr>\n",
       "      <th>3</th>\n",
       "      <td>70001</td>\n",
       "      <td>1</td>\n",
       "      <td>Employee</td>\n",
       "      <td>PM</td>\n",
       "      <td>2</td>\n",
       "      <td>Security</td>\n",
       "      <td>NRCan</td>\n",
       "      <td>NoAnswer</td>\n",
       "      <td>Heterosexual</td>\n",
       "      <td>Caucasian</td>\n",
       "      <td>...</td>\n",
       "      <td>True</td>\n",
       "      <td>True</td>\n",
       "      <td>False</td>\n",
       "      <td>False</td>\n",
       "      <td>True</td>\n",
       "      <td>False</td>\n",
       "      <td>True</td>\n",
       "      <td>False</td>\n",
       "      <td>False</td>\n",
       "      <td>False</td>\n",
       "    </tr>\n",
       "    <tr>\n",
       "      <th>4</th>\n",
       "      <td>70002</td>\n",
       "      <td>2</td>\n",
       "      <td>Employee</td>\n",
       "      <td>IS</td>\n",
       "      <td>2</td>\n",
       "      <td>Audit</td>\n",
       "      <td>PS</td>\n",
       "      <td>NoAnswer</td>\n",
       "      <td>Heterosexual</td>\n",
       "      <td>Black</td>\n",
       "      <td>...</td>\n",
       "      <td>True</td>\n",
       "      <td>True</td>\n",
       "      <td>False</td>\n",
       "      <td>False</td>\n",
       "      <td>False</td>\n",
       "      <td>False</td>\n",
       "      <td>False</td>\n",
       "      <td>False</td>\n",
       "      <td>False</td>\n",
       "      <td>False</td>\n",
       "    </tr>\n",
       "  </tbody>\n",
       "</table>\n",
       "<p>5 rows × 52 columns</p>\n",
       "</div>"
      ],
      "text/plain": [
       "   eval_id  learner_id  audience group  level      role organization  \\\n",
       "0    70000           0  Employee    PM      5  Research          CRA   \n",
       "1    70000           0  Employee    PM      5  Research          CRA   \n",
       "2    70001           1  Employee    PM      2  Security        NRCan   \n",
       "3    70001           1  Employee    PM      2  Security        NRCan   \n",
       "4    70002           2  Employee    IS      2     Audit           PS   \n",
       "\n",
       "   pronouns     sexuality  ethnicity  ...  digital_content  digital_smooth  \\\n",
       "0  NoAnswer  Heterosexual      Black  ...             True            True   \n",
       "1  NoAnswer  Heterosexual      Black  ...             True           False   \n",
       "2  NoAnswer  Heterosexual  Caucasian  ...             True            True   \n",
       "3  NoAnswer  Heterosexual  Caucasian  ...             True            True   \n",
       "4  NoAnswer  Heterosexual      Black  ...             True            True   \n",
       "\n",
       "   digital_professional digital_accessible personnel_present  \\\n",
       "0                  True              False             False   \n",
       "1                 False              False              True   \n",
       "2                  True              False             False   \n",
       "3                 False              False              True   \n",
       "4                 False              False             False   \n",
       "\n",
       "   personnel_pleasant personnel_helpful personnel_professional  \\\n",
       "0               False             False                  False   \n",
       "1               False              True                   True   \n",
       "2               False             False                  False   \n",
       "3               False              True                  False   \n",
       "4               False             False                  False   \n",
       "\n",
       "   personnel_inclusive  personnel_knowledgeable  \n",
       "0                False                    False  \n",
       "1                False                    False  \n",
       "2                False                    False  \n",
       "3                False                    False  \n",
       "4                False                    False  \n",
       "\n",
       "[5 rows x 52 columns]"
      ]
     },
     "execution_count": 4,
     "metadata": {},
     "output_type": "execute_result"
    }
   ],
   "source": [
    "df.head()"
   ]
  },
  {
   "cell_type": "code",
   "execution_count": 5,
   "metadata": {},
   "outputs": [
    {
     "data": {
      "text/html": [
       "<div>\n",
       "<style scoped>\n",
       "    .dataframe tbody tr th:only-of-type {\n",
       "        vertical-align: middle;\n",
       "    }\n",
       "\n",
       "    .dataframe tbody tr th {\n",
       "        vertical-align: top;\n",
       "    }\n",
       "\n",
       "    .dataframe thead th {\n",
       "        text-align: right;\n",
       "    }\n",
       "</style>\n",
       "<table border=\"1\" class=\"dataframe\">\n",
       "  <thead>\n",
       "    <tr style=\"text-align: right;\">\n",
       "      <th></th>\n",
       "      <th>eval_id</th>\n",
       "      <th>learner_id</th>\n",
       "      <th>level</th>\n",
       "      <th>registration_id</th>\n",
       "      <th>offering_id</th>\n",
       "      <th>module</th>\n",
       "      <th>current_skill</th>\n",
       "      <th>desired_skill</th>\n",
       "      <th>final_skill</th>\n",
       "      <th>rating</th>\n",
       "      <th>percent_completed</th>\n",
       "    </tr>\n",
       "  </thead>\n",
       "  <tbody>\n",
       "    <tr>\n",
       "      <th>count</th>\n",
       "      <td>15432.000000</td>\n",
       "      <td>15432.000000</td>\n",
       "      <td>15432.000000</td>\n",
       "      <td>15432.000000</td>\n",
       "      <td>15432.000000</td>\n",
       "      <td>15432.000000</td>\n",
       "      <td>15432.000000</td>\n",
       "      <td>15432.000000</td>\n",
       "      <td>15432.00000</td>\n",
       "      <td>15432.000000</td>\n",
       "      <td>15432.000000</td>\n",
       "    </tr>\n",
       "    <tr>\n",
       "      <th>mean</th>\n",
       "      <td>80618.420684</td>\n",
       "      <td>10618.420684</td>\n",
       "      <td>3.396449</td>\n",
       "      <td>99624.641524</td>\n",
       "      <td>960.199067</td>\n",
       "      <td>181.865474</td>\n",
       "      <td>2.578992</td>\n",
       "      <td>4.735550</td>\n",
       "      <td>3.01471</td>\n",
       "      <td>7.150467</td>\n",
       "      <td>0.784707</td>\n",
       "    </tr>\n",
       "    <tr>\n",
       "      <th>std</th>\n",
       "      <td>7906.514896</td>\n",
       "      <td>7906.514896</td>\n",
       "      <td>1.815167</td>\n",
       "      <td>73716.390247</td>\n",
       "      <td>94.998638</td>\n",
       "      <td>96.418462</td>\n",
       "      <td>1.845355</td>\n",
       "      <td>1.919206</td>\n",
       "      <td>1.91132</td>\n",
       "      <td>2.246500</td>\n",
       "      <td>0.188182</td>\n",
       "    </tr>\n",
       "    <tr>\n",
       "      <th>min</th>\n",
       "      <td>70000.000000</td>\n",
       "      <td>0.000000</td>\n",
       "      <td>1.000000</td>\n",
       "      <td>0.000000</td>\n",
       "      <td>877.000000</td>\n",
       "      <td>101.000000</td>\n",
       "      <td>0.000000</td>\n",
       "      <td>2.000000</td>\n",
       "      <td>0.00000</td>\n",
       "      <td>3.000000</td>\n",
       "      <td>0.000000</td>\n",
       "    </tr>\n",
       "    <tr>\n",
       "      <th>25%</th>\n",
       "      <td>73428.750000</td>\n",
       "      <td>3428.750000</td>\n",
       "      <td>2.000000</td>\n",
       "      <td>30428.750000</td>\n",
       "      <td>880.000000</td>\n",
       "      <td>101.000000</td>\n",
       "      <td>1.000000</td>\n",
       "      <td>3.000000</td>\n",
       "      <td>2.00000</td>\n",
       "      <td>5.000000</td>\n",
       "      <td>0.700000</td>\n",
       "    </tr>\n",
       "    <tr>\n",
       "      <th>50%</th>\n",
       "      <td>77357.500000</td>\n",
       "      <td>7357.500000</td>\n",
       "      <td>3.000000</td>\n",
       "      <td>70357.500000</td>\n",
       "      <td>884.000000</td>\n",
       "      <td>102.000000</td>\n",
       "      <td>2.000000</td>\n",
       "      <td>5.000000</td>\n",
       "      <td>3.00000</td>\n",
       "      <td>7.000000</td>\n",
       "      <td>0.800000</td>\n",
       "    </tr>\n",
       "    <tr>\n",
       "      <th>75%</th>\n",
       "      <td>89570.250000</td>\n",
       "      <td>19570.250000</td>\n",
       "      <td>5.000000</td>\n",
       "      <td>182141.250000</td>\n",
       "      <td>1077.000000</td>\n",
       "      <td>301.000000</td>\n",
       "      <td>4.000000</td>\n",
       "      <td>6.000000</td>\n",
       "      <td>4.00000</td>\n",
       "      <td>9.000000</td>\n",
       "      <td>1.000000</td>\n",
       "    </tr>\n",
       "    <tr>\n",
       "      <th>max</th>\n",
       "      <td>91999.000000</td>\n",
       "      <td>21999.000000</td>\n",
       "      <td>7.000000</td>\n",
       "      <td>192999.000000</td>\n",
       "      <td>1078.000000</td>\n",
       "      <td>301.000000</td>\n",
       "      <td>10.000000</td>\n",
       "      <td>12.000000</td>\n",
       "      <td>11.00000</td>\n",
       "      <td>10.000000</td>\n",
       "      <td>1.000000</td>\n",
       "    </tr>\n",
       "  </tbody>\n",
       "</table>\n",
       "</div>"
      ],
      "text/plain": [
       "            eval_id    learner_id         level  registration_id  \\\n",
       "count  15432.000000  15432.000000  15432.000000     15432.000000   \n",
       "mean   80618.420684  10618.420684      3.396449     99624.641524   \n",
       "std     7906.514896   7906.514896      1.815167     73716.390247   \n",
       "min    70000.000000      0.000000      1.000000         0.000000   \n",
       "25%    73428.750000   3428.750000      2.000000     30428.750000   \n",
       "50%    77357.500000   7357.500000      3.000000     70357.500000   \n",
       "75%    89570.250000  19570.250000      5.000000    182141.250000   \n",
       "max    91999.000000  21999.000000      7.000000    192999.000000   \n",
       "\n",
       "        offering_id        module  current_skill  desired_skill  final_skill  \\\n",
       "count  15432.000000  15432.000000   15432.000000   15432.000000  15432.00000   \n",
       "mean     960.199067    181.865474       2.578992       4.735550      3.01471   \n",
       "std       94.998638     96.418462       1.845355       1.919206      1.91132   \n",
       "min      877.000000    101.000000       0.000000       2.000000      0.00000   \n",
       "25%      880.000000    101.000000       1.000000       3.000000      2.00000   \n",
       "50%      884.000000    102.000000       2.000000       5.000000      3.00000   \n",
       "75%     1077.000000    301.000000       4.000000       6.000000      4.00000   \n",
       "max     1078.000000    301.000000      10.000000      12.000000     11.00000   \n",
       "\n",
       "             rating  percent_completed  \n",
       "count  15432.000000       15432.000000  \n",
       "mean       7.150467           0.784707  \n",
       "std        2.246500           0.188182  \n",
       "min        3.000000           0.000000  \n",
       "25%        5.000000           0.700000  \n",
       "50%        7.000000           0.800000  \n",
       "75%        9.000000           1.000000  \n",
       "max       10.000000           1.000000  "
      ]
     },
     "execution_count": 5,
     "metadata": {},
     "output_type": "execute_result"
    }
   ],
   "source": [
    "df.describe()"
   ]
  },
  {
   "cell_type": "code",
   "execution_count": 6,
   "metadata": {},
   "outputs": [],
   "source": [
    "audience = df.audience\n",
    "role = df.role"
   ]
  },
  {
   "cell_type": "code",
   "execution_count": 7,
   "metadata": {},
   "outputs": [],
   "source": [
    "scan = df.drop(['eval_id', 'learner_id', 'registration_id', 'offering_id'], axis=1)"
   ]
  },
  {
   "cell_type": "code",
   "execution_count": 8,
   "metadata": {},
   "outputs": [
    {
     "data": {
      "text/html": [
       "<div>\n",
       "<style scoped>\n",
       "    .dataframe tbody tr th:only-of-type {\n",
       "        vertical-align: middle;\n",
       "    }\n",
       "\n",
       "    .dataframe tbody tr th {\n",
       "        vertical-align: top;\n",
       "    }\n",
       "\n",
       "    .dataframe thead th {\n",
       "        text-align: right;\n",
       "    }\n",
       "</style>\n",
       "<table border=\"1\" class=\"dataframe\">\n",
       "  <thead>\n",
       "    <tr style=\"text-align: right;\">\n",
       "      <th></th>\n",
       "      <th></th>\n",
       "      <th></th>\n",
       "      <th>level</th>\n",
       "      <th>person_with_disability</th>\n",
       "      <th>module</th>\n",
       "      <th>current_skill</th>\n",
       "      <th>desired_skill</th>\n",
       "      <th>final_skill</th>\n",
       "      <th>recommend</th>\n",
       "      <th>rating</th>\n",
       "      <th>clear</th>\n",
       "      <th>entertaining</th>\n",
       "      <th>...</th>\n",
       "      <th>digital_content</th>\n",
       "      <th>digital_smooth</th>\n",
       "      <th>digital_professional</th>\n",
       "      <th>digital_accessible</th>\n",
       "      <th>personnel_present</th>\n",
       "      <th>personnel_pleasant</th>\n",
       "      <th>personnel_helpful</th>\n",
       "      <th>personnel_professional</th>\n",
       "      <th>personnel_inclusive</th>\n",
       "      <th>personnel_knowledgeable</th>\n",
       "    </tr>\n",
       "    <tr>\n",
       "      <th>audience</th>\n",
       "      <th>role</th>\n",
       "      <th>ethnicity</th>\n",
       "      <th></th>\n",
       "      <th></th>\n",
       "      <th></th>\n",
       "      <th></th>\n",
       "      <th></th>\n",
       "      <th></th>\n",
       "      <th></th>\n",
       "      <th></th>\n",
       "      <th></th>\n",
       "      <th></th>\n",
       "      <th></th>\n",
       "      <th></th>\n",
       "      <th></th>\n",
       "      <th></th>\n",
       "      <th></th>\n",
       "      <th></th>\n",
       "      <th></th>\n",
       "      <th></th>\n",
       "      <th></th>\n",
       "      <th></th>\n",
       "      <th></th>\n",
       "    </tr>\n",
       "  </thead>\n",
       "  <tbody>\n",
       "    <tr>\n",
       "      <th rowspan=\"5\" valign=\"top\">Employee</th>\n",
       "      <th rowspan=\"5\" valign=\"top\">Administrative</th>\n",
       "      <th>Asian</th>\n",
       "      <td>2.944000</td>\n",
       "      <td>0.056000</td>\n",
       "      <td>181.312000</td>\n",
       "      <td>2.544000</td>\n",
       "      <td>4.584000</td>\n",
       "      <td>2.920000</td>\n",
       "      <td>0.704000</td>\n",
       "      <td>6.888000</td>\n",
       "      <td>0.432000</td>\n",
       "      <td>0.360000</td>\n",
       "      <td>...</td>\n",
       "      <td>0.952000</td>\n",
       "      <td>0.528000</td>\n",
       "      <td>0.376000</td>\n",
       "      <td>0.424000</td>\n",
       "      <td>0.712000</td>\n",
       "      <td>0.304000</td>\n",
       "      <td>0.384000</td>\n",
       "      <td>0.272000</td>\n",
       "      <td>0.312000</td>\n",
       "      <td>0.352000</td>\n",
       "    </tr>\n",
       "    <tr>\n",
       "      <th>Black</th>\n",
       "      <td>2.709402</td>\n",
       "      <td>0.119658</td>\n",
       "      <td>179.948718</td>\n",
       "      <td>2.760684</td>\n",
       "      <td>4.888889</td>\n",
       "      <td>3.162393</td>\n",
       "      <td>0.743590</td>\n",
       "      <td>7.119658</td>\n",
       "      <td>0.478632</td>\n",
       "      <td>0.384615</td>\n",
       "      <td>...</td>\n",
       "      <td>0.948718</td>\n",
       "      <td>0.410256</td>\n",
       "      <td>0.478632</td>\n",
       "      <td>0.384615</td>\n",
       "      <td>0.709402</td>\n",
       "      <td>0.350427</td>\n",
       "      <td>0.427350</td>\n",
       "      <td>0.367521</td>\n",
       "      <td>0.282051</td>\n",
       "      <td>0.333333</td>\n",
       "    </tr>\n",
       "    <tr>\n",
       "      <th>Caucasian</th>\n",
       "      <td>2.766284</td>\n",
       "      <td>0.072797</td>\n",
       "      <td>181.762452</td>\n",
       "      <td>2.747126</td>\n",
       "      <td>4.816092</td>\n",
       "      <td>3.191571</td>\n",
       "      <td>0.739464</td>\n",
       "      <td>6.931034</td>\n",
       "      <td>0.478927</td>\n",
       "      <td>0.417625</td>\n",
       "      <td>...</td>\n",
       "      <td>0.984674</td>\n",
       "      <td>0.402299</td>\n",
       "      <td>0.409962</td>\n",
       "      <td>0.425287</td>\n",
       "      <td>0.704981</td>\n",
       "      <td>0.241379</td>\n",
       "      <td>0.352490</td>\n",
       "      <td>0.363985</td>\n",
       "      <td>0.279693</td>\n",
       "      <td>0.371648</td>\n",
       "    </tr>\n",
       "    <tr>\n",
       "      <th>Indigenous</th>\n",
       "      <td>2.923077</td>\n",
       "      <td>0.076923</td>\n",
       "      <td>185.051282</td>\n",
       "      <td>2.427350</td>\n",
       "      <td>4.589744</td>\n",
       "      <td>2.914530</td>\n",
       "      <td>0.717949</td>\n",
       "      <td>7.247863</td>\n",
       "      <td>0.504274</td>\n",
       "      <td>0.461538</td>\n",
       "      <td>...</td>\n",
       "      <td>1.000000</td>\n",
       "      <td>0.444444</td>\n",
       "      <td>0.410256</td>\n",
       "      <td>0.512821</td>\n",
       "      <td>0.709402</td>\n",
       "      <td>0.316239</td>\n",
       "      <td>0.410256</td>\n",
       "      <td>0.418803</td>\n",
       "      <td>0.333333</td>\n",
       "      <td>0.333333</td>\n",
       "    </tr>\n",
       "    <tr>\n",
       "      <th>Maui</th>\n",
       "      <td>2.730769</td>\n",
       "      <td>0.061538</td>\n",
       "      <td>169.030769</td>\n",
       "      <td>2.330769</td>\n",
       "      <td>4.484615</td>\n",
       "      <td>2.784615</td>\n",
       "      <td>0.692308</td>\n",
       "      <td>6.853846</td>\n",
       "      <td>0.423077</td>\n",
       "      <td>0.423077</td>\n",
       "      <td>...</td>\n",
       "      <td>0.969231</td>\n",
       "      <td>0.423077</td>\n",
       "      <td>0.438462</td>\n",
       "      <td>0.338462</td>\n",
       "      <td>0.676923</td>\n",
       "      <td>0.307692</td>\n",
       "      <td>0.353846</td>\n",
       "      <td>0.323077</td>\n",
       "      <td>0.269231</td>\n",
       "      <td>0.307692</td>\n",
       "    </tr>\n",
       "    <tr>\n",
       "      <th>...</th>\n",
       "      <th>...</th>\n",
       "      <th>...</th>\n",
       "      <td>...</td>\n",
       "      <td>...</td>\n",
       "      <td>...</td>\n",
       "      <td>...</td>\n",
       "      <td>...</td>\n",
       "      <td>...</td>\n",
       "      <td>...</td>\n",
       "      <td>...</td>\n",
       "      <td>...</td>\n",
       "      <td>...</td>\n",
       "      <td>...</td>\n",
       "      <td>...</td>\n",
       "      <td>...</td>\n",
       "      <td>...</td>\n",
       "      <td>...</td>\n",
       "      <td>...</td>\n",
       "      <td>...</td>\n",
       "      <td>...</td>\n",
       "      <td>...</td>\n",
       "      <td>...</td>\n",
       "      <td>...</td>\n",
       "    </tr>\n",
       "    <tr>\n",
       "      <th rowspan=\"5\" valign=\"top\">Specialist</th>\n",
       "      <th rowspan=\"5\" valign=\"top\">Security</th>\n",
       "      <th>Black</th>\n",
       "      <td>2.411765</td>\n",
       "      <td>0.000000</td>\n",
       "      <td>160.176471</td>\n",
       "      <td>2.294118</td>\n",
       "      <td>4.411765</td>\n",
       "      <td>2.882353</td>\n",
       "      <td>0.764706</td>\n",
       "      <td>7.470588</td>\n",
       "      <td>0.470588</td>\n",
       "      <td>0.470588</td>\n",
       "      <td>...</td>\n",
       "      <td>1.000000</td>\n",
       "      <td>0.470588</td>\n",
       "      <td>0.529412</td>\n",
       "      <td>0.470588</td>\n",
       "      <td>0.647059</td>\n",
       "      <td>0.411765</td>\n",
       "      <td>0.352941</td>\n",
       "      <td>0.235294</td>\n",
       "      <td>0.235294</td>\n",
       "      <td>0.235294</td>\n",
       "    </tr>\n",
       "    <tr>\n",
       "      <th>Caucasian</th>\n",
       "      <td>3.151515</td>\n",
       "      <td>0.000000</td>\n",
       "      <td>192.181818</td>\n",
       "      <td>1.848485</td>\n",
       "      <td>3.878788</td>\n",
       "      <td>2.242424</td>\n",
       "      <td>0.818182</td>\n",
       "      <td>7.757576</td>\n",
       "      <td>0.575758</td>\n",
       "      <td>0.424242</td>\n",
       "      <td>...</td>\n",
       "      <td>1.000000</td>\n",
       "      <td>0.424242</td>\n",
       "      <td>0.454545</td>\n",
       "      <td>0.575758</td>\n",
       "      <td>0.727273</td>\n",
       "      <td>0.363636</td>\n",
       "      <td>0.484848</td>\n",
       "      <td>0.424242</td>\n",
       "      <td>0.363636</td>\n",
       "      <td>0.303030</td>\n",
       "    </tr>\n",
       "    <tr>\n",
       "      <th>Indigenous</th>\n",
       "      <td>3.090909</td>\n",
       "      <td>0.045455</td>\n",
       "      <td>174.045455</td>\n",
       "      <td>2.636364</td>\n",
       "      <td>4.727273</td>\n",
       "      <td>2.909091</td>\n",
       "      <td>0.636364</td>\n",
       "      <td>6.636364</td>\n",
       "      <td>0.500000</td>\n",
       "      <td>0.136364</td>\n",
       "      <td>...</td>\n",
       "      <td>1.000000</td>\n",
       "      <td>0.409091</td>\n",
       "      <td>0.272727</td>\n",
       "      <td>0.318182</td>\n",
       "      <td>0.681818</td>\n",
       "      <td>0.454545</td>\n",
       "      <td>0.500000</td>\n",
       "      <td>0.181818</td>\n",
       "      <td>0.272727</td>\n",
       "      <td>0.409091</td>\n",
       "    </tr>\n",
       "    <tr>\n",
       "      <th>Maui</th>\n",
       "      <td>3.500000</td>\n",
       "      <td>0.000000</td>\n",
       "      <td>201.250000</td>\n",
       "      <td>3.187500</td>\n",
       "      <td>5.250000</td>\n",
       "      <td>3.625000</td>\n",
       "      <td>0.687500</td>\n",
       "      <td>6.937500</td>\n",
       "      <td>0.375000</td>\n",
       "      <td>0.312500</td>\n",
       "      <td>...</td>\n",
       "      <td>1.000000</td>\n",
       "      <td>0.562500</td>\n",
       "      <td>0.437500</td>\n",
       "      <td>0.125000</td>\n",
       "      <td>0.750000</td>\n",
       "      <td>0.312500</td>\n",
       "      <td>0.500000</td>\n",
       "      <td>0.375000</td>\n",
       "      <td>0.312500</td>\n",
       "      <td>0.562500</td>\n",
       "    </tr>\n",
       "    <tr>\n",
       "      <th>NoAnswer</th>\n",
       "      <td>3.357143</td>\n",
       "      <td>0.000000</td>\n",
       "      <td>187.000000</td>\n",
       "      <td>3.214286</td>\n",
       "      <td>5.285714</td>\n",
       "      <td>3.571429</td>\n",
       "      <td>0.642857</td>\n",
       "      <td>6.500000</td>\n",
       "      <td>0.428571</td>\n",
       "      <td>0.428571</td>\n",
       "      <td>...</td>\n",
       "      <td>1.000000</td>\n",
       "      <td>0.714286</td>\n",
       "      <td>0.214286</td>\n",
       "      <td>0.214286</td>\n",
       "      <td>0.714286</td>\n",
       "      <td>0.142857</td>\n",
       "      <td>0.500000</td>\n",
       "      <td>0.285714</td>\n",
       "      <td>0.142857</td>\n",
       "      <td>0.285714</td>\n",
       "    </tr>\n",
       "  </tbody>\n",
       "</table>\n",
       "<p>364 rows × 35 columns</p>\n",
       "</div>"
      ],
      "text/plain": [
       "                                         level  person_with_disability  \\\n",
       "audience   role           ethnicity                                      \n",
       "Employee   Administrative Asian       2.944000                0.056000   \n",
       "                          Black       2.709402                0.119658   \n",
       "                          Caucasian   2.766284                0.072797   \n",
       "                          Indigenous  2.923077                0.076923   \n",
       "                          Maui        2.730769                0.061538   \n",
       "...                                        ...                     ...   \n",
       "Specialist Security       Black       2.411765                0.000000   \n",
       "                          Caucasian   3.151515                0.000000   \n",
       "                          Indigenous  3.090909                0.045455   \n",
       "                          Maui        3.500000                0.000000   \n",
       "                          NoAnswer    3.357143                0.000000   \n",
       "\n",
       "                                          module  current_skill  \\\n",
       "audience   role           ethnicity                               \n",
       "Employee   Administrative Asian       181.312000       2.544000   \n",
       "                          Black       179.948718       2.760684   \n",
       "                          Caucasian   181.762452       2.747126   \n",
       "                          Indigenous  185.051282       2.427350   \n",
       "                          Maui        169.030769       2.330769   \n",
       "...                                          ...            ...   \n",
       "Specialist Security       Black       160.176471       2.294118   \n",
       "                          Caucasian   192.181818       1.848485   \n",
       "                          Indigenous  174.045455       2.636364   \n",
       "                          Maui        201.250000       3.187500   \n",
       "                          NoAnswer    187.000000       3.214286   \n",
       "\n",
       "                                      desired_skill  final_skill  recommend  \\\n",
       "audience   role           ethnicity                                           \n",
       "Employee   Administrative Asian            4.584000     2.920000   0.704000   \n",
       "                          Black            4.888889     3.162393   0.743590   \n",
       "                          Caucasian        4.816092     3.191571   0.739464   \n",
       "                          Indigenous       4.589744     2.914530   0.717949   \n",
       "                          Maui             4.484615     2.784615   0.692308   \n",
       "...                                             ...          ...        ...   \n",
       "Specialist Security       Black            4.411765     2.882353   0.764706   \n",
       "                          Caucasian        3.878788     2.242424   0.818182   \n",
       "                          Indigenous       4.727273     2.909091   0.636364   \n",
       "                          Maui             5.250000     3.625000   0.687500   \n",
       "                          NoAnswer         5.285714     3.571429   0.642857   \n",
       "\n",
       "                                        rating     clear  entertaining  ...  \\\n",
       "audience   role           ethnicity                                     ...   \n",
       "Employee   Administrative Asian       6.888000  0.432000      0.360000  ...   \n",
       "                          Black       7.119658  0.478632      0.384615  ...   \n",
       "                          Caucasian   6.931034  0.478927      0.417625  ...   \n",
       "                          Indigenous  7.247863  0.504274      0.461538  ...   \n",
       "                          Maui        6.853846  0.423077      0.423077  ...   \n",
       "...                                        ...       ...           ...  ...   \n",
       "Specialist Security       Black       7.470588  0.470588      0.470588  ...   \n",
       "                          Caucasian   7.757576  0.575758      0.424242  ...   \n",
       "                          Indigenous  6.636364  0.500000      0.136364  ...   \n",
       "                          Maui        6.937500  0.375000      0.312500  ...   \n",
       "                          NoAnswer    6.500000  0.428571      0.428571  ...   \n",
       "\n",
       "                                      digital_content  digital_smooth  \\\n",
       "audience   role           ethnicity                                     \n",
       "Employee   Administrative Asian              0.952000        0.528000   \n",
       "                          Black              0.948718        0.410256   \n",
       "                          Caucasian          0.984674        0.402299   \n",
       "                          Indigenous         1.000000        0.444444   \n",
       "                          Maui               0.969231        0.423077   \n",
       "...                                               ...             ...   \n",
       "Specialist Security       Black              1.000000        0.470588   \n",
       "                          Caucasian          1.000000        0.424242   \n",
       "                          Indigenous         1.000000        0.409091   \n",
       "                          Maui               1.000000        0.562500   \n",
       "                          NoAnswer           1.000000        0.714286   \n",
       "\n",
       "                                      digital_professional  \\\n",
       "audience   role           ethnicity                          \n",
       "Employee   Administrative Asian                   0.376000   \n",
       "                          Black                   0.478632   \n",
       "                          Caucasian               0.409962   \n",
       "                          Indigenous              0.410256   \n",
       "                          Maui                    0.438462   \n",
       "...                                                    ...   \n",
       "Specialist Security       Black                   0.529412   \n",
       "                          Caucasian               0.454545   \n",
       "                          Indigenous              0.272727   \n",
       "                          Maui                    0.437500   \n",
       "                          NoAnswer                0.214286   \n",
       "\n",
       "                                      digital_accessible  personnel_present  \\\n",
       "audience   role           ethnicity                                           \n",
       "Employee   Administrative Asian                 0.424000           0.712000   \n",
       "                          Black                 0.384615           0.709402   \n",
       "                          Caucasian             0.425287           0.704981   \n",
       "                          Indigenous            0.512821           0.709402   \n",
       "                          Maui                  0.338462           0.676923   \n",
       "...                                                  ...                ...   \n",
       "Specialist Security       Black                 0.470588           0.647059   \n",
       "                          Caucasian             0.575758           0.727273   \n",
       "                          Indigenous            0.318182           0.681818   \n",
       "                          Maui                  0.125000           0.750000   \n",
       "                          NoAnswer              0.214286           0.714286   \n",
       "\n",
       "                                      personnel_pleasant  personnel_helpful  \\\n",
       "audience   role           ethnicity                                           \n",
       "Employee   Administrative Asian                 0.304000           0.384000   \n",
       "                          Black                 0.350427           0.427350   \n",
       "                          Caucasian             0.241379           0.352490   \n",
       "                          Indigenous            0.316239           0.410256   \n",
       "                          Maui                  0.307692           0.353846   \n",
       "...                                                  ...                ...   \n",
       "Specialist Security       Black                 0.411765           0.352941   \n",
       "                          Caucasian             0.363636           0.484848   \n",
       "                          Indigenous            0.454545           0.500000   \n",
       "                          Maui                  0.312500           0.500000   \n",
       "                          NoAnswer              0.142857           0.500000   \n",
       "\n",
       "                                      personnel_professional  \\\n",
       "audience   role           ethnicity                            \n",
       "Employee   Administrative Asian                     0.272000   \n",
       "                          Black                     0.367521   \n",
       "                          Caucasian                 0.363985   \n",
       "                          Indigenous                0.418803   \n",
       "                          Maui                      0.323077   \n",
       "...                                                      ...   \n",
       "Specialist Security       Black                     0.235294   \n",
       "                          Caucasian                 0.424242   \n",
       "                          Indigenous                0.181818   \n",
       "                          Maui                      0.375000   \n",
       "                          NoAnswer                  0.285714   \n",
       "\n",
       "                                      personnel_inclusive  \\\n",
       "audience   role           ethnicity                         \n",
       "Employee   Administrative Asian                  0.312000   \n",
       "                          Black                  0.282051   \n",
       "                          Caucasian              0.279693   \n",
       "                          Indigenous             0.333333   \n",
       "                          Maui                   0.269231   \n",
       "...                                                   ...   \n",
       "Specialist Security       Black                  0.235294   \n",
       "                          Caucasian              0.363636   \n",
       "                          Indigenous             0.272727   \n",
       "                          Maui                   0.312500   \n",
       "                          NoAnswer               0.142857   \n",
       "\n",
       "                                      personnel_knowledgeable  \n",
       "audience   role           ethnicity                            \n",
       "Employee   Administrative Asian                      0.352000  \n",
       "                          Black                      0.333333  \n",
       "                          Caucasian                  0.371648  \n",
       "                          Indigenous                 0.333333  \n",
       "                          Maui                       0.307692  \n",
       "...                                                       ...  \n",
       "Specialist Security       Black                      0.235294  \n",
       "                          Caucasian                  0.303030  \n",
       "                          Indigenous                 0.409091  \n",
       "                          Maui                       0.562500  \n",
       "                          NoAnswer                   0.285714  \n",
       "\n",
       "[364 rows x 35 columns]"
      ]
     },
     "execution_count": 8,
     "metadata": {},
     "output_type": "execute_result"
    }
   ],
   "source": [
    "scan.groupby(['audience', 'role', 'ethnicity']).agg('mean')"
   ]
  },
  {
   "cell_type": "code",
   "execution_count": 9,
   "metadata": {},
   "outputs": [
    {
     "data": {
      "text/html": [
       "<div>\n",
       "<style scoped>\n",
       "    .dataframe tbody tr th:only-of-type {\n",
       "        vertical-align: middle;\n",
       "    }\n",
       "\n",
       "    .dataframe tbody tr th {\n",
       "        vertical-align: top;\n",
       "    }\n",
       "\n",
       "    .dataframe thead th {\n",
       "        text-align: right;\n",
       "    }\n",
       "</style>\n",
       "<table border=\"1\" class=\"dataframe\">\n",
       "  <thead>\n",
       "    <tr style=\"text-align: right;\">\n",
       "      <th></th>\n",
       "      <th>level</th>\n",
       "      <th>person_with_disability</th>\n",
       "      <th>current_skill</th>\n",
       "      <th>desired_skill</th>\n",
       "      <th>final_skill</th>\n",
       "      <th>recommend</th>\n",
       "      <th>rating</th>\n",
       "      <th>clear</th>\n",
       "      <th>entertaining</th>\n",
       "      <th>relevant</th>\n",
       "      <th>...</th>\n",
       "      <th>digital_content</th>\n",
       "      <th>digital_smooth</th>\n",
       "      <th>digital_professional</th>\n",
       "      <th>digital_accessible</th>\n",
       "      <th>personnel_present</th>\n",
       "      <th>personnel_pleasant</th>\n",
       "      <th>personnel_helpful</th>\n",
       "      <th>personnel_professional</th>\n",
       "      <th>personnel_inclusive</th>\n",
       "      <th>personnel_knowledgeable</th>\n",
       "    </tr>\n",
       "    <tr>\n",
       "      <th>module</th>\n",
       "      <th></th>\n",
       "      <th></th>\n",
       "      <th></th>\n",
       "      <th></th>\n",
       "      <th></th>\n",
       "      <th></th>\n",
       "      <th></th>\n",
       "      <th></th>\n",
       "      <th></th>\n",
       "      <th></th>\n",
       "      <th></th>\n",
       "      <th></th>\n",
       "      <th></th>\n",
       "      <th></th>\n",
       "      <th></th>\n",
       "      <th></th>\n",
       "      <th></th>\n",
       "      <th></th>\n",
       "      <th></th>\n",
       "      <th></th>\n",
       "      <th></th>\n",
       "    </tr>\n",
       "  </thead>\n",
       "  <tbody>\n",
       "    <tr>\n",
       "      <th>101</th>\n",
       "      <td>3.380000</td>\n",
       "      <td>0.052667</td>\n",
       "      <td>2.572667</td>\n",
       "      <td>4.730667</td>\n",
       "      <td>2.708889</td>\n",
       "      <td>0.679556</td>\n",
       "      <td>6.652444</td>\n",
       "      <td>0.262667</td>\n",
       "      <td>0.251333</td>\n",
       "      <td>0.246000</td>\n",
       "      <td>...</td>\n",
       "      <td>1.0</td>\n",
       "      <td>0.521333</td>\n",
       "      <td>0.414000</td>\n",
       "      <td>0.464000</td>\n",
       "      <td>0.0</td>\n",
       "      <td>0.000000</td>\n",
       "      <td>0.000000</td>\n",
       "      <td>0.000000</td>\n",
       "      <td>0.000000</td>\n",
       "      <td>0.000000</td>\n",
       "    </tr>\n",
       "    <tr>\n",
       "      <th>102</th>\n",
       "      <td>3.380000</td>\n",
       "      <td>0.052667</td>\n",
       "      <td>2.572667</td>\n",
       "      <td>4.730667</td>\n",
       "      <td>3.492222</td>\n",
       "      <td>0.739333</td>\n",
       "      <td>7.090444</td>\n",
       "      <td>0.527333</td>\n",
       "      <td>0.443111</td>\n",
       "      <td>0.547556</td>\n",
       "      <td>...</td>\n",
       "      <td>1.0</td>\n",
       "      <td>0.292444</td>\n",
       "      <td>0.307111</td>\n",
       "      <td>0.146444</td>\n",
       "      <td>1.0</td>\n",
       "      <td>0.310444</td>\n",
       "      <td>0.592000</td>\n",
       "      <td>0.417778</td>\n",
       "      <td>0.340444</td>\n",
       "      <td>0.529333</td>\n",
       "    </tr>\n",
       "    <tr>\n",
       "      <th>201</th>\n",
       "      <td>3.504630</td>\n",
       "      <td>0.069444</td>\n",
       "      <td>2.675926</td>\n",
       "      <td>4.805556</td>\n",
       "      <td>2.722222</td>\n",
       "      <td>0.509259</td>\n",
       "      <td>5.648148</td>\n",
       "      <td>0.277778</td>\n",
       "      <td>0.296296</td>\n",
       "      <td>0.347222</td>\n",
       "      <td>...</td>\n",
       "      <td>0.0</td>\n",
       "      <td>0.000000</td>\n",
       "      <td>0.000000</td>\n",
       "      <td>0.000000</td>\n",
       "      <td>1.0</td>\n",
       "      <td>0.421296</td>\n",
       "      <td>0.226852</td>\n",
       "      <td>0.208333</td>\n",
       "      <td>0.379630</td>\n",
       "      <td>0.273148</td>\n",
       "    </tr>\n",
       "    <tr>\n",
       "      <th>202</th>\n",
       "      <td>3.504630</td>\n",
       "      <td>0.069444</td>\n",
       "      <td>2.675926</td>\n",
       "      <td>4.805556</td>\n",
       "      <td>3.583333</td>\n",
       "      <td>0.805556</td>\n",
       "      <td>7.541667</td>\n",
       "      <td>0.495370</td>\n",
       "      <td>0.606481</td>\n",
       "      <td>0.583333</td>\n",
       "      <td>...</td>\n",
       "      <td>0.0</td>\n",
       "      <td>0.000000</td>\n",
       "      <td>0.000000</td>\n",
       "      <td>0.000000</td>\n",
       "      <td>1.0</td>\n",
       "      <td>0.453704</td>\n",
       "      <td>0.212963</td>\n",
       "      <td>0.222222</td>\n",
       "      <td>0.398148</td>\n",
       "      <td>0.277778</td>\n",
       "    </tr>\n",
       "    <tr>\n",
       "      <th>301</th>\n",
       "      <td>3.413333</td>\n",
       "      <td>0.050167</td>\n",
       "      <td>2.581500</td>\n",
       "      <td>4.737833</td>\n",
       "      <td>2.876000</td>\n",
       "      <td>0.800500</td>\n",
       "      <td>7.609000</td>\n",
       "      <td>0.591833</td>\n",
       "      <td>0.440833</td>\n",
       "      <td>0.588667</td>\n",
       "      <td>...</td>\n",
       "      <td>1.0</td>\n",
       "      <td>0.590833</td>\n",
       "      <td>0.476167</td>\n",
       "      <td>0.599667</td>\n",
       "      <td>1.0</td>\n",
       "      <td>0.551833</td>\n",
       "      <td>0.506667</td>\n",
       "      <td>0.558667</td>\n",
       "      <td>0.457000</td>\n",
       "      <td>0.409167</td>\n",
       "    </tr>\n",
       "  </tbody>\n",
       "</table>\n",
       "<p>5 rows × 34 columns</p>\n",
       "</div>"
      ],
      "text/plain": [
       "           level  person_with_disability  current_skill  desired_skill  \\\n",
       "module                                                                   \n",
       "101     3.380000                0.052667       2.572667       4.730667   \n",
       "102     3.380000                0.052667       2.572667       4.730667   \n",
       "201     3.504630                0.069444       2.675926       4.805556   \n",
       "202     3.504630                0.069444       2.675926       4.805556   \n",
       "301     3.413333                0.050167       2.581500       4.737833   \n",
       "\n",
       "        final_skill  recommend    rating     clear  entertaining  relevant  \\\n",
       "module                                                                       \n",
       "101        2.708889   0.679556  6.652444  0.262667      0.251333  0.246000   \n",
       "102        3.492222   0.739333  7.090444  0.527333      0.443111  0.547556   \n",
       "201        2.722222   0.509259  5.648148  0.277778      0.296296  0.347222   \n",
       "202        3.583333   0.805556  7.541667  0.495370      0.606481  0.583333   \n",
       "301        2.876000   0.800500  7.609000  0.591833      0.440833  0.588667   \n",
       "\n",
       "        ...  digital_content  digital_smooth  digital_professional  \\\n",
       "module  ...                                                          \n",
       "101     ...              1.0        0.521333              0.414000   \n",
       "102     ...              1.0        0.292444              0.307111   \n",
       "201     ...              0.0        0.000000              0.000000   \n",
       "202     ...              0.0        0.000000              0.000000   \n",
       "301     ...              1.0        0.590833              0.476167   \n",
       "\n",
       "        digital_accessible  personnel_present  personnel_pleasant  \\\n",
       "module                                                              \n",
       "101               0.464000                0.0            0.000000   \n",
       "102               0.146444                1.0            0.310444   \n",
       "201               0.000000                1.0            0.421296   \n",
       "202               0.000000                1.0            0.453704   \n",
       "301               0.599667                1.0            0.551833   \n",
       "\n",
       "        personnel_helpful  personnel_professional  personnel_inclusive  \\\n",
       "module                                                                   \n",
       "101              0.000000                0.000000             0.000000   \n",
       "102              0.592000                0.417778             0.340444   \n",
       "201              0.226852                0.208333             0.379630   \n",
       "202              0.212963                0.222222             0.398148   \n",
       "301              0.506667                0.558667             0.457000   \n",
       "\n",
       "        personnel_knowledgeable  \n",
       "module                           \n",
       "101                    0.000000  \n",
       "102                    0.529333  \n",
       "201                    0.273148  \n",
       "202                    0.277778  \n",
       "301                    0.409167  \n",
       "\n",
       "[5 rows x 34 columns]"
      ]
     },
     "execution_count": 9,
     "metadata": {},
     "output_type": "execute_result"
    }
   ],
   "source": [
    "scan.groupby('module').agg('mean')"
   ]
  },
  {
   "cell_type": "code",
   "execution_count": 10,
   "metadata": {},
   "outputs": [],
   "source": [
    "feedback = scan.drop([\"level\", \"current_skill\", \"desired_skill\", \"final_skill\", \"rating\"], axis=1)\n",
    "\n",
    "skill = scan[[\"module\", \"current_skill\", \"desired_skill\", \"final_skill\"]]\n",
    "learning_obj = scan[[\"module\", \"lo_1\", \"lo_2\"]]\n",
    "\n",
    "core = feedback[[\"module\", \"recommend\", \"clear\", \"entertaining\", \"relevant\", \"informative\", \"useful\"]]\n",
    "digital = feedback[[\"module\", \"digital_smooth\", \"digital_professional\", \"digital_accessible\"]]\n",
    "physical = feedback[[\"module\", \"physical_clean\", \"physical_accessible\", \"physical_professional\", \"physical_comfortable\"]]\n",
    "personnel = feedback[[\"module\", \"personnel_pleasant\", \"personnel_helpful\", \"personnel_professional\", \"personnel_inclusive\", \"personnel_knowledgeable\"]]\n"
   ]
  },
  {
   "cell_type": "code",
   "execution_count": 11,
   "metadata": {},
   "outputs": [
    {
     "data": {
      "text/plain": [
       "<matplotlib.axes._subplots.AxesSubplot at 0x19c94f7b4c0>"
      ]
     },
     "execution_count": 11,
     "metadata": {},
     "output_type": "execute_result"
    },
    {
     "data": {
      "image/png": "[encoded data removed]",
      "text/plain": [
       "<Figure size 720x432 with 1 Axes>"
      ]
     },
     "metadata": {
      "needs_background": "light"
     },
     "output_type": "display_data"
    }
   ],
   "source": [
    "core.groupby(\"module\").agg('mean').plot(title=\"Learner Feedback\", kind=\"bar\", figsize=(10,6))"
   ]
  },
  {
   "cell_type": "code",
   "execution_count": 12,
   "metadata": {},
   "outputs": [
    {
     "data": {
      "text/plain": [
       "<matplotlib.axes._subplots.AxesSubplot at 0x19c95ef3c40>"
      ]
     },
     "execution_count": 12,
     "metadata": {},
     "output_type": "execute_result"
    },
    {
     "data": {
      "image/png": "[encoded data removed]",
      "text/plain": [
       "<Figure size 720x432 with 1 Axes>"
      ]
     },
     "metadata": {
      "needs_background": "light"
     },
     "output_type": "display_data"
    }
   ],
   "source": [
    "digital.groupby(\"module\").agg('mean').plot(title=\"Learner Feedback - Digital XP\", kind=\"bar\", figsize=(10,6))"
   ]
  },
  {
   "cell_type": "code",
   "execution_count": 13,
   "metadata": {},
   "outputs": [
    {
     "data": {
      "text/plain": [
       "<matplotlib.axes._subplots.AxesSubplot at 0x19c95df5910>"
      ]
     },
     "execution_count": 13,
     "metadata": {},
     "output_type": "execute_result"
    },
    {
     "data": {
      "image/png": "[encoded data removed]",
      "text/plain": [
       "<Figure size 720x432 with 1 Axes>"
      ]
     },
     "metadata": {
      "needs_background": "light"
     },
     "output_type": "display_data"
    }
   ],
   "source": [
    "physical.groupby(\"module\").agg('mean').plot(title=\"Learner Feedback - Physical XP\", kind=\"bar\", figsize=(10,6))"
   ]
  },
  {
   "cell_type": "code",
   "execution_count": 14,
   "metadata": {},
   "outputs": [
    {
     "data": {
      "text/plain": [
       "<matplotlib.axes._subplots.AxesSubplot at 0x19c95e81400>"
      ]
     },
     "execution_count": 14,
     "metadata": {},
     "output_type": "execute_result"
    },
    {
     "data": {
      "image/png": "[encoded data removed]",
      "text/plain": [
       "<Figure size 720x432 with 1 Axes>"
      ]
     },
     "metadata": {
      "needs_background": "light"
     },
     "output_type": "display_data"
    }
   ],
   "source": [
    "personnel.groupby(\"module\").agg('mean').plot(title=\"Learner Feedback - Facilitator XP\", kind=\"bar\", figsize=(10,6))"
   ]
  },
  {
   "cell_type": "code",
   "execution_count": 15,
   "metadata": {},
   "outputs": [
    {
     "data": {
      "text/plain": [
       "<matplotlib.axes._subplots.AxesSubplot at 0x19c96f27b20>"
      ]
     },
     "execution_count": 15,
     "metadata": {},
     "output_type": "execute_result"
    },
    {
     "data": {
      "image/png": "[encoded data removed]",
      "text/plain": [
       "<Figure size 720x432 with 1 Axes>"
      ]
     },
     "metadata": {
      "needs_background": "light"
     },
     "output_type": "display_data"
    }
   ],
   "source": [
    "skill.groupby(\"module\").agg('mean').plot(title=\"Learner Skill Improvement\", kind=\"bar\", figsize=(10,6))"
   ]
  },
  {
   "cell_type": "code",
   "execution_count": 16,
   "metadata": {},
   "outputs": [
    {
     "data": {
      "text/plain": [
       "array(['Exceeded', 'NotMeet', 'Meet'], dtype=object)"
      ]
     },
     "execution_count": 16,
     "metadata": {},
     "output_type": "execute_result"
    }
   ],
   "source": [
    "learning_obj.lo_1.unique()"
   ]
  },
  {
   "cell_type": "code",
   "execution_count": 17,
   "metadata": {},
   "outputs": [
    {
     "data": {
      "text/plain": [
       "<matplotlib.axes._subplots.AxesSubplot at 0x19c95deaa00>"
      ]
     },
     "execution_count": 17,
     "metadata": {},
     "output_type": "execute_result"
    },
    {
     "data": {
      "image/png": "[encoded data removed]",
      "text/plain": [
       "<Figure size 720x432 with 1 Axes>"
      ]
     },
     "metadata": {
      "needs_background": "light"
     },
     "output_type": "display_data"
    }
   ],
   "source": [
    "pd.crosstab(learning_obj.module, learning_obj.lo_1, normalize='index').plot(kind='bar', color=['C2', 'C0', 'C1'], title=\"Learning Objective 1 Met\", figsize=(10,6))"
   ]
  },
  {
   "cell_type": "code",
   "execution_count": 18,
   "metadata": {},
   "outputs": [
    {
     "data": {
      "text/plain": [
       "<matplotlib.axes._subplots.AxesSubplot at 0x19c97082c10>"
      ]
     },
     "execution_count": 18,
     "metadata": {},
     "output_type": "execute_result"
    },
    {
     "data": {
      "image/png": "[encoded data removed]",
      "text/plain": [
       "<Figure size 720x432 with 1 Axes>"
      ]
     },
     "metadata": {
      "needs_background": "light"
     },
     "output_type": "display_data"
    }
   ],
   "source": [
    "pd.crosstab(learning_obj.module, learning_obj.lo_2, normalize='index').plot(kind='bar', color=['C2', 'C0', 'C1'], title=\"Learning Objective 2 Met\", figsize=(10,6))"
   ]
  },
  {
   "cell_type": "code",
   "execution_count": 19,
   "metadata": {},
   "outputs": [
    {
     "data": {
      "text/plain": [
       "Index(['module', 'lo_1', 'lo_2'], dtype='object')"
      ]
     },
     "execution_count": 19,
     "metadata": {},
     "output_type": "execute_result"
    }
   ],
   "source": [
    "learning_obj.columns"
   ]
  },
  {
   "cell_type": "code",
   "execution_count": 20,
   "metadata": {},
   "outputs": [],
   "source": [
    "eleven_grad=[\"darkred\", \"brown\", \"darkorange\", \"orange\", \"gold\", \"dodgerblue\", \"royalblue\", \"blue\", \"green\", \"forestgreen\", \"limegreen\"]"
   ]
  },
  {
   "cell_type": "code",
   "execution_count": 21,
   "metadata": {},
   "outputs": [
    {
     "data": {
      "text/plain": [
       "<matplotlib.axes._subplots.AxesSubplot at 0x19c9710e2e0>"
      ]
     },
     "execution_count": 21,
     "metadata": {},
     "output_type": "execute_result"
    },
    {
     "data": {
      "image/png": "[encoded data removed]",
      "text/plain": [
       "<Figure size 1008x432 with 1 Axes>"
      ]
     },
     "metadata": {
      "needs_background": "light"
     },
     "output_type": "display_data"
    }
   ],
   "source": [
    "pd.crosstab(scan.module, scan.percent_completed, normalize='index').plot(kind='bar', title=\"% of Module Completed\", figsize=(14,6), color=eleven_grad)"
   ]
  },
  {
   "cell_type": "code",
   "execution_count": 22,
   "metadata": {},
   "outputs": [
    {
     "data": {
      "text/html": [
       "<div>\n",
       "<style scoped>\n",
       "    .dataframe tbody tr th:only-of-type {\n",
       "        vertical-align: middle;\n",
       "    }\n",
       "\n",
       "    .dataframe tbody tr th {\n",
       "        vertical-align: top;\n",
       "    }\n",
       "\n",
       "    .dataframe thead th {\n",
       "        text-align: right;\n",
       "    }\n",
       "</style>\n",
       "<table border=\"1\" class=\"dataframe\">\n",
       "  <thead>\n",
       "    <tr style=\"text-align: right;\">\n",
       "      <th></th>\n",
       "      <th>rating</th>\n",
       "      <th>3</th>\n",
       "      <th>4</th>\n",
       "      <th>5</th>\n",
       "      <th>6</th>\n",
       "      <th>7</th>\n",
       "      <th>8</th>\n",
       "      <th>9</th>\n",
       "      <th>10</th>\n",
       "    </tr>\n",
       "    <tr>\n",
       "      <th>offering_id</th>\n",
       "      <th>learning_product</th>\n",
       "      <th></th>\n",
       "      <th></th>\n",
       "      <th></th>\n",
       "      <th></th>\n",
       "      <th></th>\n",
       "      <th></th>\n",
       "      <th></th>\n",
       "      <th></th>\n",
       "    </tr>\n",
       "  </thead>\n",
       "  <tbody>\n",
       "    <tr>\n",
       "      <th>877</th>\n",
       "      <th>I501</th>\n",
       "      <td>107</td>\n",
       "      <td>79</td>\n",
       "      <td>107</td>\n",
       "      <td>138</td>\n",
       "      <td>167</td>\n",
       "      <td>139</td>\n",
       "      <td>92</td>\n",
       "      <td>171</td>\n",
       "    </tr>\n",
       "    <tr>\n",
       "      <th>878</th>\n",
       "      <th>I501</th>\n",
       "      <td>91</td>\n",
       "      <td>76</td>\n",
       "      <td>107</td>\n",
       "      <td>145</td>\n",
       "      <td>150</td>\n",
       "      <td>161</td>\n",
       "      <td>97</td>\n",
       "      <td>173</td>\n",
       "    </tr>\n",
       "    <tr>\n",
       "      <th>879</th>\n",
       "      <th>I501</th>\n",
       "      <td>101</td>\n",
       "      <td>81</td>\n",
       "      <td>123</td>\n",
       "      <td>141</td>\n",
       "      <td>147</td>\n",
       "      <td>133</td>\n",
       "      <td>121</td>\n",
       "      <td>153</td>\n",
       "    </tr>\n",
       "    <tr>\n",
       "      <th>880</th>\n",
       "      <th>I501</th>\n",
       "      <td>103</td>\n",
       "      <td>103</td>\n",
       "      <td>102</td>\n",
       "      <td>119</td>\n",
       "      <td>150</td>\n",
       "      <td>149</td>\n",
       "      <td>102</td>\n",
       "      <td>172</td>\n",
       "    </tr>\n",
       "    <tr>\n",
       "      <th>881</th>\n",
       "      <th>I501</th>\n",
       "      <td>96</td>\n",
       "      <td>89</td>\n",
       "      <td>119</td>\n",
       "      <td>133</td>\n",
       "      <td>129</td>\n",
       "      <td>156</td>\n",
       "      <td>110</td>\n",
       "      <td>168</td>\n",
       "    </tr>\n",
       "    <tr>\n",
       "      <th>882</th>\n",
       "      <th>I501</th>\n",
       "      <td>101</td>\n",
       "      <td>81</td>\n",
       "      <td>123</td>\n",
       "      <td>139</td>\n",
       "      <td>145</td>\n",
       "      <td>149</td>\n",
       "      <td>89</td>\n",
       "      <td>173</td>\n",
       "    </tr>\n",
       "    <tr>\n",
       "      <th>883</th>\n",
       "      <th>I501</th>\n",
       "      <td>92</td>\n",
       "      <td>62</td>\n",
       "      <td>115</td>\n",
       "      <td>149</td>\n",
       "      <td>178</td>\n",
       "      <td>129</td>\n",
       "      <td>113</td>\n",
       "      <td>162</td>\n",
       "    </tr>\n",
       "    <tr>\n",
       "      <th>884</th>\n",
       "      <th>I501</th>\n",
       "      <td>89</td>\n",
       "      <td>78</td>\n",
       "      <td>111</td>\n",
       "      <td>154</td>\n",
       "      <td>143</td>\n",
       "      <td>128</td>\n",
       "      <td>113</td>\n",
       "      <td>184</td>\n",
       "    </tr>\n",
       "    <tr>\n",
       "      <th>885</th>\n",
       "      <th>I501</th>\n",
       "      <td>79</td>\n",
       "      <td>73</td>\n",
       "      <td>127</td>\n",
       "      <td>133</td>\n",
       "      <td>168</td>\n",
       "      <td>131</td>\n",
       "      <td>120</td>\n",
       "      <td>169</td>\n",
       "    </tr>\n",
       "  </tbody>\n",
       "</table>\n",
       "</div>"
      ],
      "text/plain": [
       "rating                         3    4    5    6    7    8    9    10\n",
       "offering_id learning_product                                        \n",
       "877         I501              107   79  107  138  167  139   92  171\n",
       "878         I501               91   76  107  145  150  161   97  173\n",
       "879         I501              101   81  123  141  147  133  121  153\n",
       "880         I501              103  103  102  119  150  149  102  172\n",
       "881         I501               96   89  119  133  129  156  110  168\n",
       "882         I501              101   81  123  139  145  149   89  173\n",
       "883         I501               92   62  115  149  178  129  113  162\n",
       "884         I501               89   78  111  154  143  128  113  184\n",
       "885         I501               79   73  127  133  168  131  120  169"
      ]
     },
     "execution_count": 22,
     "metadata": {},
     "output_type": "execute_result"
    }
   ],
   "source": [
    "pd.crosstab([df.offering_id, df.learning_product.where(df.learning_product==\"I501\")], df.rating)"
   ]
  },
  {
   "cell_type": "code",
   "execution_count": 23,
   "metadata": {},
   "outputs": [],
   "source": [
    "eight_grad=[\"darkred\", \"brown\", \"orange\", \"gold\", \"dodgerblue\", \"royalblue\", \"green\", \"forestgreen\"]"
   ]
  },
  {
   "cell_type": "code",
   "execution_count": 24,
   "metadata": {},
   "outputs": [
    {
     "data": {
      "text/plain": [
       "<matplotlib.axes._subplots.AxesSubplot at 0x19c97221af0>"
      ]
     },
     "execution_count": 24,
     "metadata": {},
     "output_type": "execute_result"
    },
    {
     "data": {
      "image/png": "[encoded data removed]",
      "text/plain": [
       "<Figure size 1008x432 with 1 Axes>"
      ]
     },
     "metadata": {
      "needs_background": "light"
     },
     "output_type": "display_data"
    }
   ],
   "source": [
    "pd.crosstab([df.offering_id, df.learning_product.where(df.learning_product==\"I501\")], df.rating, normalize='index').plot(kind='bar', title=\"Rating by Offering (I501)\", figsize=(14,6),\n",
    "                                                                                                                        color=eight_grad)"
   ]
  },
  {
   "cell_type": "code",
   "execution_count": 25,
   "metadata": {},
   "outputs": [
    {
     "data": {
      "text/plain": [
       "<matplotlib.axes._subplots.AxesSubplot at 0x19c9766aa60>"
      ]
     },
     "execution_count": 25,
     "metadata": {},
     "output_type": "execute_result"
    },
    {
     "data": {
      "image/png": "[encoded data removed]",
      "text/plain": [
       "<Figure size 720x432 with 1 Axes>"
      ]
     },
     "metadata": {
      "needs_background": "light"
     },
     "output_type": "display_data"
    }
   ],
   "source": [
    "pd.crosstab(df.offering_id.where(df.learning_product==\"I501\"), df.rating, normalize=\"index\").plot(kind='bar', title=\"Rating by Offering (I501)\", figsize=(10,6), color=eight_grad)"
   ]
  },
  {
   "cell_type": "code",
   "execution_count": 26,
   "metadata": {},
   "outputs": [
    {
     "data": {
      "text/plain": [
       "<matplotlib.axes._subplots.AxesSubplot at 0x19c9778cc40>"
      ]
     },
     "execution_count": 26,
     "metadata": {},
     "output_type": "execute_result"
    },
    {
     "data": {
      "image/png": "[encoded data removed]",
      "text/plain": [
       "<Figure size 720x432 with 1 Axes>"
      ]
     },
     "metadata": {
      "needs_background": "light"
     },
     "output_type": "display_data"
    }
   ],
   "source": [
    "df.groupby(df[\"offering_id\"].where(df.learning_product==\"P901\"))[\"rating\"].value_counts(normalize=True).unstack().plot(kind='bar', title=\"Rating by Offering (P901)\", figsize=(10,6),\n",
    "                                                                                                                      color=eight_grad)"
   ]
  },
  {
   "cell_type": "code",
   "execution_count": 27,
   "metadata": {},
   "outputs": [
    {
     "data": {
      "text/plain": [
       "<matplotlib.axes._subplots.AxesSubplot at 0x19c9766a5e0>"
      ]
     },
     "execution_count": 27,
     "metadata": {},
     "output_type": "execute_result"
    },
    {
     "data": {
      "image/png": "[encoded data removed]",
      "text/plain": [
       "<Figure size 720x432 with 1 Axes>"
      ]
     },
     "metadata": {
      "needs_background": "light"
     },
     "output_type": "display_data"
    }
   ],
   "source": [
    "pd.crosstab([df.offering_id, df.learning_product.where(df.learning_product==\"P901\")], df.rating, normalize=\"index\").plot(kind='bar', title=\"Rating by Offering (P901)\", figsize=(10,6),\n",
    "                                                                                                                      color=eight_grad)"
   ]
  },
  {
   "cell_type": "code",
   "execution_count": 28,
   "metadata": {},
   "outputs": [
    {
     "data": {
      "text/plain": [
       "<matplotlib.axes._subplots.AxesSubplot at 0x19c970743a0>"
      ]
     },
     "execution_count": 28,
     "metadata": {},
     "output_type": "execute_result"
    },
    {
     "data": {
      "image/png": "[encoded data removed]",
      "text/plain": [
       "<Figure size 720x432 with 1 Axes>"
      ]
     },
     "metadata": {
      "needs_background": "light"
     },
     "output_type": "display_data"
    }
   ],
   "source": [
    "pd.crosstab([df.offering_id, df.learning_product.where(df.learning_product==\"P901\")], df.recommend, normalize=\"index\").plot(kind='bar', title=\"Recommended by Offering (E311)\", figsize=(10,6))"
   ]
  },
  {
   "cell_type": "code",
   "execution_count": 29,
   "metadata": {},
   "outputs": [
    {
     "data": {
      "text/plain": [
       "<matplotlib.axes._subplots.AxesSubplot at 0x19c97afa2b0>"
      ]
     },
     "execution_count": 29,
     "metadata": {},
     "output_type": "execute_result"
    },
    {
     "data": {
      "image/png": "[encoded data removed]",
      "text/plain": [
       "<Figure size 720x432 with 1 Axes>"
      ]
     },
     "metadata": {
      "needs_background": "light"
     },
     "output_type": "display_data"
    }
   ],
   "source": [
    "pd.crosstab(df.offering_id, df.rating, normalize=\"index\").agg(\"mean\").plot(kind='bar', title=\"Rating by Offering\", figsize=(10,6))"
   ]
  },
  {
   "cell_type": "code",
   "execution_count": 30,
   "metadata": {},
   "outputs": [],
   "source": [
    "rating_offering = df[[\"learning_product\", \"rating\"]]"
   ]
  },
  {
   "cell_type": "code",
   "execution_count": 31,
   "metadata": {},
   "outputs": [
    {
     "data": {
      "text/plain": [
       "<matplotlib.axes._subplots.AxesSubplot at 0x19c97b4f550>"
      ]
     },
     "execution_count": 31,
     "metadata": {},
     "output_type": "execute_result"
    },
    {
     "data": {
      "image/png": "[encoded data removed]",
      "text/plain": [
       "<Figure size 432x288 with 1 Axes>"
      ]
     },
     "metadata": {
      "needs_background": "light"
     },
     "output_type": "display_data"
    }
   ],
   "source": [
    "rating_offering.groupby(\"learning_product\").agg(\"mean\").plot(kind=\"bar\", title=\"Rating by Learning Product\")"
   ]
  },
  {
   "cell_type": "code",
   "execution_count": 32,
   "metadata": {},
   "outputs": [
    {
     "data": {
      "text/html": [
       "<div>\n",
       "<style scoped>\n",
       "    .dataframe tbody tr th:only-of-type {\n",
       "        vertical-align: middle;\n",
       "    }\n",
       "\n",
       "    .dataframe tbody tr th {\n",
       "        vertical-align: top;\n",
       "    }\n",
       "\n",
       "    .dataframe thead th {\n",
       "        text-align: right;\n",
       "    }\n",
       "</style>\n",
       "<table border=\"1\" class=\"dataframe\">\n",
       "  <thead>\n",
       "    <tr style=\"text-align: right;\">\n",
       "      <th></th>\n",
       "      <th>rating</th>\n",
       "    </tr>\n",
       "    <tr>\n",
       "      <th>learning_product</th>\n",
       "      <th></th>\n",
       "    </tr>\n",
       "  </thead>\n",
       "  <tbody>\n",
       "    <tr>\n",
       "      <th>E311</th>\n",
       "      <td>7.609000</td>\n",
       "    </tr>\n",
       "    <tr>\n",
       "      <th>I501</th>\n",
       "      <td>6.871444</td>\n",
       "    </tr>\n",
       "    <tr>\n",
       "      <th>P901</th>\n",
       "      <td>6.594907</td>\n",
       "    </tr>\n",
       "  </tbody>\n",
       "</table>\n",
       "</div>"
      ],
      "text/plain": [
       "                    rating\n",
       "learning_product          \n",
       "E311              7.609000\n",
       "I501              6.871444\n",
       "P901              6.594907"
      ]
     },
     "execution_count": 32,
     "metadata": {},
     "output_type": "execute_result"
    }
   ],
   "source": [
    "rating_offering.groupby(\"learning_product\").agg(\"mean\")"
   ]
  },
  {
   "cell_type": "code",
   "execution_count": 33,
   "metadata": {},
   "outputs": [
    {
     "data": {
      "text/plain": [
       "<matplotlib.axes._subplots.AxesSubplot at 0x19c97d3d550>"
      ]
     },
     "execution_count": 33,
     "metadata": {},
     "output_type": "execute_result"
    },
    {
     "data": {
      "image/png": "[encoded data removed]",
      "text/plain": [
       "<Figure size 720x432 with 1 Axes>"
      ]
     },
     "metadata": {
      "needs_background": "light"
     },
     "output_type": "display_data"
    }
   ],
   "source": [
    "pd.crosstab([df.ethnicity, df.audience], df.inclusive, normalize=\"index\").plot(kind='bar', title=\"Inclusivity by Ethnicity and Audience\", figsize=(10,6))"
   ]
  },
  {
   "cell_type": "code",
   "execution_count": 34,
   "metadata": {},
   "outputs": [
    {
     "data": {
      "text/plain": [
       "<matplotlib.axes._subplots.AxesSubplot at 0x19c98e30190>"
      ]
     },
     "execution_count": 34,
     "metadata": {},
     "output_type": "execute_result"
    },
    {
     "data": {
      "image/png": "[encoded data removed]",
      "text/plain": [
       "<Figure size 720x432 with 1 Axes>"
      ]
     },
     "metadata": {
      "needs_background": "light"
     },
     "output_type": "display_data"
    }
   ],
   "source": [
    "pd.crosstab(df.ethnicity, df.inclusive==True, normalize=\"index\").plot(kind='bar', title=\"Inclusivity by Ethnicity\", figsize=(10,6))"
   ]
  },
  {
   "cell_type": "code",
   "execution_count": 35,
   "metadata": {},
   "outputs": [
    {
     "data": {
      "text/plain": [
       "<matplotlib.axes._subplots.AxesSubplot at 0x19c98e73970>"
      ]
     },
     "execution_count": 35,
     "metadata": {},
     "output_type": "execute_result"
    },
    {
     "data": {
      "image/png": "[encoded data removed]",
      "text/plain": [
       "<Figure size 720x432 with 1 Axes>"
      ]
     },
     "metadata": {
      "needs_background": "light"
     },
     "output_type": "display_data"
    }
   ],
   "source": [
    "pd.crosstab(df.audience, df.inclusive==True, normalize=\"index\").plot(kind='bar', title=\"Inclusivity by Ethnicity\", figsize=(10,6))"
   ]
  },
  {
   "cell_type": "code",
   "execution_count": null,
   "metadata": {},
   "outputs": [],
   "source": []
  }
 ],
 "metadata": {
  "kernelspec": {
   "display_name": "Python 3",
   "language": "python",
   "name": "python3"
  },
  "language_info": {
   "codemirror_mode": {
    "name": "ipython",
    "version": 3
   },
   "file_extension": ".py",
   "mimetype": "text/x-python",
   "name": "python",
   "nbconvert_exporter": "python",
   "pygments_lexer": "ipython3",
   "version": "3.8.5"
  }
 },
 "nbformat": 4,
 "nbformat_minor": 4
}
