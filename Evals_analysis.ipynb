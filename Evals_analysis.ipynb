{
 "cells": [
  {
   "cell_type": "markdown",
   "metadata": {},
   "source": [
    "# Data Visualizations of Mock Learner Data and Interactions with Mock Learning Products\n",
    "This notebook is an example of the art of the possible for reimagining how the the Canada School of the Public Service works with our learners and our client departments. All data in this notebook is simulated using the models and generators in [https://github.com/ToferC/learner_models](this Repo). None of the data represents a real person, class or organization, but all data has been modelled after the broad demographics of the Government of Canada and a hypothetical model of how learners might interact with learning products at the CSPS."
   ]
  },
  {
   "cell_type": "code",
   "execution_count": null,
   "metadata": {},
   "outputs": [],
   "source": [
    "## Data Structure\n"
   ]
  },
  {
   "cell_type": "code",
   "execution_count": 1,
   "metadata": {},
   "outputs": [],
   "source": [
    "import matplotlib\n",
    "import matplotlib.pyplot as plt\n",
    "import pandas as pd\n",
    "import numpy as np\n",
    "import os\n",
    "\n",
    "%matplotlib inline"
   ]
  },
  {
   "cell_type": "code",
   "execution_count": 2,
   "metadata": {},
   "outputs": [],
   "source": [
    "data_dir = \"./data/\""
   ]
  },
  {
   "cell_type": "code",
   "execution_count": 3,
   "metadata": {},
   "outputs": [],
   "source": [
    "df = pd.read_csv(os.path.join(data_dir, \"evals.csv\"))"
   ]
  },
  {
   "cell_type": "code",
   "execution_count": 4,
   "metadata": {},
   "outputs": [],
   "source": [
    "eleven_grad=[\"darkred\", \"brown\", \"darkorange\", \"orange\", \"gold\", \"dodgerblue\", \"royalblue\", \"blue\", \"green\", \"forestgreen\", \"limegreen\"]\n",
    "seven_grad=[\"darkred\", \"orange\", \"gold\", \"dodgerblue\", \"royalblue\", \"green\", \"forestgreen\"]\n",
    "seven_diff=[\"brown\", \"green\", \"dodgerblue\", \"gold\", \"royalblue\", \"orange\", \"forestgreen\"]"
   ]
  },
  {
   "cell_type": "code",
   "execution_count": 5,
   "metadata": {},
   "outputs": [
    {
     "data": {
      "text/plain": [
       "Index(['eval_id', 'learner_id', 'audience', 'group', 'level', 'role',\n",
       "       'organization', 'pronouns', 'sexuality', 'ethnicity', 'language',\n",
       "       'person_with_disability', 'openness', 'exclusion', 'registration_id',\n",
       "       'offering_id', 'learning_product', 'business_line', 'content',\n",
       "       'duration', 'module', 'date_stamp', 'objective', 'current_skill',\n",
       "       'desired_skill', 'final_skill', 'recommend', 'rating', 'clear',\n",
       "       'entertaining', 'relevant', 'informative', 'useful', 'inclusive',\n",
       "       'easy', 'difficult', 'long', 'short', 'percent_completed', 'lo_1',\n",
       "       'lo_2', 'physical_space', 'physical_clean', 'physical_comfortable',\n",
       "       'physical_professional', 'physical_pleasant', 'physical_accessible',\n",
       "       'digital_content', 'digital_smooth', 'digital_professional',\n",
       "       'digital_accessible', 'personnel_present', 'personnel_pleasant',\n",
       "       'personnel_helpful', 'personnel_professional', 'personnel_inclusive',\n",
       "       'personnel_knowledgeable'],\n",
       "      dtype='object')"
      ]
     },
     "execution_count": 5,
     "metadata": {},
     "output_type": "execute_result"
    }
   ],
   "source": [
    "df.columns"
   ]
  },
  {
   "cell_type": "code",
   "execution_count": 6,
   "metadata": {},
   "outputs": [
    {
     "data": {
      "text/html": [
       "<div>\n",
       "<style scoped>\n",
       "    .dataframe tbody tr th:only-of-type {\n",
       "        vertical-align: middle;\n",
       "    }\n",
       "\n",
       "    .dataframe tbody tr th {\n",
       "        vertical-align: top;\n",
       "    }\n",
       "\n",
       "    .dataframe thead th {\n",
       "        text-align: right;\n",
       "    }\n",
       "</style>\n",
       "<table border=\"1\" class=\"dataframe\">\n",
       "  <thead>\n",
       "    <tr style=\"text-align: right;\">\n",
       "      <th></th>\n",
       "      <th>eval_id</th>\n",
       "      <th>learner_id</th>\n",
       "      <th>level</th>\n",
       "      <th>openness</th>\n",
       "      <th>exclusion</th>\n",
       "      <th>registration_id</th>\n",
       "      <th>offering_id</th>\n",
       "      <th>duration</th>\n",
       "      <th>module</th>\n",
       "      <th>current_skill</th>\n",
       "      <th>desired_skill</th>\n",
       "      <th>final_skill</th>\n",
       "      <th>rating</th>\n",
       "      <th>percent_completed</th>\n",
       "    </tr>\n",
       "  </thead>\n",
       "  <tbody>\n",
       "    <tr>\n",
       "      <th>count</th>\n",
       "      <td>15432.000000</td>\n",
       "      <td>15432.000000</td>\n",
       "      <td>15432.000000</td>\n",
       "      <td>15432.000000</td>\n",
       "      <td>15432.000000</td>\n",
       "      <td>15432.000000</td>\n",
       "      <td>15432.000000</td>\n",
       "      <td>15432.000000</td>\n",
       "      <td>15432.000000</td>\n",
       "      <td>15432.000000</td>\n",
       "      <td>15432.000000</td>\n",
       "      <td>15432.000000</td>\n",
       "      <td>15432.000000</td>\n",
       "      <td>15432.000000</td>\n",
       "    </tr>\n",
       "    <tr>\n",
       "      <th>mean</th>\n",
       "      <td>80618.420684</td>\n",
       "      <td>10618.420684</td>\n",
       "      <td>3.368196</td>\n",
       "      <td>0.600424</td>\n",
       "      <td>0.243455</td>\n",
       "      <td>99624.641524</td>\n",
       "      <td>960.199067</td>\n",
       "      <td>66.053655</td>\n",
       "      <td>181.865474</td>\n",
       "      <td>2.521514</td>\n",
       "      <td>4.581973</td>\n",
       "      <td>3.019181</td>\n",
       "      <td>7.807089</td>\n",
       "      <td>0.673101</td>\n",
       "    </tr>\n",
       "    <tr>\n",
       "      <th>std</th>\n",
       "      <td>7906.514896</td>\n",
       "      <td>7906.514896</td>\n",
       "      <td>1.775194</td>\n",
       "      <td>0.151924</td>\n",
       "      <td>0.201806</td>\n",
       "      <td>73716.390247</td>\n",
       "      <td>94.998638</td>\n",
       "      <td>20.430478</td>\n",
       "      <td>96.418462</td>\n",
       "      <td>1.481287</td>\n",
       "      <td>1.502731</td>\n",
       "      <td>1.585085</td>\n",
       "      <td>1.757045</td>\n",
       "      <td>0.228037</td>\n",
       "    </tr>\n",
       "    <tr>\n",
       "      <th>min</th>\n",
       "      <td>70000.000000</td>\n",
       "      <td>0.000000</td>\n",
       "      <td>1.000000</td>\n",
       "      <td>0.034711</td>\n",
       "      <td>0.000000</td>\n",
       "      <td>0.000000</td>\n",
       "      <td>877.000000</td>\n",
       "      <td>45.000000</td>\n",
       "      <td>101.000000</td>\n",
       "      <td>0.000000</td>\n",
       "      <td>2.000000</td>\n",
       "      <td>0.000000</td>\n",
       "      <td>4.000000</td>\n",
       "      <td>0.000000</td>\n",
       "    </tr>\n",
       "    <tr>\n",
       "      <th>25%</th>\n",
       "      <td>73428.750000</td>\n",
       "      <td>3428.750000</td>\n",
       "      <td>2.000000</td>\n",
       "      <td>0.497881</td>\n",
       "      <td>0.100000</td>\n",
       "      <td>30428.750000</td>\n",
       "      <td>880.000000</td>\n",
       "      <td>45.000000</td>\n",
       "      <td>101.000000</td>\n",
       "      <td>1.000000</td>\n",
       "      <td>4.000000</td>\n",
       "      <td>2.000000</td>\n",
       "      <td>6.000000</td>\n",
       "      <td>0.500000</td>\n",
       "    </tr>\n",
       "    <tr>\n",
       "      <th>50%</th>\n",
       "      <td>77357.500000</td>\n",
       "      <td>7357.500000</td>\n",
       "      <td>3.000000</td>\n",
       "      <td>0.600308</td>\n",
       "      <td>0.200000</td>\n",
       "      <td>70357.500000</td>\n",
       "      <td>884.000000</td>\n",
       "      <td>60.000000</td>\n",
       "      <td>102.000000</td>\n",
       "      <td>2.000000</td>\n",
       "      <td>5.000000</td>\n",
       "      <td>3.000000</td>\n",
       "      <td>8.000000</td>\n",
       "      <td>0.700000</td>\n",
       "    </tr>\n",
       "    <tr>\n",
       "      <th>75%</th>\n",
       "      <td>89570.250000</td>\n",
       "      <td>19570.250000</td>\n",
       "      <td>5.000000</td>\n",
       "      <td>0.704294</td>\n",
       "      <td>0.400000</td>\n",
       "      <td>182141.250000</td>\n",
       "      <td>1077.000000</td>\n",
       "      <td>90.000000</td>\n",
       "      <td>301.000000</td>\n",
       "      <td>4.000000</td>\n",
       "      <td>6.000000</td>\n",
       "      <td>4.000000</td>\n",
       "      <td>10.000000</td>\n",
       "      <td>0.900000</td>\n",
       "    </tr>\n",
       "    <tr>\n",
       "      <th>max</th>\n",
       "      <td>91999.000000</td>\n",
       "      <td>21999.000000</td>\n",
       "      <td>7.000000</td>\n",
       "      <td>1.000000</td>\n",
       "      <td>1.300000</td>\n",
       "      <td>192999.000000</td>\n",
       "      <td>1078.000000</td>\n",
       "      <td>150.000000</td>\n",
       "      <td>301.000000</td>\n",
       "      <td>8.000000</td>\n",
       "      <td>10.000000</td>\n",
       "      <td>9.000000</td>\n",
       "      <td>10.000000</td>\n",
       "      <td>1.000000</td>\n",
       "    </tr>\n",
       "  </tbody>\n",
       "</table>\n",
       "</div>"
      ],
      "text/plain": [
       "            eval_id    learner_id         level      openness     exclusion  \\\n",
       "count  15432.000000  15432.000000  15432.000000  15432.000000  15432.000000   \n",
       "mean   80618.420684  10618.420684      3.368196      0.600424      0.243455   \n",
       "std     7906.514896   7906.514896      1.775194      0.151924      0.201806   \n",
       "min    70000.000000      0.000000      1.000000      0.034711      0.000000   \n",
       "25%    73428.750000   3428.750000      2.000000      0.497881      0.100000   \n",
       "50%    77357.500000   7357.500000      3.000000      0.600308      0.200000   \n",
       "75%    89570.250000  19570.250000      5.000000      0.704294      0.400000   \n",
       "max    91999.000000  21999.000000      7.000000      1.000000      1.300000   \n",
       "\n",
       "       registration_id   offering_id      duration        module  \\\n",
       "count     15432.000000  15432.000000  15432.000000  15432.000000   \n",
       "mean      99624.641524    960.199067     66.053655    181.865474   \n",
       "std       73716.390247     94.998638     20.430478     96.418462   \n",
       "min           0.000000    877.000000     45.000000    101.000000   \n",
       "25%       30428.750000    880.000000     45.000000    101.000000   \n",
       "50%       70357.500000    884.000000     60.000000    102.000000   \n",
       "75%      182141.250000   1077.000000     90.000000    301.000000   \n",
       "max      192999.000000   1078.000000    150.000000    301.000000   \n",
       "\n",
       "       current_skill  desired_skill   final_skill        rating  \\\n",
       "count   15432.000000   15432.000000  15432.000000  15432.000000   \n",
       "mean        2.521514       4.581973      3.019181      7.807089   \n",
       "std         1.481287       1.502731      1.585085      1.757045   \n",
       "min         0.000000       2.000000      0.000000      4.000000   \n",
       "25%         1.000000       4.000000      2.000000      6.000000   \n",
       "50%         2.000000       5.000000      3.000000      8.000000   \n",
       "75%         4.000000       6.000000      4.000000     10.000000   \n",
       "max         8.000000      10.000000      9.000000     10.000000   \n",
       "\n",
       "       percent_completed  \n",
       "count       15432.000000  \n",
       "mean            0.673101  \n",
       "std             0.228037  \n",
       "min             0.000000  \n",
       "25%             0.500000  \n",
       "50%             0.700000  \n",
       "75%             0.900000  \n",
       "max             1.000000  "
      ]
     },
     "execution_count": 6,
     "metadata": {},
     "output_type": "execute_result"
    }
   ],
   "source": [
    "df.describe()"
   ]
  },
  {
   "cell_type": "code",
   "execution_count": 7,
   "metadata": {},
   "outputs": [],
   "source": [
    "audience = df.audience\n",
    "role = df.role"
   ]
  },
  {
   "cell_type": "code",
   "execution_count": 8,
   "metadata": {},
   "outputs": [],
   "source": [
    "scan = df.drop(['eval_id', 'learner_id', 'registration_id', 'offering_id'], axis=1)"
   ]
  },
  {
   "cell_type": "code",
   "execution_count": 9,
   "metadata": {},
   "outputs": [
    {
     "data": {
      "text/html": [
       "<div>\n",
       "<style scoped>\n",
       "    .dataframe tbody tr th:only-of-type {\n",
       "        vertical-align: middle;\n",
       "    }\n",
       "\n",
       "    .dataframe tbody tr th {\n",
       "        vertical-align: top;\n",
       "    }\n",
       "\n",
       "    .dataframe thead th {\n",
       "        text-align: right;\n",
       "    }\n",
       "</style>\n",
       "<table border=\"1\" class=\"dataframe\">\n",
       "  <thead>\n",
       "    <tr style=\"text-align: right;\">\n",
       "      <th></th>\n",
       "      <th></th>\n",
       "      <th></th>\n",
       "      <th>level</th>\n",
       "      <th>openness</th>\n",
       "      <th>exclusion</th>\n",
       "      <th>duration</th>\n",
       "      <th>module</th>\n",
       "      <th>current_skill</th>\n",
       "      <th>desired_skill</th>\n",
       "      <th>final_skill</th>\n",
       "      <th>recommend</th>\n",
       "      <th>rating</th>\n",
       "      <th>...</th>\n",
       "      <th>digital_content</th>\n",
       "      <th>digital_smooth</th>\n",
       "      <th>digital_professional</th>\n",
       "      <th>digital_accessible</th>\n",
       "      <th>personnel_present</th>\n",
       "      <th>personnel_pleasant</th>\n",
       "      <th>personnel_helpful</th>\n",
       "      <th>personnel_professional</th>\n",
       "      <th>personnel_inclusive</th>\n",
       "      <th>personnel_knowledgeable</th>\n",
       "    </tr>\n",
       "    <tr>\n",
       "      <th>pronouns</th>\n",
       "      <th>ethnicity</th>\n",
       "      <th>person_with_disability</th>\n",
       "      <th></th>\n",
       "      <th></th>\n",
       "      <th></th>\n",
       "      <th></th>\n",
       "      <th></th>\n",
       "      <th></th>\n",
       "      <th></th>\n",
       "      <th></th>\n",
       "      <th></th>\n",
       "      <th></th>\n",
       "      <th></th>\n",
       "      <th></th>\n",
       "      <th></th>\n",
       "      <th></th>\n",
       "      <th></th>\n",
       "      <th></th>\n",
       "      <th></th>\n",
       "      <th></th>\n",
       "      <th></th>\n",
       "      <th></th>\n",
       "      <th></th>\n",
       "    </tr>\n",
       "  </thead>\n",
       "  <tbody>\n",
       "    <tr>\n",
       "      <th rowspan=\"12\" valign=\"top\">HeHim</th>\n",
       "      <th rowspan=\"2\" valign=\"top\">Asian</th>\n",
       "      <th>False</th>\n",
       "      <td>3.650485</td>\n",
       "      <td>0.594268</td>\n",
       "      <td>0.246278</td>\n",
       "      <td>64.805825</td>\n",
       "      <td>182.851133</td>\n",
       "      <td>2.553398</td>\n",
       "      <td>4.621359</td>\n",
       "      <td>3.035599</td>\n",
       "      <td>0.744337</td>\n",
       "      <td>7.796117</td>\n",
       "      <td>...</td>\n",
       "      <td>0.993528</td>\n",
       "      <td>0.255663</td>\n",
       "      <td>0.359223</td>\n",
       "      <td>0.482201</td>\n",
       "      <td>0.705502</td>\n",
       "      <td>0.323625</td>\n",
       "      <td>0.323625</td>\n",
       "      <td>0.330097</td>\n",
       "      <td>0.297735</td>\n",
       "      <td>0.423948</td>\n",
       "    </tr>\n",
       "    <tr>\n",
       "      <th>True</th>\n",
       "      <td>3.132075</td>\n",
       "      <td>0.629268</td>\n",
       "      <td>0.641509</td>\n",
       "      <td>70.754717</td>\n",
       "      <td>184.339623</td>\n",
       "      <td>3.056604</td>\n",
       "      <td>5.075472</td>\n",
       "      <td>3.509434</td>\n",
       "      <td>0.735849</td>\n",
       "      <td>7.811321</td>\n",
       "      <td>...</td>\n",
       "      <td>0.886792</td>\n",
       "      <td>0.358491</td>\n",
       "      <td>0.339623</td>\n",
       "      <td>0.000000</td>\n",
       "      <td>0.735849</td>\n",
       "      <td>0.377358</td>\n",
       "      <td>0.301887</td>\n",
       "      <td>0.207547</td>\n",
       "      <td>0.075472</td>\n",
       "      <td>0.415094</td>\n",
       "    </tr>\n",
       "    <tr>\n",
       "      <th rowspan=\"2\" valign=\"top\">Black</th>\n",
       "      <th>False</th>\n",
       "      <td>3.335593</td>\n",
       "      <td>0.586438</td>\n",
       "      <td>0.244068</td>\n",
       "      <td>67.220339</td>\n",
       "      <td>190.105085</td>\n",
       "      <td>2.467797</td>\n",
       "      <td>4.528814</td>\n",
       "      <td>2.932203</td>\n",
       "      <td>0.725424</td>\n",
       "      <td>7.735593</td>\n",
       "      <td>...</td>\n",
       "      <td>0.945763</td>\n",
       "      <td>0.308475</td>\n",
       "      <td>0.447458</td>\n",
       "      <td>0.477966</td>\n",
       "      <td>0.735593</td>\n",
       "      <td>0.359322</td>\n",
       "      <td>0.332203</td>\n",
       "      <td>0.308475</td>\n",
       "      <td>0.305085</td>\n",
       "      <td>0.393220</td>\n",
       "    </tr>\n",
       "    <tr>\n",
       "      <th>True</th>\n",
       "      <td>3.000000</td>\n",
       "      <td>0.615126</td>\n",
       "      <td>0.631250</td>\n",
       "      <td>64.218750</td>\n",
       "      <td>188.781250</td>\n",
       "      <td>2.468750</td>\n",
       "      <td>4.468750</td>\n",
       "      <td>2.906250</td>\n",
       "      <td>0.781250</td>\n",
       "      <td>7.875000</td>\n",
       "      <td>...</td>\n",
       "      <td>1.000000</td>\n",
       "      <td>0.406250</td>\n",
       "      <td>0.468750</td>\n",
       "      <td>0.000000</td>\n",
       "      <td>0.718750</td>\n",
       "      <td>0.312500</td>\n",
       "      <td>0.343750</td>\n",
       "      <td>0.281250</td>\n",
       "      <td>0.187500</td>\n",
       "      <td>0.468750</td>\n",
       "    </tr>\n",
       "    <tr>\n",
       "      <th rowspan=\"2\" valign=\"top\">Caucasian</th>\n",
       "      <th>False</th>\n",
       "      <td>3.380388</td>\n",
       "      <td>0.603529</td>\n",
       "      <td>0.044698</td>\n",
       "      <td>66.303879</td>\n",
       "      <td>183.630172</td>\n",
       "      <td>2.537931</td>\n",
       "      <td>4.589655</td>\n",
       "      <td>3.049138</td>\n",
       "      <td>0.757759</td>\n",
       "      <td>7.897629</td>\n",
       "      <td>...</td>\n",
       "      <td>0.966379</td>\n",
       "      <td>0.300216</td>\n",
       "      <td>0.381034</td>\n",
       "      <td>0.465517</td>\n",
       "      <td>0.714224</td>\n",
       "      <td>0.327155</td>\n",
       "      <td>0.305603</td>\n",
       "      <td>0.291595</td>\n",
       "      <td>0.337284</td>\n",
       "      <td>0.416164</td>\n",
       "    </tr>\n",
       "    <tr>\n",
       "      <th>True</th>\n",
       "      <td>3.356618</td>\n",
       "      <td>0.590835</td>\n",
       "      <td>0.443382</td>\n",
       "      <td>65.321691</td>\n",
       "      <td>175.948529</td>\n",
       "      <td>2.536765</td>\n",
       "      <td>4.604779</td>\n",
       "      <td>2.990809</td>\n",
       "      <td>0.707721</td>\n",
       "      <td>7.593750</td>\n",
       "      <td>...</td>\n",
       "      <td>0.988971</td>\n",
       "      <td>0.281250</td>\n",
       "      <td>0.397059</td>\n",
       "      <td>0.023897</td>\n",
       "      <td>0.689338</td>\n",
       "      <td>0.312500</td>\n",
       "      <td>0.332721</td>\n",
       "      <td>0.286765</td>\n",
       "      <td>0.174632</td>\n",
       "      <td>0.387868</td>\n",
       "    </tr>\n",
       "    <tr>\n",
       "      <th rowspan=\"2\" valign=\"top\">HispanicLatinx</th>\n",
       "      <th>False</th>\n",
       "      <td>3.315068</td>\n",
       "      <td>0.607623</td>\n",
       "      <td>0.248630</td>\n",
       "      <td>66.318493</td>\n",
       "      <td>184.178082</td>\n",
       "      <td>2.626712</td>\n",
       "      <td>4.719178</td>\n",
       "      <td>3.157534</td>\n",
       "      <td>0.739726</td>\n",
       "      <td>7.910959</td>\n",
       "      <td>...</td>\n",
       "      <td>0.965753</td>\n",
       "      <td>0.304795</td>\n",
       "      <td>0.325342</td>\n",
       "      <td>0.407534</td>\n",
       "      <td>0.715753</td>\n",
       "      <td>0.294521</td>\n",
       "      <td>0.315068</td>\n",
       "      <td>0.284247</td>\n",
       "      <td>0.311644</td>\n",
       "      <td>0.424658</td>\n",
       "    </tr>\n",
       "    <tr>\n",
       "      <th>True</th>\n",
       "      <td>3.035714</td>\n",
       "      <td>0.631261</td>\n",
       "      <td>0.621429</td>\n",
       "      <td>63.214286</td>\n",
       "      <td>215.500000</td>\n",
       "      <td>2.857143</td>\n",
       "      <td>4.857143</td>\n",
       "      <td>3.357143</td>\n",
       "      <td>0.750000</td>\n",
       "      <td>8.142857</td>\n",
       "      <td>...</td>\n",
       "      <td>1.000000</td>\n",
       "      <td>0.285714</td>\n",
       "      <td>0.500000</td>\n",
       "      <td>0.000000</td>\n",
       "      <td>0.785714</td>\n",
       "      <td>0.464286</td>\n",
       "      <td>0.392857</td>\n",
       "      <td>0.392857</td>\n",
       "      <td>0.107143</td>\n",
       "      <td>0.392857</td>\n",
       "    </tr>\n",
       "    <tr>\n",
       "      <th rowspan=\"2\" valign=\"top\">Indigenous</th>\n",
       "      <th>False</th>\n",
       "      <td>3.396226</td>\n",
       "      <td>0.584393</td>\n",
       "      <td>0.228616</td>\n",
       "      <td>66.839623</td>\n",
       "      <td>175.537736</td>\n",
       "      <td>2.496855</td>\n",
       "      <td>4.569182</td>\n",
       "      <td>2.968553</td>\n",
       "      <td>0.701258</td>\n",
       "      <td>7.638365</td>\n",
       "      <td>...</td>\n",
       "      <td>0.962264</td>\n",
       "      <td>0.289308</td>\n",
       "      <td>0.339623</td>\n",
       "      <td>0.496855</td>\n",
       "      <td>0.694969</td>\n",
       "      <td>0.342767</td>\n",
       "      <td>0.292453</td>\n",
       "      <td>0.254717</td>\n",
       "      <td>0.314465</td>\n",
       "      <td>0.374214</td>\n",
       "    </tr>\n",
       "    <tr>\n",
       "      <th>True</th>\n",
       "      <td>2.920000</td>\n",
       "      <td>0.591406</td>\n",
       "      <td>0.620000</td>\n",
       "      <td>67.200000</td>\n",
       "      <td>229.200000</td>\n",
       "      <td>3.200000</td>\n",
       "      <td>5.200000</td>\n",
       "      <td>3.480000</td>\n",
       "      <td>0.840000</td>\n",
       "      <td>7.520000</td>\n",
       "      <td>...</td>\n",
       "      <td>0.920000</td>\n",
       "      <td>0.320000</td>\n",
       "      <td>0.400000</td>\n",
       "      <td>0.000000</td>\n",
       "      <td>0.840000</td>\n",
       "      <td>0.440000</td>\n",
       "      <td>0.280000</td>\n",
       "      <td>0.360000</td>\n",
       "      <td>0.160000</td>\n",
       "      <td>0.560000</td>\n",
       "    </tr>\n",
       "    <tr>\n",
       "      <th rowspan=\"2\" valign=\"top\">NoAnswer</th>\n",
       "      <th>False</th>\n",
       "      <td>3.358974</td>\n",
       "      <td>0.598080</td>\n",
       "      <td>0.245299</td>\n",
       "      <td>64.871795</td>\n",
       "      <td>184.200855</td>\n",
       "      <td>2.397436</td>\n",
       "      <td>4.470085</td>\n",
       "      <td>2.918803</td>\n",
       "      <td>0.713675</td>\n",
       "      <td>7.846154</td>\n",
       "      <td>...</td>\n",
       "      <td>0.991453</td>\n",
       "      <td>0.294872</td>\n",
       "      <td>0.363248</td>\n",
       "      <td>0.504274</td>\n",
       "      <td>0.709402</td>\n",
       "      <td>0.273504</td>\n",
       "      <td>0.277778</td>\n",
       "      <td>0.320513</td>\n",
       "      <td>0.350427</td>\n",
       "      <td>0.401709</td>\n",
       "    </tr>\n",
       "    <tr>\n",
       "      <th>True</th>\n",
       "      <td>2.800000</td>\n",
       "      <td>0.603464</td>\n",
       "      <td>0.620000</td>\n",
       "      <td>69.750000</td>\n",
       "      <td>191.300000</td>\n",
       "      <td>2.600000</td>\n",
       "      <td>4.750000</td>\n",
       "      <td>3.000000</td>\n",
       "      <td>0.800000</td>\n",
       "      <td>7.600000</td>\n",
       "      <td>...</td>\n",
       "      <td>0.900000</td>\n",
       "      <td>0.300000</td>\n",
       "      <td>0.200000</td>\n",
       "      <td>0.000000</td>\n",
       "      <td>0.750000</td>\n",
       "      <td>0.350000</td>\n",
       "      <td>0.100000</td>\n",
       "      <td>0.450000</td>\n",
       "      <td>0.050000</td>\n",
       "      <td>0.400000</td>\n",
       "    </tr>\n",
       "    <tr>\n",
       "      <th rowspan=\"12\" valign=\"top\">NoAnswer</th>\n",
       "      <th rowspan=\"2\" valign=\"top\">Asian</th>\n",
       "      <th>False</th>\n",
       "      <td>3.428571</td>\n",
       "      <td>0.543390</td>\n",
       "      <td>0.425000</td>\n",
       "      <td>72.857143</td>\n",
       "      <td>172.785714</td>\n",
       "      <td>2.214286</td>\n",
       "      <td>4.357143</td>\n",
       "      <td>2.642857</td>\n",
       "      <td>0.535714</td>\n",
       "      <td>7.035714</td>\n",
       "      <td>...</td>\n",
       "      <td>0.857143</td>\n",
       "      <td>0.321429</td>\n",
       "      <td>0.250000</td>\n",
       "      <td>0.285714</td>\n",
       "      <td>0.714286</td>\n",
       "      <td>0.321429</td>\n",
       "      <td>0.178571</td>\n",
       "      <td>0.178571</td>\n",
       "      <td>0.107143</td>\n",
       "      <td>0.428571</td>\n",
       "    </tr>\n",
       "    <tr>\n",
       "      <th>True</th>\n",
       "      <td>2.600000</td>\n",
       "      <td>0.707197</td>\n",
       "      <td>1.040000</td>\n",
       "      <td>63.000000</td>\n",
       "      <td>221.200000</td>\n",
       "      <td>3.600000</td>\n",
       "      <td>5.600000</td>\n",
       "      <td>4.200000</td>\n",
       "      <td>1.000000</td>\n",
       "      <td>9.200000</td>\n",
       "      <td>...</td>\n",
       "      <td>1.000000</td>\n",
       "      <td>0.200000</td>\n",
       "      <td>1.000000</td>\n",
       "      <td>0.000000</td>\n",
       "      <td>0.800000</td>\n",
       "      <td>0.600000</td>\n",
       "      <td>0.400000</td>\n",
       "      <td>0.400000</td>\n",
       "      <td>0.000000</td>\n",
       "      <td>0.600000</td>\n",
       "    </tr>\n",
       "    <tr>\n",
       "      <th rowspan=\"2\" valign=\"top\">Black</th>\n",
       "      <th>False</th>\n",
       "      <td>3.250000</td>\n",
       "      <td>0.558652</td>\n",
       "      <td>0.446875</td>\n",
       "      <td>68.437500</td>\n",
       "      <td>170.093750</td>\n",
       "      <td>2.312500</td>\n",
       "      <td>4.406250</td>\n",
       "      <td>2.875000</td>\n",
       "      <td>0.562500</td>\n",
       "      <td>7.187500</td>\n",
       "      <td>...</td>\n",
       "      <td>0.937500</td>\n",
       "      <td>0.375000</td>\n",
       "      <td>0.500000</td>\n",
       "      <td>0.500000</td>\n",
       "      <td>0.687500</td>\n",
       "      <td>0.250000</td>\n",
       "      <td>0.312500</td>\n",
       "      <td>0.250000</td>\n",
       "      <td>0.218750</td>\n",
       "      <td>0.406250</td>\n",
       "    </tr>\n",
       "    <tr>\n",
       "      <th>True</th>\n",
       "      <td>6.333333</td>\n",
       "      <td>0.491786</td>\n",
       "      <td>0.800000</td>\n",
       "      <td>65.000000</td>\n",
       "      <td>168.000000</td>\n",
       "      <td>3.333333</td>\n",
       "      <td>5.333333</td>\n",
       "      <td>3.666667</td>\n",
       "      <td>0.333333</td>\n",
       "      <td>6.333333</td>\n",
       "      <td>...</td>\n",
       "      <td>1.000000</td>\n",
       "      <td>0.000000</td>\n",
       "      <td>0.666667</td>\n",
       "      <td>0.000000</td>\n",
       "      <td>0.666667</td>\n",
       "      <td>0.333333</td>\n",
       "      <td>0.666667</td>\n",
       "      <td>0.000000</td>\n",
       "      <td>0.000000</td>\n",
       "      <td>0.333333</td>\n",
       "    </tr>\n",
       "    <tr>\n",
       "      <th rowspan=\"2\" valign=\"top\">Caucasian</th>\n",
       "      <th>False</th>\n",
       "      <td>3.473384</td>\n",
       "      <td>0.582124</td>\n",
       "      <td>0.244867</td>\n",
       "      <td>66.188213</td>\n",
       "      <td>170.534221</td>\n",
       "      <td>2.456274</td>\n",
       "      <td>4.517110</td>\n",
       "      <td>2.937262</td>\n",
       "      <td>0.714829</td>\n",
       "      <td>7.652091</td>\n",
       "      <td>...</td>\n",
       "      <td>0.977186</td>\n",
       "      <td>0.296578</td>\n",
       "      <td>0.384030</td>\n",
       "      <td>0.494297</td>\n",
       "      <td>0.678707</td>\n",
       "      <td>0.302281</td>\n",
       "      <td>0.290875</td>\n",
       "      <td>0.283270</td>\n",
       "      <td>0.279468</td>\n",
       "      <td>0.372624</td>\n",
       "    </tr>\n",
       "    <tr>\n",
       "      <th>True</th>\n",
       "      <td>2.509804</td>\n",
       "      <td>0.576462</td>\n",
       "      <td>0.641176</td>\n",
       "      <td>64.705882</td>\n",
       "      <td>175.823529</td>\n",
       "      <td>2.372549</td>\n",
       "      <td>4.431373</td>\n",
       "      <td>2.803922</td>\n",
       "      <td>0.686275</td>\n",
       "      <td>7.431373</td>\n",
       "      <td>...</td>\n",
       "      <td>1.000000</td>\n",
       "      <td>0.274510</td>\n",
       "      <td>0.333333</td>\n",
       "      <td>0.000000</td>\n",
       "      <td>0.686275</td>\n",
       "      <td>0.215686</td>\n",
       "      <td>0.333333</td>\n",
       "      <td>0.196078</td>\n",
       "      <td>0.117647</td>\n",
       "      <td>0.294118</td>\n",
       "    </tr>\n",
       "    <tr>\n",
       "      <th rowspan=\"2\" valign=\"top\">HispanicLatinx</th>\n",
       "      <th>False</th>\n",
       "      <td>3.176471</td>\n",
       "      <td>0.592414</td>\n",
       "      <td>0.494118</td>\n",
       "      <td>66.617647</td>\n",
       "      <td>124.970588</td>\n",
       "      <td>2.500000</td>\n",
       "      <td>4.558824</td>\n",
       "      <td>3.117647</td>\n",
       "      <td>0.588235</td>\n",
       "      <td>7.411765</td>\n",
       "      <td>...</td>\n",
       "      <td>1.000000</td>\n",
       "      <td>0.382353</td>\n",
       "      <td>0.294118</td>\n",
       "      <td>0.588235</td>\n",
       "      <td>0.558824</td>\n",
       "      <td>0.235294</td>\n",
       "      <td>0.294118</td>\n",
       "      <td>0.176471</td>\n",
       "      <td>0.117647</td>\n",
       "      <td>0.323529</td>\n",
       "    </tr>\n",
       "    <tr>\n",
       "      <th>True</th>\n",
       "      <td>4.000000</td>\n",
       "      <td>0.845026</td>\n",
       "      <td>0.800000</td>\n",
       "      <td>67.500000</td>\n",
       "      <td>101.500000</td>\n",
       "      <td>3.000000</td>\n",
       "      <td>5.000000</td>\n",
       "      <td>4.500000</td>\n",
       "      <td>1.000000</td>\n",
       "      <td>10.000000</td>\n",
       "      <td>...</td>\n",
       "      <td>1.000000</td>\n",
       "      <td>1.000000</td>\n",
       "      <td>0.000000</td>\n",
       "      <td>0.000000</td>\n",
       "      <td>0.500000</td>\n",
       "      <td>0.000000</td>\n",
       "      <td>0.500000</td>\n",
       "      <td>0.500000</td>\n",
       "      <td>0.000000</td>\n",
       "      <td>0.500000</td>\n",
       "    </tr>\n",
       "    <tr>\n",
       "      <th rowspan=\"2\" valign=\"top\">Indigenous</th>\n",
       "      <th>False</th>\n",
       "      <td>3.714286</td>\n",
       "      <td>0.590698</td>\n",
       "      <td>0.451429</td>\n",
       "      <td>67.714286</td>\n",
       "      <td>181.314286</td>\n",
       "      <td>2.514286</td>\n",
       "      <td>4.657143</td>\n",
       "      <td>2.971429</td>\n",
       "      <td>0.657143</td>\n",
       "      <td>7.457143</td>\n",
       "      <td>...</td>\n",
       "      <td>0.942857</td>\n",
       "      <td>0.228571</td>\n",
       "      <td>0.257143</td>\n",
       "      <td>0.371429</td>\n",
       "      <td>0.714286</td>\n",
       "      <td>0.314286</td>\n",
       "      <td>0.171429</td>\n",
       "      <td>0.228571</td>\n",
       "      <td>0.085714</td>\n",
       "      <td>0.428571</td>\n",
       "    </tr>\n",
       "    <tr>\n",
       "      <th>True</th>\n",
       "      <td>2.250000</td>\n",
       "      <td>0.783884</td>\n",
       "      <td>0.850000</td>\n",
       "      <td>63.750000</td>\n",
       "      <td>201.250000</td>\n",
       "      <td>2.500000</td>\n",
       "      <td>4.500000</td>\n",
       "      <td>3.250000</td>\n",
       "      <td>1.000000</td>\n",
       "      <td>8.750000</td>\n",
       "      <td>...</td>\n",
       "      <td>1.000000</td>\n",
       "      <td>0.500000</td>\n",
       "      <td>0.500000</td>\n",
       "      <td>0.000000</td>\n",
       "      <td>0.750000</td>\n",
       "      <td>0.250000</td>\n",
       "      <td>0.500000</td>\n",
       "      <td>0.000000</td>\n",
       "      <td>0.000000</td>\n",
       "      <td>0.750000</td>\n",
       "    </tr>\n",
       "    <tr>\n",
       "      <th rowspan=\"2\" valign=\"top\">NoAnswer</th>\n",
       "      <th>False</th>\n",
       "      <td>2.733333</td>\n",
       "      <td>0.663628</td>\n",
       "      <td>0.503333</td>\n",
       "      <td>64.000000</td>\n",
       "      <td>194.600000</td>\n",
       "      <td>2.833333</td>\n",
       "      <td>5.033333</td>\n",
       "      <td>3.433333</td>\n",
       "      <td>0.700000</td>\n",
       "      <td>8.100000</td>\n",
       "      <td>...</td>\n",
       "      <td>1.000000</td>\n",
       "      <td>0.300000</td>\n",
       "      <td>0.466667</td>\n",
       "      <td>0.433333</td>\n",
       "      <td>0.733333</td>\n",
       "      <td>0.466667</td>\n",
       "      <td>0.366667</td>\n",
       "      <td>0.366667</td>\n",
       "      <td>0.133333</td>\n",
       "      <td>0.466667</td>\n",
       "    </tr>\n",
       "    <tr>\n",
       "      <th>True</th>\n",
       "      <td>4.000000</td>\n",
       "      <td>0.926877</td>\n",
       "      <td>0.900000</td>\n",
       "      <td>67.500000</td>\n",
       "      <td>101.500000</td>\n",
       "      <td>4.000000</td>\n",
       "      <td>6.000000</td>\n",
       "      <td>5.500000</td>\n",
       "      <td>1.000000</td>\n",
       "      <td>10.000000</td>\n",
       "      <td>...</td>\n",
       "      <td>1.000000</td>\n",
       "      <td>0.500000</td>\n",
       "      <td>0.500000</td>\n",
       "      <td>0.000000</td>\n",
       "      <td>0.500000</td>\n",
       "      <td>0.500000</td>\n",
       "      <td>0.000000</td>\n",
       "      <td>0.500000</td>\n",
       "      <td>0.000000</td>\n",
       "      <td>0.500000</td>\n",
       "    </tr>\n",
       "    <tr>\n",
       "      <th rowspan=\"12\" valign=\"top\">SheHer</th>\n",
       "      <th rowspan=\"2\" valign=\"top\">Asian</th>\n",
       "      <th>False</th>\n",
       "      <td>3.093220</td>\n",
       "      <td>0.587295</td>\n",
       "      <td>0.434746</td>\n",
       "      <td>65.296610</td>\n",
       "      <td>177.019774</td>\n",
       "      <td>2.398305</td>\n",
       "      <td>4.488701</td>\n",
       "      <td>2.853107</td>\n",
       "      <td>0.672316</td>\n",
       "      <td>7.564972</td>\n",
       "      <td>...</td>\n",
       "      <td>0.988701</td>\n",
       "      <td>0.282486</td>\n",
       "      <td>0.344633</td>\n",
       "      <td>0.477401</td>\n",
       "      <td>0.692090</td>\n",
       "      <td>0.353107</td>\n",
       "      <td>0.324859</td>\n",
       "      <td>0.296610</td>\n",
       "      <td>0.163842</td>\n",
       "      <td>0.384181</td>\n",
       "    </tr>\n",
       "    <tr>\n",
       "      <th>True</th>\n",
       "      <td>3.521739</td>\n",
       "      <td>0.601649</td>\n",
       "      <td>0.854348</td>\n",
       "      <td>63.913043</td>\n",
       "      <td>196.913043</td>\n",
       "      <td>2.195652</td>\n",
       "      <td>4.217391</td>\n",
       "      <td>2.630435</td>\n",
       "      <td>0.652174</td>\n",
       "      <td>7.586957</td>\n",
       "      <td>...</td>\n",
       "      <td>1.000000</td>\n",
       "      <td>0.326087</td>\n",
       "      <td>0.326087</td>\n",
       "      <td>0.000000</td>\n",
       "      <td>0.739130</td>\n",
       "      <td>0.369565</td>\n",
       "      <td>0.434783</td>\n",
       "      <td>0.391304</td>\n",
       "      <td>0.065217</td>\n",
       "      <td>0.521739</td>\n",
       "    </tr>\n",
       "    <tr>\n",
       "      <th rowspan=\"2\" valign=\"top\">Black</th>\n",
       "      <th>False</th>\n",
       "      <td>3.342679</td>\n",
       "      <td>0.615859</td>\n",
       "      <td>0.445171</td>\n",
       "      <td>65.607477</td>\n",
       "      <td>179.813084</td>\n",
       "      <td>2.498442</td>\n",
       "      <td>4.538941</td>\n",
       "      <td>2.987539</td>\n",
       "      <td>0.747664</td>\n",
       "      <td>7.825545</td>\n",
       "      <td>...</td>\n",
       "      <td>0.981308</td>\n",
       "      <td>0.286604</td>\n",
       "      <td>0.383178</td>\n",
       "      <td>0.510903</td>\n",
       "      <td>0.700935</td>\n",
       "      <td>0.336449</td>\n",
       "      <td>0.333333</td>\n",
       "      <td>0.305296</td>\n",
       "      <td>0.186916</td>\n",
       "      <td>0.404984</td>\n",
       "    </tr>\n",
       "    <tr>\n",
       "      <th>True</th>\n",
       "      <td>3.294118</td>\n",
       "      <td>0.555258</td>\n",
       "      <td>0.838235</td>\n",
       "      <td>68.823529</td>\n",
       "      <td>154.323529</td>\n",
       "      <td>2.764706</td>\n",
       "      <td>4.794118</td>\n",
       "      <td>3.147059</td>\n",
       "      <td>0.588235</td>\n",
       "      <td>7.000000</td>\n",
       "      <td>...</td>\n",
       "      <td>0.941176</td>\n",
       "      <td>0.294118</td>\n",
       "      <td>0.382353</td>\n",
       "      <td>0.000000</td>\n",
       "      <td>0.647059</td>\n",
       "      <td>0.294118</td>\n",
       "      <td>0.264706</td>\n",
       "      <td>0.294118</td>\n",
       "      <td>0.000000</td>\n",
       "      <td>0.176471</td>\n",
       "    </tr>\n",
       "    <tr>\n",
       "      <th rowspan=\"2\" valign=\"top\">Caucasian</th>\n",
       "      <th>False</th>\n",
       "      <td>3.384904</td>\n",
       "      <td>0.598005</td>\n",
       "      <td>0.241389</td>\n",
       "      <td>66.008132</td>\n",
       "      <td>182.995830</td>\n",
       "      <td>2.532527</td>\n",
       "      <td>4.598207</td>\n",
       "      <td>3.036072</td>\n",
       "      <td>0.732902</td>\n",
       "      <td>7.813803</td>\n",
       "      <td>...</td>\n",
       "      <td>0.972060</td>\n",
       "      <td>0.300459</td>\n",
       "      <td>0.383236</td>\n",
       "      <td>0.468724</td>\n",
       "      <td>0.711218</td>\n",
       "      <td>0.326939</td>\n",
       "      <td>0.321309</td>\n",
       "      <td>0.281276</td>\n",
       "      <td>0.311093</td>\n",
       "      <td>0.403670</td>\n",
       "    </tr>\n",
       "    <tr>\n",
       "      <th>True</th>\n",
       "      <td>3.160643</td>\n",
       "      <td>0.610702</td>\n",
       "      <td>0.646185</td>\n",
       "      <td>65.421687</td>\n",
       "      <td>180.823293</td>\n",
       "      <td>2.514056</td>\n",
       "      <td>4.544177</td>\n",
       "      <td>2.977912</td>\n",
       "      <td>0.728916</td>\n",
       "      <td>7.726908</td>\n",
       "      <td>...</td>\n",
       "      <td>0.983936</td>\n",
       "      <td>0.281124</td>\n",
       "      <td>0.415663</td>\n",
       "      <td>0.000000</td>\n",
       "      <td>0.702811</td>\n",
       "      <td>0.341365</td>\n",
       "      <td>0.277108</td>\n",
       "      <td>0.297189</td>\n",
       "      <td>0.068273</td>\n",
       "      <td>0.449799</td>\n",
       "    </tr>\n",
       "    <tr>\n",
       "      <th rowspan=\"2\" valign=\"top\">HispanicLatinx</th>\n",
       "      <th>False</th>\n",
       "      <td>3.104430</td>\n",
       "      <td>0.592019</td>\n",
       "      <td>0.456962</td>\n",
       "      <td>66.218354</td>\n",
       "      <td>173.477848</td>\n",
       "      <td>2.487342</td>\n",
       "      <td>4.550633</td>\n",
       "      <td>2.958861</td>\n",
       "      <td>0.674051</td>\n",
       "      <td>7.556962</td>\n",
       "      <td>...</td>\n",
       "      <td>0.974684</td>\n",
       "      <td>0.281646</td>\n",
       "      <td>0.354430</td>\n",
       "      <td>0.503165</td>\n",
       "      <td>0.686709</td>\n",
       "      <td>0.291139</td>\n",
       "      <td>0.259494</td>\n",
       "      <td>0.316456</td>\n",
       "      <td>0.161392</td>\n",
       "      <td>0.373418</td>\n",
       "    </tr>\n",
       "    <tr>\n",
       "      <th>True</th>\n",
       "      <td>3.000000</td>\n",
       "      <td>0.605571</td>\n",
       "      <td>0.852174</td>\n",
       "      <td>65.543478</td>\n",
       "      <td>153.543478</td>\n",
       "      <td>2.673913</td>\n",
       "      <td>4.673913</td>\n",
       "      <td>3.130435</td>\n",
       "      <td>0.673913</td>\n",
       "      <td>7.500000</td>\n",
       "      <td>...</td>\n",
       "      <td>1.000000</td>\n",
       "      <td>0.282609</td>\n",
       "      <td>0.282609</td>\n",
       "      <td>0.000000</td>\n",
       "      <td>0.630435</td>\n",
       "      <td>0.260870</td>\n",
       "      <td>0.282609</td>\n",
       "      <td>0.239130</td>\n",
       "      <td>0.000000</td>\n",
       "      <td>0.282609</td>\n",
       "    </tr>\n",
       "    <tr>\n",
       "      <th rowspan=\"2\" valign=\"top\">Indigenous</th>\n",
       "      <th>False</th>\n",
       "      <td>3.536313</td>\n",
       "      <td>0.623035</td>\n",
       "      <td>0.435754</td>\n",
       "      <td>64.608939</td>\n",
       "      <td>186.762570</td>\n",
       "      <td>2.435754</td>\n",
       "      <td>4.536313</td>\n",
       "      <td>2.938547</td>\n",
       "      <td>0.756983</td>\n",
       "      <td>7.958101</td>\n",
       "      <td>...</td>\n",
       "      <td>0.994413</td>\n",
       "      <td>0.329609</td>\n",
       "      <td>0.357542</td>\n",
       "      <td>0.486034</td>\n",
       "      <td>0.715084</td>\n",
       "      <td>0.357542</td>\n",
       "      <td>0.310056</td>\n",
       "      <td>0.307263</td>\n",
       "      <td>0.187151</td>\n",
       "      <td>0.416201</td>\n",
       "    </tr>\n",
       "    <tr>\n",
       "      <th>True</th>\n",
       "      <td>3.000000</td>\n",
       "      <td>0.592844</td>\n",
       "      <td>0.845714</td>\n",
       "      <td>66.000000</td>\n",
       "      <td>141.400000</td>\n",
       "      <td>3.114286</td>\n",
       "      <td>5.114286</td>\n",
       "      <td>3.600000</td>\n",
       "      <td>0.628571</td>\n",
       "      <td>7.342857</td>\n",
       "      <td>...</td>\n",
       "      <td>1.000000</td>\n",
       "      <td>0.342857</td>\n",
       "      <td>0.314286</td>\n",
       "      <td>0.000000</td>\n",
       "      <td>0.600000</td>\n",
       "      <td>0.228571</td>\n",
       "      <td>0.342857</td>\n",
       "      <td>0.114286</td>\n",
       "      <td>0.000000</td>\n",
       "      <td>0.428571</td>\n",
       "    </tr>\n",
       "    <tr>\n",
       "      <th rowspan=\"2\" valign=\"top\">NoAnswer</th>\n",
       "      <th>False</th>\n",
       "      <td>3.543103</td>\n",
       "      <td>0.610965</td>\n",
       "      <td>0.462069</td>\n",
       "      <td>65.883621</td>\n",
       "      <td>183.198276</td>\n",
       "      <td>2.482759</td>\n",
       "      <td>4.530172</td>\n",
       "      <td>2.965517</td>\n",
       "      <td>0.741379</td>\n",
       "      <td>7.797414</td>\n",
       "      <td>...</td>\n",
       "      <td>0.974138</td>\n",
       "      <td>0.331897</td>\n",
       "      <td>0.375000</td>\n",
       "      <td>0.500000</td>\n",
       "      <td>0.711207</td>\n",
       "      <td>0.288793</td>\n",
       "      <td>0.327586</td>\n",
       "      <td>0.284483</td>\n",
       "      <td>0.146552</td>\n",
       "      <td>0.409483</td>\n",
       "    </tr>\n",
       "    <tr>\n",
       "      <th>True</th>\n",
       "      <td>3.433333</td>\n",
       "      <td>0.624044</td>\n",
       "      <td>0.833333</td>\n",
       "      <td>63.500000</td>\n",
       "      <td>207.900000</td>\n",
       "      <td>2.600000</td>\n",
       "      <td>4.633333</td>\n",
       "      <td>3.133333</td>\n",
       "      <td>0.633333</td>\n",
       "      <td>7.766667</td>\n",
       "      <td>...</td>\n",
       "      <td>1.000000</td>\n",
       "      <td>0.366667</td>\n",
       "      <td>0.333333</td>\n",
       "      <td>0.000000</td>\n",
       "      <td>0.766667</td>\n",
       "      <td>0.433333</td>\n",
       "      <td>0.533333</td>\n",
       "      <td>0.366667</td>\n",
       "      <td>0.033333</td>\n",
       "      <td>0.533333</td>\n",
       "    </tr>\n",
       "    <tr>\n",
       "      <th rowspan=\"12\" valign=\"top\">TheyThem</th>\n",
       "      <th rowspan=\"2\" valign=\"top\">Asian</th>\n",
       "      <th>False</th>\n",
       "      <td>3.928571</td>\n",
       "      <td>0.617012</td>\n",
       "      <td>0.410714</td>\n",
       "      <td>65.892857</td>\n",
       "      <td>144.250000</td>\n",
       "      <td>2.392857</td>\n",
       "      <td>4.392857</td>\n",
       "      <td>3.000000</td>\n",
       "      <td>0.642857</td>\n",
       "      <td>7.785714</td>\n",
       "      <td>...</td>\n",
       "      <td>1.000000</td>\n",
       "      <td>0.285714</td>\n",
       "      <td>0.428571</td>\n",
       "      <td>0.500000</td>\n",
       "      <td>0.607143</td>\n",
       "      <td>0.285714</td>\n",
       "      <td>0.178571</td>\n",
       "      <td>0.285714</td>\n",
       "      <td>0.071429</td>\n",
       "      <td>0.500000</td>\n",
       "    </tr>\n",
       "    <tr>\n",
       "      <th>True</th>\n",
       "      <td>2.200000</td>\n",
       "      <td>0.666277</td>\n",
       "      <td>0.820000</td>\n",
       "      <td>63.000000</td>\n",
       "      <td>221.200000</td>\n",
       "      <td>4.400000</td>\n",
       "      <td>6.400000</td>\n",
       "      <td>4.800000</td>\n",
       "      <td>1.000000</td>\n",
       "      <td>8.600000</td>\n",
       "      <td>...</td>\n",
       "      <td>1.000000</td>\n",
       "      <td>0.600000</td>\n",
       "      <td>0.600000</td>\n",
       "      <td>0.000000</td>\n",
       "      <td>0.800000</td>\n",
       "      <td>0.400000</td>\n",
       "      <td>0.400000</td>\n",
       "      <td>0.400000</td>\n",
       "      <td>0.000000</td>\n",
       "      <td>0.200000</td>\n",
       "    </tr>\n",
       "    <tr>\n",
       "      <th rowspan=\"2\" valign=\"top\">Black</th>\n",
       "      <th>False</th>\n",
       "      <td>3.511628</td>\n",
       "      <td>0.562929</td>\n",
       "      <td>0.451163</td>\n",
       "      <td>65.930233</td>\n",
       "      <td>212.860465</td>\n",
       "      <td>2.348837</td>\n",
       "      <td>4.348837</td>\n",
       "      <td>2.674419</td>\n",
       "      <td>0.651163</td>\n",
       "      <td>7.325581</td>\n",
       "      <td>...</td>\n",
       "      <td>0.953488</td>\n",
       "      <td>0.279070</td>\n",
       "      <td>0.372093</td>\n",
       "      <td>0.348837</td>\n",
       "      <td>0.790698</td>\n",
       "      <td>0.372093</td>\n",
       "      <td>0.255814</td>\n",
       "      <td>0.348837</td>\n",
       "      <td>0.209302</td>\n",
       "      <td>0.441860</td>\n",
       "    </tr>\n",
       "    <tr>\n",
       "      <th>True</th>\n",
       "      <td>3.000000</td>\n",
       "      <td>0.568036</td>\n",
       "      <td>0.800000</td>\n",
       "      <td>63.750000</td>\n",
       "      <td>201.250000</td>\n",
       "      <td>2.000000</td>\n",
       "      <td>4.000000</td>\n",
       "      <td>2.250000</td>\n",
       "      <td>0.750000</td>\n",
       "      <td>7.250000</td>\n",
       "      <td>...</td>\n",
       "      <td>1.000000</td>\n",
       "      <td>0.250000</td>\n",
       "      <td>0.500000</td>\n",
       "      <td>0.000000</td>\n",
       "      <td>0.750000</td>\n",
       "      <td>0.500000</td>\n",
       "      <td>0.250000</td>\n",
       "      <td>0.250000</td>\n",
       "      <td>0.000000</td>\n",
       "      <td>0.000000</td>\n",
       "    </tr>\n",
       "    <tr>\n",
       "      <th rowspan=\"2\" valign=\"top\">Caucasian</th>\n",
       "      <th>False</th>\n",
       "      <td>3.444444</td>\n",
       "      <td>0.616151</td>\n",
       "      <td>0.243590</td>\n",
       "      <td>66.128205</td>\n",
       "      <td>178.919658</td>\n",
       "      <td>2.447863</td>\n",
       "      <td>4.497436</td>\n",
       "      <td>2.974359</td>\n",
       "      <td>0.764103</td>\n",
       "      <td>8.003419</td>\n",
       "      <td>...</td>\n",
       "      <td>0.972650</td>\n",
       "      <td>0.319658</td>\n",
       "      <td>0.369231</td>\n",
       "      <td>0.487179</td>\n",
       "      <td>0.700855</td>\n",
       "      <td>0.319658</td>\n",
       "      <td>0.295726</td>\n",
       "      <td>0.273504</td>\n",
       "      <td>0.302564</td>\n",
       "      <td>0.410256</td>\n",
       "    </tr>\n",
       "    <tr>\n",
       "      <th>True</th>\n",
       "      <td>3.653846</td>\n",
       "      <td>0.617428</td>\n",
       "      <td>0.619231</td>\n",
       "      <td>68.365385</td>\n",
       "      <td>193.596154</td>\n",
       "      <td>2.019231</td>\n",
       "      <td>4.096154</td>\n",
       "      <td>2.519231</td>\n",
       "      <td>0.692308</td>\n",
       "      <td>7.653846</td>\n",
       "      <td>...</td>\n",
       "      <td>0.923077</td>\n",
       "      <td>0.307692</td>\n",
       "      <td>0.365385</td>\n",
       "      <td>0.000000</td>\n",
       "      <td>0.750000</td>\n",
       "      <td>0.326923</td>\n",
       "      <td>0.365385</td>\n",
       "      <td>0.326923</td>\n",
       "      <td>0.076923</td>\n",
       "      <td>0.442308</td>\n",
       "    </tr>\n",
       "    <tr>\n",
       "      <th rowspan=\"2\" valign=\"top\">HispanicLatinx</th>\n",
       "      <th>False</th>\n",
       "      <td>3.357143</td>\n",
       "      <td>0.588173</td>\n",
       "      <td>0.425000</td>\n",
       "      <td>64.821429</td>\n",
       "      <td>172.750000</td>\n",
       "      <td>2.678571</td>\n",
       "      <td>4.821429</td>\n",
       "      <td>3.178571</td>\n",
       "      <td>0.678571</td>\n",
       "      <td>7.607143</td>\n",
       "      <td>...</td>\n",
       "      <td>1.000000</td>\n",
       "      <td>0.250000</td>\n",
       "      <td>0.428571</td>\n",
       "      <td>0.321429</td>\n",
       "      <td>0.678571</td>\n",
       "      <td>0.357143</td>\n",
       "      <td>0.321429</td>\n",
       "      <td>0.321429</td>\n",
       "      <td>0.107143</td>\n",
       "      <td>0.321429</td>\n",
       "    </tr>\n",
       "    <tr>\n",
       "      <th>True</th>\n",
       "      <td>3.000000</td>\n",
       "      <td>0.448217</td>\n",
       "      <td>0.800000</td>\n",
       "      <td>84.000000</td>\n",
       "      <td>261.200000</td>\n",
       "      <td>2.200000</td>\n",
       "      <td>4.200000</td>\n",
       "      <td>2.400000</td>\n",
       "      <td>0.200000</td>\n",
       "      <td>6.000000</td>\n",
       "      <td>...</td>\n",
       "      <td>0.600000</td>\n",
       "      <td>0.000000</td>\n",
       "      <td>0.200000</td>\n",
       "      <td>0.000000</td>\n",
       "      <td>1.000000</td>\n",
       "      <td>0.200000</td>\n",
       "      <td>0.200000</td>\n",
       "      <td>0.000000</td>\n",
       "      <td>0.000000</td>\n",
       "      <td>0.400000</td>\n",
       "    </tr>\n",
       "    <tr>\n",
       "      <th rowspan=\"2\" valign=\"top\">Indigenous</th>\n",
       "      <th>False</th>\n",
       "      <td>3.617647</td>\n",
       "      <td>0.554348</td>\n",
       "      <td>0.414706</td>\n",
       "      <td>67.500000</td>\n",
       "      <td>189.529412</td>\n",
       "      <td>2.911765</td>\n",
       "      <td>4.970588</td>\n",
       "      <td>3.323529</td>\n",
       "      <td>0.647059</td>\n",
       "      <td>7.264706</td>\n",
       "      <td>...</td>\n",
       "      <td>0.941176</td>\n",
       "      <td>0.323529</td>\n",
       "      <td>0.558824</td>\n",
       "      <td>0.411765</td>\n",
       "      <td>0.735294</td>\n",
       "      <td>0.352941</td>\n",
       "      <td>0.352941</td>\n",
       "      <td>0.264706</td>\n",
       "      <td>0.176471</td>\n",
       "      <td>0.588235</td>\n",
       "    </tr>\n",
       "    <tr>\n",
       "      <th>True</th>\n",
       "      <td>2.333333</td>\n",
       "      <td>0.610036</td>\n",
       "      <td>0.800000</td>\n",
       "      <td>65.000000</td>\n",
       "      <td>168.000000</td>\n",
       "      <td>4.666667</td>\n",
       "      <td>7.333333</td>\n",
       "      <td>5.000000</td>\n",
       "      <td>1.000000</td>\n",
       "      <td>8.000000</td>\n",
       "      <td>...</td>\n",
       "      <td>1.000000</td>\n",
       "      <td>0.000000</td>\n",
       "      <td>0.333333</td>\n",
       "      <td>0.000000</td>\n",
       "      <td>0.666667</td>\n",
       "      <td>0.333333</td>\n",
       "      <td>0.333333</td>\n",
       "      <td>0.333333</td>\n",
       "      <td>0.000000</td>\n",
       "      <td>0.333333</td>\n",
       "    </tr>\n",
       "    <tr>\n",
       "      <th rowspan=\"2\" valign=\"top\">NoAnswer</th>\n",
       "      <th>False</th>\n",
       "      <td>3.257143</td>\n",
       "      <td>0.625346</td>\n",
       "      <td>0.454286</td>\n",
       "      <td>68.571429</td>\n",
       "      <td>158.514286</td>\n",
       "      <td>2.314286</td>\n",
       "      <td>4.457143</td>\n",
       "      <td>2.828571</td>\n",
       "      <td>0.828571</td>\n",
       "      <td>8.057143</td>\n",
       "      <td>...</td>\n",
       "      <td>0.942857</td>\n",
       "      <td>0.285714</td>\n",
       "      <td>0.400000</td>\n",
       "      <td>0.514286</td>\n",
       "      <td>0.657143</td>\n",
       "      <td>0.342857</td>\n",
       "      <td>0.257143</td>\n",
       "      <td>0.171429</td>\n",
       "      <td>0.171429</td>\n",
       "      <td>0.314286</td>\n",
       "    </tr>\n",
       "    <tr>\n",
       "      <th>True</th>\n",
       "      <td>3.000000</td>\n",
       "      <td>0.514159</td>\n",
       "      <td>0.800000</td>\n",
       "      <td>60.000000</td>\n",
       "      <td>301.000000</td>\n",
       "      <td>1.000000</td>\n",
       "      <td>3.000000</td>\n",
       "      <td>1.000000</td>\n",
       "      <td>0.500000</td>\n",
       "      <td>7.000000</td>\n",
       "      <td>...</td>\n",
       "      <td>1.000000</td>\n",
       "      <td>0.000000</td>\n",
       "      <td>0.500000</td>\n",
       "      <td>0.000000</td>\n",
       "      <td>1.000000</td>\n",
       "      <td>1.000000</td>\n",
       "      <td>0.000000</td>\n",
       "      <td>0.000000</td>\n",
       "      <td>0.000000</td>\n",
       "      <td>0.000000</td>\n",
       "    </tr>\n",
       "  </tbody>\n",
       "</table>\n",
       "<p>48 rows × 37 columns</p>\n",
       "</div>"
      ],
      "text/plain": [
       "                                                   level  openness  exclusion  \\\n",
       "pronouns ethnicity      person_with_disability                                  \n",
       "HeHim    Asian          False                   3.650485  0.594268   0.246278   \n",
       "                        True                    3.132075  0.629268   0.641509   \n",
       "         Black          False                   3.335593  0.586438   0.244068   \n",
       "                        True                    3.000000  0.615126   0.631250   \n",
       "         Caucasian      False                   3.380388  0.603529   0.044698   \n",
       "                        True                    3.356618  0.590835   0.443382   \n",
       "         HispanicLatinx False                   3.315068  0.607623   0.248630   \n",
       "                        True                    3.035714  0.631261   0.621429   \n",
       "         Indigenous     False                   3.396226  0.584393   0.228616   \n",
       "                        True                    2.920000  0.591406   0.620000   \n",
       "         NoAnswer       False                   3.358974  0.598080   0.245299   \n",
       "                        True                    2.800000  0.603464   0.620000   \n",
       "NoAnswer Asian          False                   3.428571  0.543390   0.425000   \n",
       "                        True                    2.600000  0.707197   1.040000   \n",
       "         Black          False                   3.250000  0.558652   0.446875   \n",
       "                        True                    6.333333  0.491786   0.800000   \n",
       "         Caucasian      False                   3.473384  0.582124   0.244867   \n",
       "                        True                    2.509804  0.576462   0.641176   \n",
       "         HispanicLatinx False                   3.176471  0.592414   0.494118   \n",
       "                        True                    4.000000  0.845026   0.800000   \n",
       "         Indigenous     False                   3.714286  0.590698   0.451429   \n",
       "                        True                    2.250000  0.783884   0.850000   \n",
       "         NoAnswer       False                   2.733333  0.663628   0.503333   \n",
       "                        True                    4.000000  0.926877   0.900000   \n",
       "SheHer   Asian          False                   3.093220  0.587295   0.434746   \n",
       "                        True                    3.521739  0.601649   0.854348   \n",
       "         Black          False                   3.342679  0.615859   0.445171   \n",
       "                        True                    3.294118  0.555258   0.838235   \n",
       "         Caucasian      False                   3.384904  0.598005   0.241389   \n",
       "                        True                    3.160643  0.610702   0.646185   \n",
       "         HispanicLatinx False                   3.104430  0.592019   0.456962   \n",
       "                        True                    3.000000  0.605571   0.852174   \n",
       "         Indigenous     False                   3.536313  0.623035   0.435754   \n",
       "                        True                    3.000000  0.592844   0.845714   \n",
       "         NoAnswer       False                   3.543103  0.610965   0.462069   \n",
       "                        True                    3.433333  0.624044   0.833333   \n",
       "TheyThem Asian          False                   3.928571  0.617012   0.410714   \n",
       "                        True                    2.200000  0.666277   0.820000   \n",
       "         Black          False                   3.511628  0.562929   0.451163   \n",
       "                        True                    3.000000  0.568036   0.800000   \n",
       "         Caucasian      False                   3.444444  0.616151   0.243590   \n",
       "                        True                    3.653846  0.617428   0.619231   \n",
       "         HispanicLatinx False                   3.357143  0.588173   0.425000   \n",
       "                        True                    3.000000  0.448217   0.800000   \n",
       "         Indigenous     False                   3.617647  0.554348   0.414706   \n",
       "                        True                    2.333333  0.610036   0.800000   \n",
       "         NoAnswer       False                   3.257143  0.625346   0.454286   \n",
       "                        True                    3.000000  0.514159   0.800000   \n",
       "\n",
       "                                                 duration      module  \\\n",
       "pronouns ethnicity      person_with_disability                          \n",
       "HeHim    Asian          False                   64.805825  182.851133   \n",
       "                        True                    70.754717  184.339623   \n",
       "         Black          False                   67.220339  190.105085   \n",
       "                        True                    64.218750  188.781250   \n",
       "         Caucasian      False                   66.303879  183.630172   \n",
       "                        True                    65.321691  175.948529   \n",
       "         HispanicLatinx False                   66.318493  184.178082   \n",
       "                        True                    63.214286  215.500000   \n",
       "         Indigenous     False                   66.839623  175.537736   \n",
       "                        True                    67.200000  229.200000   \n",
       "         NoAnswer       False                   64.871795  184.200855   \n",
       "                        True                    69.750000  191.300000   \n",
       "NoAnswer Asian          False                   72.857143  172.785714   \n",
       "                        True                    63.000000  221.200000   \n",
       "         Black          False                   68.437500  170.093750   \n",
       "                        True                    65.000000  168.000000   \n",
       "         Caucasian      False                   66.188213  170.534221   \n",
       "                        True                    64.705882  175.823529   \n",
       "         HispanicLatinx False                   66.617647  124.970588   \n",
       "                        True                    67.500000  101.500000   \n",
       "         Indigenous     False                   67.714286  181.314286   \n",
       "                        True                    63.750000  201.250000   \n",
       "         NoAnswer       False                   64.000000  194.600000   \n",
       "                        True                    67.500000  101.500000   \n",
       "SheHer   Asian          False                   65.296610  177.019774   \n",
       "                        True                    63.913043  196.913043   \n",
       "         Black          False                   65.607477  179.813084   \n",
       "                        True                    68.823529  154.323529   \n",
       "         Caucasian      False                   66.008132  182.995830   \n",
       "                        True                    65.421687  180.823293   \n",
       "         HispanicLatinx False                   66.218354  173.477848   \n",
       "                        True                    65.543478  153.543478   \n",
       "         Indigenous     False                   64.608939  186.762570   \n",
       "                        True                    66.000000  141.400000   \n",
       "         NoAnswer       False                   65.883621  183.198276   \n",
       "                        True                    63.500000  207.900000   \n",
       "TheyThem Asian          False                   65.892857  144.250000   \n",
       "                        True                    63.000000  221.200000   \n",
       "         Black          False                   65.930233  212.860465   \n",
       "                        True                    63.750000  201.250000   \n",
       "         Caucasian      False                   66.128205  178.919658   \n",
       "                        True                    68.365385  193.596154   \n",
       "         HispanicLatinx False                   64.821429  172.750000   \n",
       "                        True                    84.000000  261.200000   \n",
       "         Indigenous     False                   67.500000  189.529412   \n",
       "                        True                    65.000000  168.000000   \n",
       "         NoAnswer       False                   68.571429  158.514286   \n",
       "                        True                    60.000000  301.000000   \n",
       "\n",
       "                                                current_skill  desired_skill  \\\n",
       "pronouns ethnicity      person_with_disability                                 \n",
       "HeHim    Asian          False                        2.553398       4.621359   \n",
       "                        True                         3.056604       5.075472   \n",
       "         Black          False                        2.467797       4.528814   \n",
       "                        True                         2.468750       4.468750   \n",
       "         Caucasian      False                        2.537931       4.589655   \n",
       "                        True                         2.536765       4.604779   \n",
       "         HispanicLatinx False                        2.626712       4.719178   \n",
       "                        True                         2.857143       4.857143   \n",
       "         Indigenous     False                        2.496855       4.569182   \n",
       "                        True                         3.200000       5.200000   \n",
       "         NoAnswer       False                        2.397436       4.470085   \n",
       "                        True                         2.600000       4.750000   \n",
       "NoAnswer Asian          False                        2.214286       4.357143   \n",
       "                        True                         3.600000       5.600000   \n",
       "         Black          False                        2.312500       4.406250   \n",
       "                        True                         3.333333       5.333333   \n",
       "         Caucasian      False                        2.456274       4.517110   \n",
       "                        True                         2.372549       4.431373   \n",
       "         HispanicLatinx False                        2.500000       4.558824   \n",
       "                        True                         3.000000       5.000000   \n",
       "         Indigenous     False                        2.514286       4.657143   \n",
       "                        True                         2.500000       4.500000   \n",
       "         NoAnswer       False                        2.833333       5.033333   \n",
       "                        True                         4.000000       6.000000   \n",
       "SheHer   Asian          False                        2.398305       4.488701   \n",
       "                        True                         2.195652       4.217391   \n",
       "         Black          False                        2.498442       4.538941   \n",
       "                        True                         2.764706       4.794118   \n",
       "         Caucasian      False                        2.532527       4.598207   \n",
       "                        True                         2.514056       4.544177   \n",
       "         HispanicLatinx False                        2.487342       4.550633   \n",
       "                        True                         2.673913       4.673913   \n",
       "         Indigenous     False                        2.435754       4.536313   \n",
       "                        True                         3.114286       5.114286   \n",
       "         NoAnswer       False                        2.482759       4.530172   \n",
       "                        True                         2.600000       4.633333   \n",
       "TheyThem Asian          False                        2.392857       4.392857   \n",
       "                        True                         4.400000       6.400000   \n",
       "         Black          False                        2.348837       4.348837   \n",
       "                        True                         2.000000       4.000000   \n",
       "         Caucasian      False                        2.447863       4.497436   \n",
       "                        True                         2.019231       4.096154   \n",
       "         HispanicLatinx False                        2.678571       4.821429   \n",
       "                        True                         2.200000       4.200000   \n",
       "         Indigenous     False                        2.911765       4.970588   \n",
       "                        True                         4.666667       7.333333   \n",
       "         NoAnswer       False                        2.314286       4.457143   \n",
       "                        True                         1.000000       3.000000   \n",
       "\n",
       "                                                final_skill  recommend  \\\n",
       "pronouns ethnicity      person_with_disability                           \n",
       "HeHim    Asian          False                      3.035599   0.744337   \n",
       "                        True                       3.509434   0.735849   \n",
       "         Black          False                      2.932203   0.725424   \n",
       "                        True                       2.906250   0.781250   \n",
       "         Caucasian      False                      3.049138   0.757759   \n",
       "                        True                       2.990809   0.707721   \n",
       "         HispanicLatinx False                      3.157534   0.739726   \n",
       "                        True                       3.357143   0.750000   \n",
       "         Indigenous     False                      2.968553   0.701258   \n",
       "                        True                       3.480000   0.840000   \n",
       "         NoAnswer       False                      2.918803   0.713675   \n",
       "                        True                       3.000000   0.800000   \n",
       "NoAnswer Asian          False                      2.642857   0.535714   \n",
       "                        True                       4.200000   1.000000   \n",
       "         Black          False                      2.875000   0.562500   \n",
       "                        True                       3.666667   0.333333   \n",
       "         Caucasian      False                      2.937262   0.714829   \n",
       "                        True                       2.803922   0.686275   \n",
       "         HispanicLatinx False                      3.117647   0.588235   \n",
       "                        True                       4.500000   1.000000   \n",
       "         Indigenous     False                      2.971429   0.657143   \n",
       "                        True                       3.250000   1.000000   \n",
       "         NoAnswer       False                      3.433333   0.700000   \n",
       "                        True                       5.500000   1.000000   \n",
       "SheHer   Asian          False                      2.853107   0.672316   \n",
       "                        True                       2.630435   0.652174   \n",
       "         Black          False                      2.987539   0.747664   \n",
       "                        True                       3.147059   0.588235   \n",
       "         Caucasian      False                      3.036072   0.732902   \n",
       "                        True                       2.977912   0.728916   \n",
       "         HispanicLatinx False                      2.958861   0.674051   \n",
       "                        True                       3.130435   0.673913   \n",
       "         Indigenous     False                      2.938547   0.756983   \n",
       "                        True                       3.600000   0.628571   \n",
       "         NoAnswer       False                      2.965517   0.741379   \n",
       "                        True                       3.133333   0.633333   \n",
       "TheyThem Asian          False                      3.000000   0.642857   \n",
       "                        True                       4.800000   1.000000   \n",
       "         Black          False                      2.674419   0.651163   \n",
       "                        True                       2.250000   0.750000   \n",
       "         Caucasian      False                      2.974359   0.764103   \n",
       "                        True                       2.519231   0.692308   \n",
       "         HispanicLatinx False                      3.178571   0.678571   \n",
       "                        True                       2.400000   0.200000   \n",
       "         Indigenous     False                      3.323529   0.647059   \n",
       "                        True                       5.000000   1.000000   \n",
       "         NoAnswer       False                      2.828571   0.828571   \n",
       "                        True                       1.000000   0.500000   \n",
       "\n",
       "                                                   rating  ...  \\\n",
       "pronouns ethnicity      person_with_disability             ...   \n",
       "HeHim    Asian          False                    7.796117  ...   \n",
       "                        True                     7.811321  ...   \n",
       "         Black          False                    7.735593  ...   \n",
       "                        True                     7.875000  ...   \n",
       "         Caucasian      False                    7.897629  ...   \n",
       "                        True                     7.593750  ...   \n",
       "         HispanicLatinx False                    7.910959  ...   \n",
       "                        True                     8.142857  ...   \n",
       "         Indigenous     False                    7.638365  ...   \n",
       "                        True                     7.520000  ...   \n",
       "         NoAnswer       False                    7.846154  ...   \n",
       "                        True                     7.600000  ...   \n",
       "NoAnswer Asian          False                    7.035714  ...   \n",
       "                        True                     9.200000  ...   \n",
       "         Black          False                    7.187500  ...   \n",
       "                        True                     6.333333  ...   \n",
       "         Caucasian      False                    7.652091  ...   \n",
       "                        True                     7.431373  ...   \n",
       "         HispanicLatinx False                    7.411765  ...   \n",
       "                        True                    10.000000  ...   \n",
       "         Indigenous     False                    7.457143  ...   \n",
       "                        True                     8.750000  ...   \n",
       "         NoAnswer       False                    8.100000  ...   \n",
       "                        True                    10.000000  ...   \n",
       "SheHer   Asian          False                    7.564972  ...   \n",
       "                        True                     7.586957  ...   \n",
       "         Black          False                    7.825545  ...   \n",
       "                        True                     7.000000  ...   \n",
       "         Caucasian      False                    7.813803  ...   \n",
       "                        True                     7.726908  ...   \n",
       "         HispanicLatinx False                    7.556962  ...   \n",
       "                        True                     7.500000  ...   \n",
       "         Indigenous     False                    7.958101  ...   \n",
       "                        True                     7.342857  ...   \n",
       "         NoAnswer       False                    7.797414  ...   \n",
       "                        True                     7.766667  ...   \n",
       "TheyThem Asian          False                    7.785714  ...   \n",
       "                        True                     8.600000  ...   \n",
       "         Black          False                    7.325581  ...   \n",
       "                        True                     7.250000  ...   \n",
       "         Caucasian      False                    8.003419  ...   \n",
       "                        True                     7.653846  ...   \n",
       "         HispanicLatinx False                    7.607143  ...   \n",
       "                        True                     6.000000  ...   \n",
       "         Indigenous     False                    7.264706  ...   \n",
       "                        True                     8.000000  ...   \n",
       "         NoAnswer       False                    8.057143  ...   \n",
       "                        True                     7.000000  ...   \n",
       "\n",
       "                                                digital_content  \\\n",
       "pronouns ethnicity      person_with_disability                    \n",
       "HeHim    Asian          False                          0.993528   \n",
       "                        True                           0.886792   \n",
       "         Black          False                          0.945763   \n",
       "                        True                           1.000000   \n",
       "         Caucasian      False                          0.966379   \n",
       "                        True                           0.988971   \n",
       "         HispanicLatinx False                          0.965753   \n",
       "                        True                           1.000000   \n",
       "         Indigenous     False                          0.962264   \n",
       "                        True                           0.920000   \n",
       "         NoAnswer       False                          0.991453   \n",
       "                        True                           0.900000   \n",
       "NoAnswer Asian          False                          0.857143   \n",
       "                        True                           1.000000   \n",
       "         Black          False                          0.937500   \n",
       "                        True                           1.000000   \n",
       "         Caucasian      False                          0.977186   \n",
       "                        True                           1.000000   \n",
       "         HispanicLatinx False                          1.000000   \n",
       "                        True                           1.000000   \n",
       "         Indigenous     False                          0.942857   \n",
       "                        True                           1.000000   \n",
       "         NoAnswer       False                          1.000000   \n",
       "                        True                           1.000000   \n",
       "SheHer   Asian          False                          0.988701   \n",
       "                        True                           1.000000   \n",
       "         Black          False                          0.981308   \n",
       "                        True                           0.941176   \n",
       "         Caucasian      False                          0.972060   \n",
       "                        True                           0.983936   \n",
       "         HispanicLatinx False                          0.974684   \n",
       "                        True                           1.000000   \n",
       "         Indigenous     False                          0.994413   \n",
       "                        True                           1.000000   \n",
       "         NoAnswer       False                          0.974138   \n",
       "                        True                           1.000000   \n",
       "TheyThem Asian          False                          1.000000   \n",
       "                        True                           1.000000   \n",
       "         Black          False                          0.953488   \n",
       "                        True                           1.000000   \n",
       "         Caucasian      False                          0.972650   \n",
       "                        True                           0.923077   \n",
       "         HispanicLatinx False                          1.000000   \n",
       "                        True                           0.600000   \n",
       "         Indigenous     False                          0.941176   \n",
       "                        True                           1.000000   \n",
       "         NoAnswer       False                          0.942857   \n",
       "                        True                           1.000000   \n",
       "\n",
       "                                                digital_smooth  \\\n",
       "pronouns ethnicity      person_with_disability                   \n",
       "HeHim    Asian          False                         0.255663   \n",
       "                        True                          0.358491   \n",
       "         Black          False                         0.308475   \n",
       "                        True                          0.406250   \n",
       "         Caucasian      False                         0.300216   \n",
       "                        True                          0.281250   \n",
       "         HispanicLatinx False                         0.304795   \n",
       "                        True                          0.285714   \n",
       "         Indigenous     False                         0.289308   \n",
       "                        True                          0.320000   \n",
       "         NoAnswer       False                         0.294872   \n",
       "                        True                          0.300000   \n",
       "NoAnswer Asian          False                         0.321429   \n",
       "                        True                          0.200000   \n",
       "         Black          False                         0.375000   \n",
       "                        True                          0.000000   \n",
       "         Caucasian      False                         0.296578   \n",
       "                        True                          0.274510   \n",
       "         HispanicLatinx False                         0.382353   \n",
       "                        True                          1.000000   \n",
       "         Indigenous     False                         0.228571   \n",
       "                        True                          0.500000   \n",
       "         NoAnswer       False                         0.300000   \n",
       "                        True                          0.500000   \n",
       "SheHer   Asian          False                         0.282486   \n",
       "                        True                          0.326087   \n",
       "         Black          False                         0.286604   \n",
       "                        True                          0.294118   \n",
       "         Caucasian      False                         0.300459   \n",
       "                        True                          0.281124   \n",
       "         HispanicLatinx False                         0.281646   \n",
       "                        True                          0.282609   \n",
       "         Indigenous     False                         0.329609   \n",
       "                        True                          0.342857   \n",
       "         NoAnswer       False                         0.331897   \n",
       "                        True                          0.366667   \n",
       "TheyThem Asian          False                         0.285714   \n",
       "                        True                          0.600000   \n",
       "         Black          False                         0.279070   \n",
       "                        True                          0.250000   \n",
       "         Caucasian      False                         0.319658   \n",
       "                        True                          0.307692   \n",
       "         HispanicLatinx False                         0.250000   \n",
       "                        True                          0.000000   \n",
       "         Indigenous     False                         0.323529   \n",
       "                        True                          0.000000   \n",
       "         NoAnswer       False                         0.285714   \n",
       "                        True                          0.000000   \n",
       "\n",
       "                                                digital_professional  \\\n",
       "pronouns ethnicity      person_with_disability                         \n",
       "HeHim    Asian          False                               0.359223   \n",
       "                        True                                0.339623   \n",
       "         Black          False                               0.447458   \n",
       "                        True                                0.468750   \n",
       "         Caucasian      False                               0.381034   \n",
       "                        True                                0.397059   \n",
       "         HispanicLatinx False                               0.325342   \n",
       "                        True                                0.500000   \n",
       "         Indigenous     False                               0.339623   \n",
       "                        True                                0.400000   \n",
       "         NoAnswer       False                               0.363248   \n",
       "                        True                                0.200000   \n",
       "NoAnswer Asian          False                               0.250000   \n",
       "                        True                                1.000000   \n",
       "         Black          False                               0.500000   \n",
       "                        True                                0.666667   \n",
       "         Caucasian      False                               0.384030   \n",
       "                        True                                0.333333   \n",
       "         HispanicLatinx False                               0.294118   \n",
       "                        True                                0.000000   \n",
       "         Indigenous     False                               0.257143   \n",
       "                        True                                0.500000   \n",
       "         NoAnswer       False                               0.466667   \n",
       "                        True                                0.500000   \n",
       "SheHer   Asian          False                               0.344633   \n",
       "                        True                                0.326087   \n",
       "         Black          False                               0.383178   \n",
       "                        True                                0.382353   \n",
       "         Caucasian      False                               0.383236   \n",
       "                        True                                0.415663   \n",
       "         HispanicLatinx False                               0.354430   \n",
       "                        True                                0.282609   \n",
       "         Indigenous     False                               0.357542   \n",
       "                        True                                0.314286   \n",
       "         NoAnswer       False                               0.375000   \n",
       "                        True                                0.333333   \n",
       "TheyThem Asian          False                               0.428571   \n",
       "                        True                                0.600000   \n",
       "         Black          False                               0.372093   \n",
       "                        True                                0.500000   \n",
       "         Caucasian      False                               0.369231   \n",
       "                        True                                0.365385   \n",
       "         HispanicLatinx False                               0.428571   \n",
       "                        True                                0.200000   \n",
       "         Indigenous     False                               0.558824   \n",
       "                        True                                0.333333   \n",
       "         NoAnswer       False                               0.400000   \n",
       "                        True                                0.500000   \n",
       "\n",
       "                                                digital_accessible  \\\n",
       "pronouns ethnicity      person_with_disability                       \n",
       "HeHim    Asian          False                             0.482201   \n",
       "                        True                              0.000000   \n",
       "         Black          False                             0.477966   \n",
       "                        True                              0.000000   \n",
       "         Caucasian      False                             0.465517   \n",
       "                        True                              0.023897   \n",
       "         HispanicLatinx False                             0.407534   \n",
       "                        True                              0.000000   \n",
       "         Indigenous     False                             0.496855   \n",
       "                        True                              0.000000   \n",
       "         NoAnswer       False                             0.504274   \n",
       "                        True                              0.000000   \n",
       "NoAnswer Asian          False                             0.285714   \n",
       "                        True                              0.000000   \n",
       "         Black          False                             0.500000   \n",
       "                        True                              0.000000   \n",
       "         Caucasian      False                             0.494297   \n",
       "                        True                              0.000000   \n",
       "         HispanicLatinx False                             0.588235   \n",
       "                        True                              0.000000   \n",
       "         Indigenous     False                             0.371429   \n",
       "                        True                              0.000000   \n",
       "         NoAnswer       False                             0.433333   \n",
       "                        True                              0.000000   \n",
       "SheHer   Asian          False                             0.477401   \n",
       "                        True                              0.000000   \n",
       "         Black          False                             0.510903   \n",
       "                        True                              0.000000   \n",
       "         Caucasian      False                             0.468724   \n",
       "                        True                              0.000000   \n",
       "         HispanicLatinx False                             0.503165   \n",
       "                        True                              0.000000   \n",
       "         Indigenous     False                             0.486034   \n",
       "                        True                              0.000000   \n",
       "         NoAnswer       False                             0.500000   \n",
       "                        True                              0.000000   \n",
       "TheyThem Asian          False                             0.500000   \n",
       "                        True                              0.000000   \n",
       "         Black          False                             0.348837   \n",
       "                        True                              0.000000   \n",
       "         Caucasian      False                             0.487179   \n",
       "                        True                              0.000000   \n",
       "         HispanicLatinx False                             0.321429   \n",
       "                        True                              0.000000   \n",
       "         Indigenous     False                             0.411765   \n",
       "                        True                              0.000000   \n",
       "         NoAnswer       False                             0.514286   \n",
       "                        True                              0.000000   \n",
       "\n",
       "                                                personnel_present  \\\n",
       "pronouns ethnicity      person_with_disability                      \n",
       "HeHim    Asian          False                            0.705502   \n",
       "                        True                             0.735849   \n",
       "         Black          False                            0.735593   \n",
       "                        True                             0.718750   \n",
       "         Caucasian      False                            0.714224   \n",
       "                        True                             0.689338   \n",
       "         HispanicLatinx False                            0.715753   \n",
       "                        True                             0.785714   \n",
       "         Indigenous     False                            0.694969   \n",
       "                        True                             0.840000   \n",
       "         NoAnswer       False                            0.709402   \n",
       "                        True                             0.750000   \n",
       "NoAnswer Asian          False                            0.714286   \n",
       "                        True                             0.800000   \n",
       "         Black          False                            0.687500   \n",
       "                        True                             0.666667   \n",
       "         Caucasian      False                            0.678707   \n",
       "                        True                             0.686275   \n",
       "         HispanicLatinx False                            0.558824   \n",
       "                        True                             0.500000   \n",
       "         Indigenous     False                            0.714286   \n",
       "                        True                             0.750000   \n",
       "         NoAnswer       False                            0.733333   \n",
       "                        True                             0.500000   \n",
       "SheHer   Asian          False                            0.692090   \n",
       "                        True                             0.739130   \n",
       "         Black          False                            0.700935   \n",
       "                        True                             0.647059   \n",
       "         Caucasian      False                            0.711218   \n",
       "                        True                             0.702811   \n",
       "         HispanicLatinx False                            0.686709   \n",
       "                        True                             0.630435   \n",
       "         Indigenous     False                            0.715084   \n",
       "                        True                             0.600000   \n",
       "         NoAnswer       False                            0.711207   \n",
       "                        True                             0.766667   \n",
       "TheyThem Asian          False                            0.607143   \n",
       "                        True                             0.800000   \n",
       "         Black          False                            0.790698   \n",
       "                        True                             0.750000   \n",
       "         Caucasian      False                            0.700855   \n",
       "                        True                             0.750000   \n",
       "         HispanicLatinx False                            0.678571   \n",
       "                        True                             1.000000   \n",
       "         Indigenous     False                            0.735294   \n",
       "                        True                             0.666667   \n",
       "         NoAnswer       False                            0.657143   \n",
       "                        True                             1.000000   \n",
       "\n",
       "                                                personnel_pleasant  \\\n",
       "pronouns ethnicity      person_with_disability                       \n",
       "HeHim    Asian          False                             0.323625   \n",
       "                        True                              0.377358   \n",
       "         Black          False                             0.359322   \n",
       "                        True                              0.312500   \n",
       "         Caucasian      False                             0.327155   \n",
       "                        True                              0.312500   \n",
       "         HispanicLatinx False                             0.294521   \n",
       "                        True                              0.464286   \n",
       "         Indigenous     False                             0.342767   \n",
       "                        True                              0.440000   \n",
       "         NoAnswer       False                             0.273504   \n",
       "                        True                              0.350000   \n",
       "NoAnswer Asian          False                             0.321429   \n",
       "                        True                              0.600000   \n",
       "         Black          False                             0.250000   \n",
       "                        True                              0.333333   \n",
       "         Caucasian      False                             0.302281   \n",
       "                        True                              0.215686   \n",
       "         HispanicLatinx False                             0.235294   \n",
       "                        True                              0.000000   \n",
       "         Indigenous     False                             0.314286   \n",
       "                        True                              0.250000   \n",
       "         NoAnswer       False                             0.466667   \n",
       "                        True                              0.500000   \n",
       "SheHer   Asian          False                             0.353107   \n",
       "                        True                              0.369565   \n",
       "         Black          False                             0.336449   \n",
       "                        True                              0.294118   \n",
       "         Caucasian      False                             0.326939   \n",
       "                        True                              0.341365   \n",
       "         HispanicLatinx False                             0.291139   \n",
       "                        True                              0.260870   \n",
       "         Indigenous     False                             0.357542   \n",
       "                        True                              0.228571   \n",
       "         NoAnswer       False                             0.288793   \n",
       "                        True                              0.433333   \n",
       "TheyThem Asian          False                             0.285714   \n",
       "                        True                              0.400000   \n",
       "         Black          False                             0.372093   \n",
       "                        True                              0.500000   \n",
       "         Caucasian      False                             0.319658   \n",
       "                        True                              0.326923   \n",
       "         HispanicLatinx False                             0.357143   \n",
       "                        True                              0.200000   \n",
       "         Indigenous     False                             0.352941   \n",
       "                        True                              0.333333   \n",
       "         NoAnswer       False                             0.342857   \n",
       "                        True                              1.000000   \n",
       "\n",
       "                                                personnel_helpful  \\\n",
       "pronouns ethnicity      person_with_disability                      \n",
       "HeHim    Asian          False                            0.323625   \n",
       "                        True                             0.301887   \n",
       "         Black          False                            0.332203   \n",
       "                        True                             0.343750   \n",
       "         Caucasian      False                            0.305603   \n",
       "                        True                             0.332721   \n",
       "         HispanicLatinx False                            0.315068   \n",
       "                        True                             0.392857   \n",
       "         Indigenous     False                            0.292453   \n",
       "                        True                             0.280000   \n",
       "         NoAnswer       False                            0.277778   \n",
       "                        True                             0.100000   \n",
       "NoAnswer Asian          False                            0.178571   \n",
       "                        True                             0.400000   \n",
       "         Black          False                            0.312500   \n",
       "                        True                             0.666667   \n",
       "         Caucasian      False                            0.290875   \n",
       "                        True                             0.333333   \n",
       "         HispanicLatinx False                            0.294118   \n",
       "                        True                             0.500000   \n",
       "         Indigenous     False                            0.171429   \n",
       "                        True                             0.500000   \n",
       "         NoAnswer       False                            0.366667   \n",
       "                        True                             0.000000   \n",
       "SheHer   Asian          False                            0.324859   \n",
       "                        True                             0.434783   \n",
       "         Black          False                            0.333333   \n",
       "                        True                             0.264706   \n",
       "         Caucasian      False                            0.321309   \n",
       "                        True                             0.277108   \n",
       "         HispanicLatinx False                            0.259494   \n",
       "                        True                             0.282609   \n",
       "         Indigenous     False                            0.310056   \n",
       "                        True                             0.342857   \n",
       "         NoAnswer       False                            0.327586   \n",
       "                        True                             0.533333   \n",
       "TheyThem Asian          False                            0.178571   \n",
       "                        True                             0.400000   \n",
       "         Black          False                            0.255814   \n",
       "                        True                             0.250000   \n",
       "         Caucasian      False                            0.295726   \n",
       "                        True                             0.365385   \n",
       "         HispanicLatinx False                            0.321429   \n",
       "                        True                             0.200000   \n",
       "         Indigenous     False                            0.352941   \n",
       "                        True                             0.333333   \n",
       "         NoAnswer       False                            0.257143   \n",
       "                        True                             0.000000   \n",
       "\n",
       "                                                personnel_professional  \\\n",
       "pronouns ethnicity      person_with_disability                           \n",
       "HeHim    Asian          False                                 0.330097   \n",
       "                        True                                  0.207547   \n",
       "         Black          False                                 0.308475   \n",
       "                        True                                  0.281250   \n",
       "         Caucasian      False                                 0.291595   \n",
       "                        True                                  0.286765   \n",
       "         HispanicLatinx False                                 0.284247   \n",
       "                        True                                  0.392857   \n",
       "         Indigenous     False                                 0.254717   \n",
       "                        True                                  0.360000   \n",
       "         NoAnswer       False                                 0.320513   \n",
       "                        True                                  0.450000   \n",
       "NoAnswer Asian          False                                 0.178571   \n",
       "                        True                                  0.400000   \n",
       "         Black          False                                 0.250000   \n",
       "                        True                                  0.000000   \n",
       "         Caucasian      False                                 0.283270   \n",
       "                        True                                  0.196078   \n",
       "         HispanicLatinx False                                 0.176471   \n",
       "                        True                                  0.500000   \n",
       "         Indigenous     False                                 0.228571   \n",
       "                        True                                  0.000000   \n",
       "         NoAnswer       False                                 0.366667   \n",
       "                        True                                  0.500000   \n",
       "SheHer   Asian          False                                 0.296610   \n",
       "                        True                                  0.391304   \n",
       "         Black          False                                 0.305296   \n",
       "                        True                                  0.294118   \n",
       "         Caucasian      False                                 0.281276   \n",
       "                        True                                  0.297189   \n",
       "         HispanicLatinx False                                 0.316456   \n",
       "                        True                                  0.239130   \n",
       "         Indigenous     False                                 0.307263   \n",
       "                        True                                  0.114286   \n",
       "         NoAnswer       False                                 0.284483   \n",
       "                        True                                  0.366667   \n",
       "TheyThem Asian          False                                 0.285714   \n",
       "                        True                                  0.400000   \n",
       "         Black          False                                 0.348837   \n",
       "                        True                                  0.250000   \n",
       "         Caucasian      False                                 0.273504   \n",
       "                        True                                  0.326923   \n",
       "         HispanicLatinx False                                 0.321429   \n",
       "                        True                                  0.000000   \n",
       "         Indigenous     False                                 0.264706   \n",
       "                        True                                  0.333333   \n",
       "         NoAnswer       False                                 0.171429   \n",
       "                        True                                  0.000000   \n",
       "\n",
       "                                                personnel_inclusive  \\\n",
       "pronouns ethnicity      person_with_disability                        \n",
       "HeHim    Asian          False                              0.297735   \n",
       "                        True                               0.075472   \n",
       "         Black          False                              0.305085   \n",
       "                        True                               0.187500   \n",
       "         Caucasian      False                              0.337284   \n",
       "                        True                               0.174632   \n",
       "         HispanicLatinx False                              0.311644   \n",
       "                        True                               0.107143   \n",
       "         Indigenous     False                              0.314465   \n",
       "                        True                               0.160000   \n",
       "         NoAnswer       False                              0.350427   \n",
       "                        True                               0.050000   \n",
       "NoAnswer Asian          False                              0.107143   \n",
       "                        True                               0.000000   \n",
       "         Black          False                              0.218750   \n",
       "                        True                               0.000000   \n",
       "         Caucasian      False                              0.279468   \n",
       "                        True                               0.117647   \n",
       "         HispanicLatinx False                              0.117647   \n",
       "                        True                               0.000000   \n",
       "         Indigenous     False                              0.085714   \n",
       "                        True                               0.000000   \n",
       "         NoAnswer       False                              0.133333   \n",
       "                        True                               0.000000   \n",
       "SheHer   Asian          False                              0.163842   \n",
       "                        True                               0.065217   \n",
       "         Black          False                              0.186916   \n",
       "                        True                               0.000000   \n",
       "         Caucasian      False                              0.311093   \n",
       "                        True                               0.068273   \n",
       "         HispanicLatinx False                              0.161392   \n",
       "                        True                               0.000000   \n",
       "         Indigenous     False                              0.187151   \n",
       "                        True                               0.000000   \n",
       "         NoAnswer       False                              0.146552   \n",
       "                        True                               0.033333   \n",
       "TheyThem Asian          False                              0.071429   \n",
       "                        True                               0.000000   \n",
       "         Black          False                              0.209302   \n",
       "                        True                               0.000000   \n",
       "         Caucasian      False                              0.302564   \n",
       "                        True                               0.076923   \n",
       "         HispanicLatinx False                              0.107143   \n",
       "                        True                               0.000000   \n",
       "         Indigenous     False                              0.176471   \n",
       "                        True                               0.000000   \n",
       "         NoAnswer       False                              0.171429   \n",
       "                        True                               0.000000   \n",
       "\n",
       "                                                personnel_knowledgeable  \n",
       "pronouns ethnicity      person_with_disability                           \n",
       "HeHim    Asian          False                                  0.423948  \n",
       "                        True                                   0.415094  \n",
       "         Black          False                                  0.393220  \n",
       "                        True                                   0.468750  \n",
       "         Caucasian      False                                  0.416164  \n",
       "                        True                                   0.387868  \n",
       "         HispanicLatinx False                                  0.424658  \n",
       "                        True                                   0.392857  \n",
       "         Indigenous     False                                  0.374214  \n",
       "                        True                                   0.560000  \n",
       "         NoAnswer       False                                  0.401709  \n",
       "                        True                                   0.400000  \n",
       "NoAnswer Asian          False                                  0.428571  \n",
       "                        True                                   0.600000  \n",
       "         Black          False                                  0.406250  \n",
       "                        True                                   0.333333  \n",
       "         Caucasian      False                                  0.372624  \n",
       "                        True                                   0.294118  \n",
       "         HispanicLatinx False                                  0.323529  \n",
       "                        True                                   0.500000  \n",
       "         Indigenous     False                                  0.428571  \n",
       "                        True                                   0.750000  \n",
       "         NoAnswer       False                                  0.466667  \n",
       "                        True                                   0.500000  \n",
       "SheHer   Asian          False                                  0.384181  \n",
       "                        True                                   0.521739  \n",
       "         Black          False                                  0.404984  \n",
       "                        True                                   0.176471  \n",
       "         Caucasian      False                                  0.403670  \n",
       "                        True                                   0.449799  \n",
       "         HispanicLatinx False                                  0.373418  \n",
       "                        True                                   0.282609  \n",
       "         Indigenous     False                                  0.416201  \n",
       "                        True                                   0.428571  \n",
       "         NoAnswer       False                                  0.409483  \n",
       "                        True                                   0.533333  \n",
       "TheyThem Asian          False                                  0.500000  \n",
       "                        True                                   0.200000  \n",
       "         Black          False                                  0.441860  \n",
       "                        True                                   0.000000  \n",
       "         Caucasian      False                                  0.410256  \n",
       "                        True                                   0.442308  \n",
       "         HispanicLatinx False                                  0.321429  \n",
       "                        True                                   0.400000  \n",
       "         Indigenous     False                                  0.588235  \n",
       "                        True                                   0.333333  \n",
       "         NoAnswer       False                                  0.314286  \n",
       "                        True                                   0.000000  \n",
       "\n",
       "[48 rows x 37 columns]"
      ]
     },
     "execution_count": 9,
     "metadata": {},
     "output_type": "execute_result"
    }
   ],
   "source": [
    "scan.groupby(['pronouns', 'ethnicity', 'person_with_disability']).agg('mean')"
   ]
  },
  {
   "cell_type": "code",
   "execution_count": 10,
   "metadata": {},
   "outputs": [
    {
     "data": {
      "text/html": [
       "<div>\n",
       "<style scoped>\n",
       "    .dataframe tbody tr th:only-of-type {\n",
       "        vertical-align: middle;\n",
       "    }\n",
       "\n",
       "    .dataframe tbody tr th {\n",
       "        vertical-align: top;\n",
       "    }\n",
       "\n",
       "    .dataframe thead th {\n",
       "        text-align: right;\n",
       "    }\n",
       "</style>\n",
       "<table border=\"1\" class=\"dataframe\">\n",
       "  <thead>\n",
       "    <tr style=\"text-align: right;\">\n",
       "      <th></th>\n",
       "      <th>level</th>\n",
       "      <th>person_with_disability</th>\n",
       "      <th>openness</th>\n",
       "      <th>exclusion</th>\n",
       "      <th>duration</th>\n",
       "      <th>current_skill</th>\n",
       "      <th>desired_skill</th>\n",
       "      <th>final_skill</th>\n",
       "      <th>recommend</th>\n",
       "      <th>rating</th>\n",
       "      <th>...</th>\n",
       "      <th>digital_content</th>\n",
       "      <th>digital_smooth</th>\n",
       "      <th>digital_professional</th>\n",
       "      <th>digital_accessible</th>\n",
       "      <th>personnel_present</th>\n",
       "      <th>personnel_pleasant</th>\n",
       "      <th>personnel_helpful</th>\n",
       "      <th>personnel_professional</th>\n",
       "      <th>personnel_inclusive</th>\n",
       "      <th>personnel_knowledgeable</th>\n",
       "    </tr>\n",
       "    <tr>\n",
       "      <th>module</th>\n",
       "      <th></th>\n",
       "      <th></th>\n",
       "      <th></th>\n",
       "      <th></th>\n",
       "      <th></th>\n",
       "      <th></th>\n",
       "      <th></th>\n",
       "      <th></th>\n",
       "      <th></th>\n",
       "      <th></th>\n",
       "      <th></th>\n",
       "      <th></th>\n",
       "      <th></th>\n",
       "      <th></th>\n",
       "      <th></th>\n",
       "      <th></th>\n",
       "      <th></th>\n",
       "      <th></th>\n",
       "      <th></th>\n",
       "      <th></th>\n",
       "      <th></th>\n",
       "    </tr>\n",
       "  </thead>\n",
       "  <tbody>\n",
       "    <tr>\n",
       "      <th>101</th>\n",
       "      <td>3.401778</td>\n",
       "      <td>0.100889</td>\n",
       "      <td>0.600252</td>\n",
       "      <td>0.246689</td>\n",
       "      <td>90.0</td>\n",
       "      <td>2.526444</td>\n",
       "      <td>4.587333</td>\n",
       "      <td>2.650444</td>\n",
       "      <td>0.611333</td>\n",
       "      <td>7.162444</td>\n",
       "      <td>...</td>\n",
       "      <td>1.0</td>\n",
       "      <td>0.385778</td>\n",
       "      <td>0.355778</td>\n",
       "      <td>0.607111</td>\n",
       "      <td>0.0</td>\n",
       "      <td>0.000000</td>\n",
       "      <td>0.000000</td>\n",
       "      <td>0.000000</td>\n",
       "      <td>0.000000</td>\n",
       "      <td>0.000000</td>\n",
       "    </tr>\n",
       "    <tr>\n",
       "      <th>102</th>\n",
       "      <td>3.401778</td>\n",
       "      <td>0.100889</td>\n",
       "      <td>0.600252</td>\n",
       "      <td>0.246689</td>\n",
       "      <td>45.0</td>\n",
       "      <td>2.526444</td>\n",
       "      <td>4.587333</td>\n",
       "      <td>3.613333</td>\n",
       "      <td>0.774000</td>\n",
       "      <td>8.000444</td>\n",
       "      <td>...</td>\n",
       "      <td>1.0</td>\n",
       "      <td>0.234667</td>\n",
       "      <td>0.297333</td>\n",
       "      <td>0.416000</td>\n",
       "      <td>1.0</td>\n",
       "      <td>0.394667</td>\n",
       "      <td>0.471333</td>\n",
       "      <td>0.422222</td>\n",
       "      <td>0.320000</td>\n",
       "      <td>0.572444</td>\n",
       "    </tr>\n",
       "    <tr>\n",
       "      <th>201</th>\n",
       "      <td>3.273148</td>\n",
       "      <td>0.074074</td>\n",
       "      <td>0.592763</td>\n",
       "      <td>0.215741</td>\n",
       "      <td>90.0</td>\n",
       "      <td>2.620370</td>\n",
       "      <td>4.662037</td>\n",
       "      <td>2.620370</td>\n",
       "      <td>0.319444</td>\n",
       "      <td>6.046296</td>\n",
       "      <td>...</td>\n",
       "      <td>0.0</td>\n",
       "      <td>0.000000</td>\n",
       "      <td>0.000000</td>\n",
       "      <td>0.000000</td>\n",
       "      <td>1.0</td>\n",
       "      <td>0.203704</td>\n",
       "      <td>0.125000</td>\n",
       "      <td>0.212963</td>\n",
       "      <td>0.180556</td>\n",
       "      <td>0.319444</td>\n",
       "    </tr>\n",
       "    <tr>\n",
       "      <th>202</th>\n",
       "      <td>3.273148</td>\n",
       "      <td>0.074074</td>\n",
       "      <td>0.592763</td>\n",
       "      <td>0.215741</td>\n",
       "      <td>150.0</td>\n",
       "      <td>2.620370</td>\n",
       "      <td>4.662037</td>\n",
       "      <td>3.550926</td>\n",
       "      <td>0.777778</td>\n",
       "      <td>7.995370</td>\n",
       "      <td>...</td>\n",
       "      <td>0.0</td>\n",
       "      <td>0.000000</td>\n",
       "      <td>0.000000</td>\n",
       "      <td>0.000000</td>\n",
       "      <td>1.0</td>\n",
       "      <td>0.217593</td>\n",
       "      <td>0.166667</td>\n",
       "      <td>0.180556</td>\n",
       "      <td>0.203704</td>\n",
       "      <td>0.263889</td>\n",
       "    </tr>\n",
       "    <tr>\n",
       "      <th>301</th>\n",
       "      <td>3.324667</td>\n",
       "      <td>0.098167</td>\n",
       "      <td>0.601233</td>\n",
       "      <td>0.240600</td>\n",
       "      <td>60.0</td>\n",
       "      <td>2.507000</td>\n",
       "      <td>4.568167</td>\n",
       "      <td>2.845333</td>\n",
       "      <td>0.811667</td>\n",
       "      <td>8.202167</td>\n",
       "      <td>...</td>\n",
       "      <td>1.0</td>\n",
       "      <td>0.304667</td>\n",
       "      <td>0.486167</td>\n",
       "      <td>0.328167</td>\n",
       "      <td>1.0</td>\n",
       "      <td>0.526833</td>\n",
       "      <td>0.435333</td>\n",
       "      <td>0.410667</td>\n",
       "      <td>0.465167</td>\n",
       "      <td>0.596833</td>\n",
       "    </tr>\n",
       "  </tbody>\n",
       "</table>\n",
       "<p>5 rows × 37 columns</p>\n",
       "</div>"
      ],
      "text/plain": [
       "           level  person_with_disability  openness  exclusion  duration  \\\n",
       "module                                                                    \n",
       "101     3.401778                0.100889  0.600252   0.246689      90.0   \n",
       "102     3.401778                0.100889  0.600252   0.246689      45.0   \n",
       "201     3.273148                0.074074  0.592763   0.215741      90.0   \n",
       "202     3.273148                0.074074  0.592763   0.215741     150.0   \n",
       "301     3.324667                0.098167  0.601233   0.240600      60.0   \n",
       "\n",
       "        current_skill  desired_skill  final_skill  recommend    rating  ...  \\\n",
       "module                                                                  ...   \n",
       "101          2.526444       4.587333     2.650444   0.611333  7.162444  ...   \n",
       "102          2.526444       4.587333     3.613333   0.774000  8.000444  ...   \n",
       "201          2.620370       4.662037     2.620370   0.319444  6.046296  ...   \n",
       "202          2.620370       4.662037     3.550926   0.777778  7.995370  ...   \n",
       "301          2.507000       4.568167     2.845333   0.811667  8.202167  ...   \n",
       "\n",
       "        digital_content  digital_smooth  digital_professional  \\\n",
       "module                                                          \n",
       "101                 1.0        0.385778              0.355778   \n",
       "102                 1.0        0.234667              0.297333   \n",
       "201                 0.0        0.000000              0.000000   \n",
       "202                 0.0        0.000000              0.000000   \n",
       "301                 1.0        0.304667              0.486167   \n",
       "\n",
       "        digital_accessible  personnel_present  personnel_pleasant  \\\n",
       "module                                                              \n",
       "101               0.607111                0.0            0.000000   \n",
       "102               0.416000                1.0            0.394667   \n",
       "201               0.000000                1.0            0.203704   \n",
       "202               0.000000                1.0            0.217593   \n",
       "301               0.328167                1.0            0.526833   \n",
       "\n",
       "        personnel_helpful  personnel_professional  personnel_inclusive  \\\n",
       "module                                                                   \n",
       "101              0.000000                0.000000             0.000000   \n",
       "102              0.471333                0.422222             0.320000   \n",
       "201              0.125000                0.212963             0.180556   \n",
       "202              0.166667                0.180556             0.203704   \n",
       "301              0.435333                0.410667             0.465167   \n",
       "\n",
       "        personnel_knowledgeable  \n",
       "module                           \n",
       "101                    0.000000  \n",
       "102                    0.572444  \n",
       "201                    0.319444  \n",
       "202                    0.263889  \n",
       "301                    0.596833  \n",
       "\n",
       "[5 rows x 37 columns]"
      ]
     },
     "execution_count": 10,
     "metadata": {},
     "output_type": "execute_result"
    }
   ],
   "source": [
    "scan.groupby('module').agg('mean')"
   ]
  },
  {
   "cell_type": "code",
   "execution_count": 11,
   "metadata": {},
   "outputs": [],
   "source": [
    "feedback = scan.drop([\"level\", \"current_skill\", \"desired_skill\", \"final_skill\", \"rating\"], axis=1)\n",
    "\n",
    "skill = scan[[\"module\", \"current_skill\", \"desired_skill\", \"final_skill\"]]\n",
    "learning_obj = scan[[\"module\", \"lo_1\", \"lo_2\"]]\n",
    "\n",
    "# Create Dataframes for later use\n",
    "module = feedback[[\"module\", \"clear\", \"entertaining\", \"relevant\", \"informative\", \"useful\", \"inclusive\"]]\n",
    "digital = feedback[[\"module\", \"digital_smooth\", \"digital_professional\", \"digital_accessible\"]]\n",
    "physical = feedback[[\"module\", \"physical_clean\", \"physical_pleasant\", \"physical_accessible\", \"physical_professional\", \"physical_comfortable\"]]\n",
    "personnel = feedback[[\"module\", \"personnel_pleasant\", \"personnel_helpful\", \"personnel_professional\", \"personnel_inclusive\", \"personnel_knowledgeable\"]]\n",
    "rating = df[[\"module\", \"rating\"]]"
   ]
  },
  {
   "cell_type": "markdown",
   "metadata": {},
   "source": [
    "## Ratings for learning products\n",
    "Takes user ratings from a 1-10 scale. Able to cut by business line, learning products, virtual vs. in-class products, etc."
   ]
  },
  {
   "cell_type": "markdown",
   "metadata": {},
   "source": [
    "### Rating by learning product.\n",
    "Simple aggregated ratings for specific learning products."
   ]
  },
  {
   "cell_type": "code",
   "execution_count": 12,
   "metadata": {},
   "outputs": [
    {
     "data": {
      "text/plain": [
       "<matplotlib.axes._subplots.AxesSubplot at 0x1cd22abebe0>"
      ]
     },
     "execution_count": 12,
     "metadata": {},
     "output_type": "execute_result"
    },
    {
     "data": {
      "image/png": "[encoded data removed]",
      "text/plain": [
       "<Figure size 720x432 with 1 Axes>"
      ]
     },
     "metadata": {
      "needs_background": "light"
     },
     "output_type": "display_data"
    }
   ],
   "source": [
    "rating_offering = df[[\"learning_product\", \"rating\"]]\n",
    "rating_offering.groupby(\"learning_product\").agg(\"mean\").plot(kind=\"bar\", title=\"Rating by Learning Product\", figsize=(10,6))"
   ]
  },
  {
   "cell_type": "markdown",
   "metadata": {},
   "source": [
    "### Rating by learning product module.\n",
    "A deeper dive into learning products broken down by individual module."
   ]
  },
  {
   "cell_type": "code",
   "execution_count": 13,
   "metadata": {},
   "outputs": [
    {
     "data": {
      "text/plain": [
       "<matplotlib.axes._subplots.AxesSubplot at 0x1cd248fac70>"
      ]
     },
     "execution_count": 13,
     "metadata": {},
     "output_type": "execute_result"
    },
    {
     "data": {
      "image/png": "[encoded data removed]",
      "text/plain": [
       "<Figure size 720x432 with 1 Axes>"
      ]
     },
     "metadata": {
      "needs_background": "light"
     },
     "output_type": "display_data"
    }
   ],
   "source": [
    "module_rating = df[[\"module\", \"rating\"]]\n",
    "module_rating.groupby(\"module\").agg(\"mean\").plot(kind=\"bar\", title=\"Rating by Learning Product\", figsize=(10,6))"
   ]
  },
  {
   "cell_type": "markdown",
   "metadata": {},
   "source": [
    "### Rating by offering_id.\n",
    "A deeper dive into specific offerings of a learning product."
   ]
  },
  {
   "cell_type": "code",
   "execution_count": 14,
   "metadata": {},
   "outputs": [
    {
     "data": {
      "text/plain": [
       "<matplotlib.axes._subplots.AxesSubplot at 0x1cd2491f940>"
      ]
     },
     "execution_count": 14,
     "metadata": {},
     "output_type": "execute_result"
    },
    {
     "data": {
      "image/png": "[encoded data removed]",
      "text/plain": [
       "<Figure size 720x432 with 1 Axes>"
      ]
     },
     "metadata": {
      "needs_background": "light"
     },
     "output_type": "display_data"
    }
   ],
   "source": [
    "offering_rating = df[[\"offering_id\", \"rating\"]]\n",
    "offering_rating.groupby(\"offering_id\").agg(\"mean\").plot(kind=\"bar\", title=\"Rating by Offering ID\", figsize=(10,6))"
   ]
  },
  {
   "cell_type": "markdown",
   "metadata": {},
   "source": [
    "### Crosstab of module and ratings.\n",
    "A different view of overall ratings that shows the peaks and valleys, giving more insight into the success of a learning product or module."
   ]
  },
  {
   "cell_type": "code",
   "execution_count": 15,
   "metadata": {},
   "outputs": [
    {
     "data": {
      "text/plain": [
       "<matplotlib.axes._subplots.AxesSubplot at 0x1cd24a25b80>"
      ]
     },
     "execution_count": 15,
     "metadata": {},
     "output_type": "execute_result"
    },
    {
     "data": {
      "image/png": "[encoded data removed]",
      "text/plain": [
       "<Figure size 864x432 with 1 Axes>"
      ]
     },
     "metadata": {
      "needs_background": "light"
     },
     "output_type": "display_data"
    }
   ],
   "source": [
    "pd.crosstab(df.learning_product, df.rating, normalize=\"index\").plot(\n",
    "    kind=\"bar\", color=seven_grad, figsize=(12, 6),\n",
    "    title=\"Ratings by Learning Product\")"
   ]
  },
  {
   "cell_type": "markdown",
   "metadata": {},
   "source": [
    "### Modules.\n",
    "Digging a bit deeper into the products."
   ]
  },
  {
   "cell_type": "code",
   "execution_count": 16,
   "metadata": {},
   "outputs": [
    {
     "data": {
      "text/plain": [
       "<matplotlib.axes._subplots.AxesSubplot at 0x1cd24cb66d0>"
      ]
     },
     "execution_count": 16,
     "metadata": {},
     "output_type": "execute_result"
    },
    {
     "data": {
      "image/png": "[encoded data removed]",
      "text/plain": [
       "<Figure size 864x432 with 1 Axes>"
      ]
     },
     "metadata": {
      "needs_background": "light"
     },
     "output_type": "display_data"
    }
   ],
   "source": [
    "pd.crosstab(df.module, df.rating, normalize=\"index\").plot(\n",
    "    kind=\"bar\", color=seven_grad, figsize=(12, 6),\n",
    "    title=\"Ratings by Module\")"
   ]
  },
  {
   "cell_type": "markdown",
   "metadata": {},
   "source": [
    "### Offerings.\n",
    "Going deeper still, looking for differences in specific offerings of a learning product."
   ]
  },
  {
   "cell_type": "code",
   "execution_count": 17,
   "metadata": {},
   "outputs": [
    {
     "data": {
      "text/plain": [
       "<matplotlib.axes._subplots.AxesSubplot at 0x1cd24b99550>"
      ]
     },
     "execution_count": 17,
     "metadata": {},
     "output_type": "execute_result"
    },
    {
     "data": {
      "image/png": "[encoded data removed]",
      "text/plain": [
       "<Figure size 864x432 with 1 Axes>"
      ]
     },
     "metadata": {
      "needs_background": "light"
     },
     "output_type": "display_data"
    }
   ],
   "source": [
    "pd.crosstab(df.offering_id.where(df.learning_product==\"I501\"), df.rating, normalize=\"index\").plot(\n",
    "    kind=\"bar\", color=seven_grad, figsize=(12, 6),\n",
    "    title=\"Ratings by Offering for I501\")"
   ]
  },
  {
   "cell_type": "markdown",
   "metadata": {},
   "source": [
    "### Examing ratings by audience.\n",
    "How do different communities in the GC respond to our learning products?"
   ]
  },
  {
   "cell_type": "code",
   "execution_count": 18,
   "metadata": {},
   "outputs": [
    {
     "data": {
      "text/plain": [
       "<matplotlib.axes._subplots.AxesSubplot at 0x1cd24e37040>"
      ]
     },
     "execution_count": 18,
     "metadata": {},
     "output_type": "execute_result"
    },
    {
     "data": {
      "image/png": "[encoded data removed]",
      "text/plain": [
       "<Figure size 864x432 with 1 Axes>"
      ]
     },
     "metadata": {
      "needs_background": "light"
     },
     "output_type": "display_data"
    }
   ],
   "source": [
    "pd.crosstab([df.module.where(df.module==101), df.audience], df.rating, normalize=\"index\").plot(\n",
    "    kind=\"bar\", color=seven_grad, figsize=(12, 6),\n",
    "    title=\"Ratings by Audience - I501 - Module 101\")"
   ]
  },
  {
   "cell_type": "code",
   "execution_count": 19,
   "metadata": {},
   "outputs": [
    {
     "data": {
      "text/plain": [
       "<matplotlib.axes._subplots.AxesSubplot at 0x1cd252b7370>"
      ]
     },
     "execution_count": 19,
     "metadata": {},
     "output_type": "execute_result"
    },
    {
     "data": {
      "image/png": "[encoded data removed]",
      "text/plain": [
       "<Figure size 864x432 with 1 Axes>"
      ]
     },
     "metadata": {
      "needs_background": "light"
     },
     "output_type": "display_data"
    }
   ],
   "source": [
    "pd.crosstab([df.module.where(df.module==102), df.audience], df.rating, normalize=\"index\").plot(\n",
    "    kind=\"bar\", color=seven_grad, figsize=(12, 6),\n",
    "    title=\"Ratings by Audience - Module 102\")"
   ]
  },
  {
   "cell_type": "code",
   "execution_count": 20,
   "metadata": {},
   "outputs": [
    {
     "data": {
      "text/plain": [
       "<matplotlib.axes._subplots.AxesSubplot at 0x1cd2538ca60>"
      ]
     },
     "execution_count": 20,
     "metadata": {},
     "output_type": "execute_result"
    },
    {
     "data": {
      "image/png": "[encoded data removed]",
      "text/plain": [
       "<Figure size 864x432 with 1 Axes>"
      ]
     },
     "metadata": {
      "needs_background": "light"
     },
     "output_type": "display_data"
    }
   ],
   "source": [
    "pd.crosstab([df.module.where(df.module==201), df.audience], df.rating, normalize=\"index\").plot(\n",
    "    kind=\"bar\", color=seven_grad, figsize=(12, 6),\n",
    "    title=\"Ratings by Audience - Module 201\")"
   ]
  },
  {
   "cell_type": "code",
   "execution_count": 21,
   "metadata": {},
   "outputs": [
    {
     "data": {
      "text/plain": [
       "<matplotlib.axes._subplots.AxesSubplot at 0x1cd25423c40>"
      ]
     },
     "execution_count": 21,
     "metadata": {},
     "output_type": "execute_result"
    },
    {
     "data": {
      "image/png": "[encoded data removed]",
      "text/plain": [
       "<Figure size 864x432 with 1 Axes>"
      ]
     },
     "metadata": {
      "needs_background": "light"
     },
     "output_type": "display_data"
    }
   ],
   "source": [
    "pd.crosstab([df.module.where(df.module==202), df.audience], df.rating, normalize=\"index\").plot(\n",
    "    kind=\"bar\", color=seven_grad, figsize=(12, 6),\n",
    "    title=\"Ratings by Audience - Module 202\")"
   ]
  },
  {
   "cell_type": "code",
   "execution_count": 22,
   "metadata": {},
   "outputs": [
    {
     "data": {
      "text/plain": [
       "<matplotlib.axes._subplots.AxesSubplot at 0x1cd256005b0>"
      ]
     },
     "execution_count": 22,
     "metadata": {},
     "output_type": "execute_result"
    },
    {
     "data": {
      "image/png": "[encoded data removed]",
      "text/plain": [
       "<Figure size 864x432 with 1 Axes>"
      ]
     },
     "metadata": {
      "needs_background": "light"
     },
     "output_type": "display_data"
    }
   ],
   "source": [
    "pd.crosstab([df.module.where(df.module==301), df.audience], df.rating, normalize=\"index\").plot(\n",
    "    kind=\"bar\", color=seven_grad, figsize=(12, 6),\n",
    "    title=\"Ratings by Audience - Module 301\")"
   ]
  },
  {
   "cell_type": "markdown",
   "metadata": {},
   "source": [
    "## Learner Feedback\n",
    "Acquiring fast, actionable insight into our learning products."
   ]
  },
  {
   "cell_type": "code",
   "execution_count": 23,
   "metadata": {},
   "outputs": [
    {
     "data": {
      "text/plain": [
       "<matplotlib.axes._subplots.AxesSubplot at 0x1cd2572d6d0>"
      ]
     },
     "execution_count": 23,
     "metadata": {},
     "output_type": "execute_result"
    },
    {
     "data": {
      "image/png": "[encoded data removed]",
      "text/plain": [
       "<Figure size 864x432 with 1 Axes>"
      ]
     },
     "metadata": {
      "needs_background": "light"
     },
     "output_type": "display_data"
    }
   ],
   "source": [
    "module.groupby(\"module\").agg('mean').plot(title=\"Learner Feedback\", kind=\"bar\", figsize=(12,6),\n",
    "                                       color=seven_diff)"
   ]
  },
  {
   "cell_type": "code",
   "execution_count": 24,
   "metadata": {},
   "outputs": [
    {
     "data": {
      "text/plain": [
       "<matplotlib.axes._subplots.AxesSubplot at 0x1cd25a85b50>"
      ]
     },
     "execution_count": 24,
     "metadata": {},
     "output_type": "execute_result"
    },
    {
     "data": {
      "image/png": "[encoded data removed]",
      "text/plain": [
       "<Figure size 720x432 with 1 Axes>"
      ]
     },
     "metadata": {
      "needs_background": "light"
     },
     "output_type": "display_data"
    }
   ],
   "source": [
    "pd.crosstab(df.offering_id, df.recommend, normalize=\"index\").plot(\n",
    "    title=\"Learner Feedback - Recommend - by Offering\", kind=\"bar\", figsize=(10,6))"
   ]
  },
  {
   "cell_type": "code",
   "execution_count": 25,
   "metadata": {},
   "outputs": [
    {
     "data": {
      "text/plain": [
       "<matplotlib.axes._subplots.AxesSubplot at 0x1cd25b6f550>"
      ]
     },
     "execution_count": 25,
     "metadata": {},
     "output_type": "execute_result"
    },
    {
     "data": {
      "image/png": "[encoded data removed]",
      "text/plain": [
       "<Figure size 720x432 with 1 Axes>"
      ]
     },
     "metadata": {
      "needs_background": "light"
     },
     "output_type": "display_data"
    }
   ],
   "source": [
    "pd.crosstab([df.module.where(df.learning_product==\"I501\"), df.audience], df.recommend, normalize=\"index\").plot(\n",
    "    title=\"Learner Feedback I501 - Recommend by Learning Product and Audience\", kind=\"bar\", figsize=(10,6))"
   ]
  },
  {
   "cell_type": "code",
   "execution_count": 26,
   "metadata": {},
   "outputs": [
    {
     "data": {
      "text/plain": [
       "<matplotlib.axes._subplots.AxesSubplot at 0x1cd25e87880>"
      ]
     },
     "execution_count": 26,
     "metadata": {},
     "output_type": "execute_result"
    },
    {
     "data": {
      "image/png": "[encoded data removed]",
      "text/plain": [
       "<Figure size 720x432 with 1 Axes>"
      ]
     },
     "metadata": {
      "needs_background": "light"
     },
     "output_type": "display_data"
    }
   ],
   "source": [
    "digital.groupby(\"module\").agg('mean').plot(title=\"Learner Feedback - Digital XP\", kind=\"bar\", figsize=(10,6))"
   ]
  },
  {
   "cell_type": "code",
   "execution_count": 27,
   "metadata": {},
   "outputs": [
    {
     "data": {
      "text/plain": [
       "<matplotlib.axes._subplots.AxesSubplot at 0x1cd25f0e8e0>"
      ]
     },
     "execution_count": 27,
     "metadata": {},
     "output_type": "execute_result"
    },
    {
     "data": {
      "image/png": "[encoded data removed]",
      "text/plain": [
       "<Figure size 720x432 with 1 Axes>"
      ]
     },
     "metadata": {
      "needs_background": "light"
     },
     "output_type": "display_data"
    }
   ],
   "source": [
    "physical.groupby(\"module\").agg('mean').plot(title=\"Learner Feedback - Physical XP\", kind=\"bar\", figsize=(10,6))"
   ]
  },
  {
   "cell_type": "code",
   "execution_count": 28,
   "metadata": {},
   "outputs": [
    {
     "data": {
      "text/plain": [
       "<matplotlib.axes._subplots.AxesSubplot at 0x1cd24e186a0>"
      ]
     },
     "execution_count": 28,
     "metadata": {},
     "output_type": "execute_result"
    },
    {
     "data": {
      "image/png": "[encoded data removed]",
      "text/plain": [
       "<Figure size 720x432 with 1 Axes>"
      ]
     },
     "metadata": {
      "needs_background": "light"
     },
     "output_type": "display_data"
    }
   ],
   "source": [
    "personnel.groupby(\"module\").agg('mean').plot(title=\"Learner Feedback - Facilitator XP\", kind=\"bar\", figsize=(10,6))"
   ]
  },
  {
   "cell_type": "code",
   "execution_count": 29,
   "metadata": {},
   "outputs": [
    {
     "data": {
      "text/plain": [
       "<matplotlib.axes._subplots.AxesSubplot at 0x1cd25267b80>"
      ]
     },
     "execution_count": 29,
     "metadata": {},
     "output_type": "execute_result"
    },
    {
     "data": {
      "image/png": "[encoded data removed]",
      "text/plain": [
       "<Figure size 720x432 with 1 Axes>"
      ]
     },
     "metadata": {
      "needs_background": "light"
     },
     "output_type": "display_data"
    }
   ],
   "source": [
    "skill.groupby(\"module\").agg('mean').plot(title=\"Learner Skill Improvement\", kind=\"bar\", figsize=(10,6))"
   ]
  },
  {
   "cell_type": "code",
   "execution_count": 30,
   "metadata": {},
   "outputs": [
    {
     "data": {
      "text/plain": [
       "array(['Meet', 'NotMeet', 'Exceeded'], dtype=object)"
      ]
     },
     "execution_count": 30,
     "metadata": {},
     "output_type": "execute_result"
    }
   ],
   "source": [
    "learning_obj.lo_1.unique()"
   ]
  },
  {
   "cell_type": "code",
   "execution_count": 31,
   "metadata": {},
   "outputs": [
    {
     "data": {
      "text/plain": [
       "<matplotlib.axes._subplots.AxesSubplot at 0x1cd251a5b80>"
      ]
     },
     "execution_count": 31,
     "metadata": {},
     "output_type": "execute_result"
    },
    {
     "data": {
      "image/png": "[encoded data removed]",
      "text/plain": [
       "<Figure size 720x432 with 1 Axes>"
      ]
     },
     "metadata": {
      "needs_background": "light"
     },
     "output_type": "display_data"
    }
   ],
   "source": [
    "pd.crosstab(learning_obj.module, learning_obj.lo_1, normalize='index').plot(kind='bar', color=['C2', 'C0', 'C1'], title=\"Learning Objective 1 Met\", figsize=(10,6))"
   ]
  },
  {
   "cell_type": "code",
   "execution_count": 32,
   "metadata": {},
   "outputs": [
    {
     "data": {
      "text/plain": [
       "<matplotlib.axes._subplots.AxesSubplot at 0x1cd260f84c0>"
      ]
     },
     "execution_count": 32,
     "metadata": {},
     "output_type": "execute_result"
    },
    {
     "data": {
      "image/png": "[encoded data removed]",
      "text/plain": [
       "<Figure size 720x432 with 1 Axes>"
      ]
     },
     "metadata": {
      "needs_background": "light"
     },
     "output_type": "display_data"
    }
   ],
   "source": [
    "pd.crosstab(learning_obj.module, learning_obj.lo_2, normalize='index').plot(kind='bar', color=['C2', 'C0', 'C1'], title=\"Learning Objective 2 Met\", figsize=(10,6))"
   ]
  },
  {
   "cell_type": "code",
   "execution_count": 33,
   "metadata": {},
   "outputs": [
    {
     "data": {
      "text/plain": [
       "Index(['module', 'lo_1', 'lo_2'], dtype='object')"
      ]
     },
     "execution_count": 33,
     "metadata": {},
     "output_type": "execute_result"
    }
   ],
   "source": [
    "learning_obj.columns"
   ]
  },
  {
   "cell_type": "code",
   "execution_count": 34,
   "metadata": {},
   "outputs": [
    {
     "data": {
      "text/plain": [
       "<matplotlib.axes._subplots.AxesSubplot at 0x1cd261898e0>"
      ]
     },
     "execution_count": 34,
     "metadata": {},
     "output_type": "execute_result"
    },
    {
     "data": {
      "image/png": "[encoded data removed]",
      "text/plain": [
       "<Figure size 1008x432 with 1 Axes>"
      ]
     },
     "metadata": {
      "needs_background": "light"
     },
     "output_type": "display_data"
    }
   ],
   "source": [
    "pd.crosstab(scan.module, scan.percent_completed, normalize='index').plot(kind='bar', title=\"% of Module Completed\", figsize=(14,6), color=eleven_grad)"
   ]
  },
  {
   "cell_type": "code",
   "execution_count": 35,
   "metadata": {},
   "outputs": [
    {
     "data": {
      "text/plain": [
       "<matplotlib.axes._subplots.AxesSubplot at 0x1cd261fcbe0>"
      ]
     },
     "execution_count": 35,
     "metadata": {},
     "output_type": "execute_result"
    },
    {
     "data": {
      "image/png": "[encoded data removed]",
      "text/plain": [
       "<Figure size 1008x432 with 1 Axes>"
      ]
     },
     "metadata": {
      "needs_background": "light"
     },
     "output_type": "display_data"
    }
   ],
   "source": [
    "pd.crosstab(scan.module.where(scan.module==101), scan.percent_completed, normalize='index').plot(kind='bar', title=\"% of Module 101 Completed\", figsize=(14,6), color=eleven_grad)"
   ]
  },
  {
   "cell_type": "code",
   "execution_count": 36,
   "metadata": {},
   "outputs": [
    {
     "data": {
      "text/html": [
       "<div>\n",
       "<style scoped>\n",
       "    .dataframe tbody tr th:only-of-type {\n",
       "        vertical-align: middle;\n",
       "    }\n",
       "\n",
       "    .dataframe tbody tr th {\n",
       "        vertical-align: top;\n",
       "    }\n",
       "\n",
       "    .dataframe thead th {\n",
       "        text-align: right;\n",
       "    }\n",
       "</style>\n",
       "<table border=\"1\" class=\"dataframe\">\n",
       "  <thead>\n",
       "    <tr style=\"text-align: right;\">\n",
       "      <th></th>\n",
       "      <th>rating</th>\n",
       "      <th>4</th>\n",
       "      <th>5</th>\n",
       "      <th>6</th>\n",
       "      <th>7</th>\n",
       "      <th>8</th>\n",
       "      <th>9</th>\n",
       "      <th>10</th>\n",
       "    </tr>\n",
       "    <tr>\n",
       "      <th>offering_id</th>\n",
       "      <th>learning_product</th>\n",
       "      <th></th>\n",
       "      <th></th>\n",
       "      <th></th>\n",
       "      <th></th>\n",
       "      <th></th>\n",
       "      <th></th>\n",
       "      <th></th>\n",
       "    </tr>\n",
       "  </thead>\n",
       "  <tbody>\n",
       "    <tr>\n",
       "      <th>877</th>\n",
       "      <th>I501</th>\n",
       "      <td>25</td>\n",
       "      <td>103</td>\n",
       "      <td>182</td>\n",
       "      <td>205</td>\n",
       "      <td>162</td>\n",
       "      <td>124</td>\n",
       "      <td>199</td>\n",
       "    </tr>\n",
       "    <tr>\n",
       "      <th>878</th>\n",
       "      <th>I501</th>\n",
       "      <td>43</td>\n",
       "      <td>119</td>\n",
       "      <td>163</td>\n",
       "      <td>168</td>\n",
       "      <td>159</td>\n",
       "      <td>133</td>\n",
       "      <td>215</td>\n",
       "    </tr>\n",
       "    <tr>\n",
       "      <th>879</th>\n",
       "      <th>I501</th>\n",
       "      <td>35</td>\n",
       "      <td>109</td>\n",
       "      <td>171</td>\n",
       "      <td>197</td>\n",
       "      <td>156</td>\n",
       "      <td>124</td>\n",
       "      <td>208</td>\n",
       "    </tr>\n",
       "    <tr>\n",
       "      <th>880</th>\n",
       "      <th>I501</th>\n",
       "      <td>23</td>\n",
       "      <td>91</td>\n",
       "      <td>163</td>\n",
       "      <td>194</td>\n",
       "      <td>184</td>\n",
       "      <td>121</td>\n",
       "      <td>224</td>\n",
       "    </tr>\n",
       "    <tr>\n",
       "      <th>881</th>\n",
       "      <th>I501</th>\n",
       "      <td>26</td>\n",
       "      <td>115</td>\n",
       "      <td>166</td>\n",
       "      <td>208</td>\n",
       "      <td>163</td>\n",
       "      <td>120</td>\n",
       "      <td>202</td>\n",
       "    </tr>\n",
       "    <tr>\n",
       "      <th>882</th>\n",
       "      <th>I501</th>\n",
       "      <td>25</td>\n",
       "      <td>114</td>\n",
       "      <td>174</td>\n",
       "      <td>183</td>\n",
       "      <td>154</td>\n",
       "      <td>121</td>\n",
       "      <td>229</td>\n",
       "    </tr>\n",
       "    <tr>\n",
       "      <th>883</th>\n",
       "      <th>I501</th>\n",
       "      <td>22</td>\n",
       "      <td>114</td>\n",
       "      <td>203</td>\n",
       "      <td>182</td>\n",
       "      <td>160</td>\n",
       "      <td>131</td>\n",
       "      <td>188</td>\n",
       "    </tr>\n",
       "    <tr>\n",
       "      <th>884</th>\n",
       "      <th>I501</th>\n",
       "      <td>20</td>\n",
       "      <td>85</td>\n",
       "      <td>157</td>\n",
       "      <td>182</td>\n",
       "      <td>173</td>\n",
       "      <td>142</td>\n",
       "      <td>241</td>\n",
       "    </tr>\n",
       "    <tr>\n",
       "      <th>885</th>\n",
       "      <th>I501</th>\n",
       "      <td>27</td>\n",
       "      <td>105</td>\n",
       "      <td>186</td>\n",
       "      <td>194</td>\n",
       "      <td>171</td>\n",
       "      <td>137</td>\n",
       "      <td>180</td>\n",
       "    </tr>\n",
       "  </tbody>\n",
       "</table>\n",
       "</div>"
      ],
      "text/plain": [
       "rating                        4    5    6    7    8    9    10\n",
       "offering_id learning_product                                  \n",
       "877         I501              25  103  182  205  162  124  199\n",
       "878         I501              43  119  163  168  159  133  215\n",
       "879         I501              35  109  171  197  156  124  208\n",
       "880         I501              23   91  163  194  184  121  224\n",
       "881         I501              26  115  166  208  163  120  202\n",
       "882         I501              25  114  174  183  154  121  229\n",
       "883         I501              22  114  203  182  160  131  188\n",
       "884         I501              20   85  157  182  173  142  241\n",
       "885         I501              27  105  186  194  171  137  180"
      ]
     },
     "execution_count": 36,
     "metadata": {},
     "output_type": "execute_result"
    }
   ],
   "source": [
    "pd.crosstab([df.offering_id, df.learning_product.where(df.learning_product==\"I501\")], df.rating)"
   ]
  },
  {
   "cell_type": "code",
   "execution_count": 37,
   "metadata": {},
   "outputs": [
    {
     "data": {
      "text/plain": [
       "<matplotlib.axes._subplots.AxesSubplot at 0x1cd276fd280>"
      ]
     },
     "execution_count": 37,
     "metadata": {},
     "output_type": "execute_result"
    },
    {
     "data": {
      "image/png": "[encoded data removed]",
      "text/plain": [
       "<Figure size 1008x432 with 1 Axes>"
      ]
     },
     "metadata": {
      "needs_background": "light"
     },
     "output_type": "display_data"
    }
   ],
   "source": [
    "pd.crosstab([df.offering_id, df.learning_product.where(df.learning_product==\"I501\")], df.rating, normalize='index').plot(kind='bar', title=\"Rating by Offering (I501)\", figsize=(14,6),\n",
    "                                                                                                                        color=seven_grad)"
   ]
  },
  {
   "cell_type": "code",
   "execution_count": 38,
   "metadata": {},
   "outputs": [
    {
     "data": {
      "text/plain": [
       "<matplotlib.axes._subplots.AxesSubplot at 0x1cd27818190>"
      ]
     },
     "execution_count": 38,
     "metadata": {},
     "output_type": "execute_result"
    },
    {
     "data": {
      "image/png": "[encoded data removed]",
      "text/plain": [
       "<Figure size 1008x432 with 1 Axes>"
      ]
     },
     "metadata": {
      "needs_background": "light"
     },
     "output_type": "display_data"
    }
   ],
   "source": [
    "pd.crosstab(df.offering_id.where(df.learning_product==\"P901\"), df.rating, normalize=\"index\").plot(\n",
    "    kind='bar', title=\"Rating by Offering (P901)\", figsize=(14,6), color=seven_grad)"
   ]
  },
  {
   "cell_type": "code",
   "execution_count": 39,
   "metadata": {},
   "outputs": [
    {
     "data": {
      "text/plain": [
       "<matplotlib.axes._subplots.AxesSubplot at 0x1cd261fc4f0>"
      ]
     },
     "execution_count": 39,
     "metadata": {},
     "output_type": "execute_result"
    },
    {
     "data": {
      "image/png": "[encoded data removed]",
      "text/plain": [
       "<Figure size 1008x432 with 1 Axes>"
      ]
     },
     "metadata": {
      "needs_background": "light"
     },
     "output_type": "display_data"
    }
   ],
   "source": [
    "df.groupby(df[\"offering_id\"].where(df.learning_product==\"E311\"))[\"rating\"].value_counts(\n",
    "    normalize=True).unstack().plot(kind='bar', title=\"Rating by Offering (E311)\", figsize=(14,6), color=seven_grad)"
   ]
  },
  {
   "cell_type": "code",
   "execution_count": 40,
   "metadata": {},
   "outputs": [
    {
     "data": {
      "text/plain": [
       "<matplotlib.axes._subplots.AxesSubplot at 0x1cd26218340>"
      ]
     },
     "execution_count": 40,
     "metadata": {},
     "output_type": "execute_result"
    },
    {
     "data": {
      "image/png": "[encoded data removed]",
      "text/plain": [
       "<Figure size 1008x432 with 1 Axes>"
      ]
     },
     "metadata": {
      "needs_background": "light"
     },
     "output_type": "display_data"
    }
   ],
   "source": [
    "pd.crosstab([df.offering_id, df.learning_product.where(df.learning_product==\"P901\")], df.rating, normalize=\"index\").plot(kind='bar', title=\"Rating by Offering (P901)\", figsize=(14,6),\n",
    "                                                                                                                      color=seven_grad)"
   ]
  },
  {
   "cell_type": "code",
   "execution_count": 41,
   "metadata": {},
   "outputs": [
    {
     "data": {
      "text/plain": [
       "<matplotlib.axes._subplots.AxesSubplot at 0x1cd282134c0>"
      ]
     },
     "execution_count": 41,
     "metadata": {},
     "output_type": "execute_result"
    },
    {
     "data": {
      "image/png": "[encoded data removed]",
      "text/plain": [
       "<Figure size 864x432 with 1 Axes>"
      ]
     },
     "metadata": {
      "needs_background": "light"
     },
     "output_type": "display_data"
    }
   ],
   "source": [
    "pd.crosstab([df.offering_id, df.learning_product.where(df.learning_product==\"P901\")], df.recommend, normalize=\"index\").plot(kind='bar', title=\"Recommended by Offering (E311)\", figsize=(12,6))"
   ]
  },
  {
   "cell_type": "code",
   "execution_count": 42,
   "metadata": {},
   "outputs": [
    {
     "data": {
      "text/plain": [
       "<matplotlib.axes._subplots.AxesSubplot at 0x1cd28590ca0>"
      ]
     },
     "execution_count": 42,
     "metadata": {},
     "output_type": "execute_result"
    },
    {
     "data": {
      "image/png": "[encoded data removed]",
      "text/plain": [
       "<Figure size 720x432 with 1 Axes>"
      ]
     },
     "metadata": {
      "needs_background": "light"
     },
     "output_type": "display_data"
    }
   ],
   "source": [
    "pd.crosstab(df.offering_id.where(df.learning_product==\"P901\"), df.rating, normalize=\"index\").plot(\n",
    "    kind='bar', title=\"Rating by Offering for P901\", figsize=(10,6), color=seven_grad)"
   ]
  },
  {
   "cell_type": "code",
   "execution_count": 43,
   "metadata": {},
   "outputs": [
    {
     "data": {
      "text/html": [
       "<div>\n",
       "<style scoped>\n",
       "    .dataframe tbody tr th:only-of-type {\n",
       "        vertical-align: middle;\n",
       "    }\n",
       "\n",
       "    .dataframe tbody tr th {\n",
       "        vertical-align: top;\n",
       "    }\n",
       "\n",
       "    .dataframe thead th {\n",
       "        text-align: right;\n",
       "    }\n",
       "</style>\n",
       "<table border=\"1\" class=\"dataframe\">\n",
       "  <thead>\n",
       "    <tr style=\"text-align: right;\">\n",
       "      <th></th>\n",
       "      <th>rating</th>\n",
       "    </tr>\n",
       "    <tr>\n",
       "      <th>learning_product</th>\n",
       "      <th></th>\n",
       "    </tr>\n",
       "  </thead>\n",
       "  <tbody>\n",
       "    <tr>\n",
       "      <th>E311</th>\n",
       "      <td>8.202167</td>\n",
       "    </tr>\n",
       "    <tr>\n",
       "      <th>I501</th>\n",
       "      <td>7.581444</td>\n",
       "    </tr>\n",
       "    <tr>\n",
       "      <th>P901</th>\n",
       "      <td>7.020833</td>\n",
       "    </tr>\n",
       "  </tbody>\n",
       "</table>\n",
       "</div>"
      ],
      "text/plain": [
       "                    rating\n",
       "learning_product          \n",
       "E311              8.202167\n",
       "I501              7.581444\n",
       "P901              7.020833"
      ]
     },
     "execution_count": 43,
     "metadata": {},
     "output_type": "execute_result"
    }
   ],
   "source": [
    "rating_offering.groupby(\"learning_product\").agg(\"mean\")"
   ]
  },
  {
   "cell_type": "code",
   "execution_count": 44,
   "metadata": {},
   "outputs": [
    {
     "data": {
      "text/plain": [
       "<matplotlib.axes._subplots.AxesSubplot at 0x1cd284d51c0>"
      ]
     },
     "execution_count": 44,
     "metadata": {},
     "output_type": "execute_result"
    },
    {
     "data": {
      "image/png": "[encoded data removed]",
      "text/plain": [
       "<Figure size 1008x432 with 1 Axes>"
      ]
     },
     "metadata": {
      "needs_background": "light"
     },
     "output_type": "display_data"
    }
   ],
   "source": [
    "pd.crosstab([df.ethnicity, df.audience], df.inclusive, normalize=\"index\").plot(kind='bar', title=\"Inclusivity by Ethnicity and Audience\", figsize=(14,6))"
   ]
  },
  {
   "cell_type": "code",
   "execution_count": 45,
   "metadata": {},
   "outputs": [
    {
     "data": {
      "text/plain": [
       "<matplotlib.axes._subplots.AxesSubplot at 0x1cd288b7460>"
      ]
     },
     "execution_count": 45,
     "metadata": {},
     "output_type": "execute_result"
    },
    {
     "data": {
      "image/png": "[encoded data removed]",
      "text/plain": [
       "<Figure size 864x432 with 1 Axes>"
      ]
     },
     "metadata": {
      "needs_background": "light"
     },
     "output_type": "display_data"
    }
   ],
   "source": [
    "pd.crosstab([df.ethnicity, df.learning_product.where(df.learning_product==\"I501\")], df.inclusive==True, normalize=\"index\").plot(kind='bar', title=\"Inclusivity by Ethnicity (I501)\", figsize=(12,6))"
   ]
  },
  {
   "cell_type": "code",
   "execution_count": 46,
   "metadata": {},
   "outputs": [
    {
     "data": {
      "text/plain": [
       "<matplotlib.axes._subplots.AxesSubplot at 0x1cd288f6d30>"
      ]
     },
     "execution_count": 46,
     "metadata": {},
     "output_type": "execute_result"
    },
    {
     "data": {
      "image/png": "[encoded data removed]",
      "text/plain": [
       "<Figure size 864x432 with 1 Axes>"
      ]
     },
     "metadata": {
      "needs_background": "light"
     },
     "output_type": "display_data"
    }
   ],
   "source": [
    "pd.crosstab([df.ethnicity, df.learning_product.where(df.learning_product==\"P901\")], df.inclusive==True, normalize=\"index\").plot(kind='bar', title=\"Inclusivity by Ethnicity (P901)\", figsize=(12,6))"
   ]
  },
  {
   "cell_type": "code",
   "execution_count": 47,
   "metadata": {},
   "outputs": [
    {
     "data": {
      "text/plain": [
       "<matplotlib.axes._subplots.AxesSubplot at 0x1cd28979130>"
      ]
     },
     "execution_count": 47,
     "metadata": {},
     "output_type": "execute_result"
    },
    {
     "data": {
      "image/png": "[encoded data removed]",
      "text/plain": [
       "<Figure size 864x432 with 1 Axes>"
      ]
     },
     "metadata": {
      "needs_background": "light"
     },
     "output_type": "display_data"
    }
   ],
   "source": [
    "pd.crosstab([df.ethnicity, df.learning_product.where(df.learning_product==\"E311\")], df.physical_accessible==True, normalize=\"index\").plot(kind='bar', title=\"Inclusivity by Audience (E311)\", figsize=(12,6))"
   ]
  },
  {
   "cell_type": "code",
   "execution_count": 48,
   "metadata": {},
   "outputs": [
    {
     "data": {
      "text/plain": [
       "<matplotlib.axes._subplots.AxesSubplot at 0x1cd289cd190>"
      ]
     },
     "execution_count": 48,
     "metadata": {},
     "output_type": "execute_result"
    },
    {
     "data": {
      "image/png": "[encoded data removed]",
      "text/plain": [
       "<Figure size 864x432 with 1 Axes>"
      ]
     },
     "metadata": {
      "needs_background": "light"
     },
     "output_type": "display_data"
    }
   ],
   "source": [
    "pd.crosstab([df.ethnicity.where(df.ethnicity==\"Black\"), df.learning_product.where(df.learning_product==\"E311\")], df.physical_accessible==True, normalize=\"index\").plot(kind='bar', title=\"Inclusivity by People Identifying as Black (E311)\", figsize=(12,6))"
   ]
  },
  {
   "cell_type": "code",
   "execution_count": 49,
   "metadata": {},
   "outputs": [
    {
     "data": {
      "text/plain": [
       "<matplotlib.axes._subplots.AxesSubplot at 0x1cd29204790>"
      ]
     },
     "execution_count": 49,
     "metadata": {},
     "output_type": "execute_result"
    },
    {
     "data": {
      "image/png": "[encoded data removed]",
      "text/plain": [
       "<Figure size 864x432 with 1 Axes>"
      ]
     },
     "metadata": {
      "needs_background": "light"
     },
     "output_type": "display_data"
    }
   ],
   "source": [
    "pd.crosstab([df.person_with_disability, df.learning_product], df.physical_accessible.where(df.physical_space==True), normalize=\"index\").plot(\n",
    "    kind='bar', title=\"Physical Accessibility by Persons with a Disability\", figsize=(12,6))"
   ]
  },
  {
   "cell_type": "code",
   "execution_count": 50,
   "metadata": {},
   "outputs": [
    {
     "data": {
      "text/html": [
       "<div>\n",
       "<style scoped>\n",
       "    .dataframe tbody tr th:only-of-type {\n",
       "        vertical-align: middle;\n",
       "    }\n",
       "\n",
       "    .dataframe tbody tr th {\n",
       "        vertical-align: top;\n",
       "    }\n",
       "\n",
       "    .dataframe thead th {\n",
       "        text-align: right;\n",
       "    }\n",
       "</style>\n",
       "<table border=\"1\" class=\"dataframe\">\n",
       "  <thead>\n",
       "    <tr style=\"text-align: right;\">\n",
       "      <th></th>\n",
       "      <th>eval_id</th>\n",
       "      <th>learner_id</th>\n",
       "      <th>level</th>\n",
       "      <th>person_with_disability</th>\n",
       "      <th>openness</th>\n",
       "      <th>exclusion</th>\n",
       "      <th>registration_id</th>\n",
       "      <th>offering_id</th>\n",
       "      <th>duration</th>\n",
       "      <th>module</th>\n",
       "      <th>...</th>\n",
       "      <th>digital_content</th>\n",
       "      <th>digital_smooth</th>\n",
       "      <th>digital_professional</th>\n",
       "      <th>digital_accessible</th>\n",
       "      <th>personnel_present</th>\n",
       "      <th>personnel_pleasant</th>\n",
       "      <th>personnel_helpful</th>\n",
       "      <th>personnel_professional</th>\n",
       "      <th>personnel_inclusive</th>\n",
       "      <th>personnel_knowledgeable</th>\n",
       "    </tr>\n",
       "    <tr>\n",
       "      <th>rating</th>\n",
       "      <th></th>\n",
       "      <th></th>\n",
       "      <th></th>\n",
       "      <th></th>\n",
       "      <th></th>\n",
       "      <th></th>\n",
       "      <th></th>\n",
       "      <th></th>\n",
       "      <th></th>\n",
       "      <th></th>\n",
       "      <th></th>\n",
       "      <th></th>\n",
       "      <th></th>\n",
       "      <th></th>\n",
       "      <th></th>\n",
       "      <th></th>\n",
       "      <th></th>\n",
       "      <th></th>\n",
       "      <th></th>\n",
       "      <th></th>\n",
       "      <th></th>\n",
       "    </tr>\n",
       "  </thead>\n",
       "  <tbody>\n",
       "    <tr>\n",
       "      <th>4</th>\n",
       "      <td>75746.500000</td>\n",
       "      <td>5746.500000</td>\n",
       "      <td>4.500000</td>\n",
       "      <td>1.0</td>\n",
       "      <td>0.249706</td>\n",
       "      <td>0.700000</td>\n",
       "      <td>55246.500000</td>\n",
       "      <td>882.500000</td>\n",
       "      <td>67.500000</td>\n",
       "      <td>101.500000</td>\n",
       "      <td>...</td>\n",
       "      <td>1.000000</td>\n",
       "      <td>0.000000</td>\n",
       "      <td>0.000000</td>\n",
       "      <td>0.0</td>\n",
       "      <td>0.500000</td>\n",
       "      <td>0.250000</td>\n",
       "      <td>0.000000</td>\n",
       "      <td>0.000000</td>\n",
       "      <td>0.000000</td>\n",
       "      <td>0.250000</td>\n",
       "    </tr>\n",
       "    <tr>\n",
       "      <th>5</th>\n",
       "      <td>77247.166667</td>\n",
       "      <td>7247.166667</td>\n",
       "      <td>4.000000</td>\n",
       "      <td>1.0</td>\n",
       "      <td>0.379851</td>\n",
       "      <td>0.766667</td>\n",
       "      <td>68747.166667</td>\n",
       "      <td>929.333333</td>\n",
       "      <td>70.000000</td>\n",
       "      <td>151.333333</td>\n",
       "      <td>...</td>\n",
       "      <td>0.833333</td>\n",
       "      <td>0.166667</td>\n",
       "      <td>0.333333</td>\n",
       "      <td>0.0</td>\n",
       "      <td>0.666667</td>\n",
       "      <td>0.166667</td>\n",
       "      <td>0.333333</td>\n",
       "      <td>0.000000</td>\n",
       "      <td>0.000000</td>\n",
       "      <td>0.166667</td>\n",
       "    </tr>\n",
       "    <tr>\n",
       "      <th>6</th>\n",
       "      <td>78500.444444</td>\n",
       "      <td>8500.444444</td>\n",
       "      <td>2.777778</td>\n",
       "      <td>1.0</td>\n",
       "      <td>0.487603</td>\n",
       "      <td>0.811111</td>\n",
       "      <td>80500.444444</td>\n",
       "      <td>935.555556</td>\n",
       "      <td>80.000000</td>\n",
       "      <td>156.888889</td>\n",
       "      <td>...</td>\n",
       "      <td>0.888889</td>\n",
       "      <td>0.444444</td>\n",
       "      <td>0.111111</td>\n",
       "      <td>0.0</td>\n",
       "      <td>0.555556</td>\n",
       "      <td>0.111111</td>\n",
       "      <td>0.222222</td>\n",
       "      <td>0.333333</td>\n",
       "      <td>0.000000</td>\n",
       "      <td>0.000000</td>\n",
       "    </tr>\n",
       "    <tr>\n",
       "      <th>7</th>\n",
       "      <td>84704.428571</td>\n",
       "      <td>14704.428571</td>\n",
       "      <td>2.071429</td>\n",
       "      <td>1.0</td>\n",
       "      <td>0.549795</td>\n",
       "      <td>0.807143</td>\n",
       "      <td>138775.857143</td>\n",
       "      <td>1007.785714</td>\n",
       "      <td>64.285714</td>\n",
       "      <td>229.714286</td>\n",
       "      <td>...</td>\n",
       "      <td>1.000000</td>\n",
       "      <td>0.285714</td>\n",
       "      <td>0.500000</td>\n",
       "      <td>0.0</td>\n",
       "      <td>0.785714</td>\n",
       "      <td>0.285714</td>\n",
       "      <td>0.357143</td>\n",
       "      <td>0.142857</td>\n",
       "      <td>0.071429</td>\n",
       "      <td>0.142857</td>\n",
       "    </tr>\n",
       "    <tr>\n",
       "      <th>8</th>\n",
       "      <td>75221.571429</td>\n",
       "      <td>5221.571429</td>\n",
       "      <td>3.285714</td>\n",
       "      <td>1.0</td>\n",
       "      <td>0.652953</td>\n",
       "      <td>0.742857</td>\n",
       "      <td>50221.571429</td>\n",
       "      <td>882.000000</td>\n",
       "      <td>70.714286</td>\n",
       "      <td>101.428571</td>\n",
       "      <td>...</td>\n",
       "      <td>1.000000</td>\n",
       "      <td>0.428571</td>\n",
       "      <td>0.571429</td>\n",
       "      <td>0.0</td>\n",
       "      <td>0.428571</td>\n",
       "      <td>0.285714</td>\n",
       "      <td>0.000000</td>\n",
       "      <td>0.285714</td>\n",
       "      <td>0.000000</td>\n",
       "      <td>0.285714</td>\n",
       "    </tr>\n",
       "    <tr>\n",
       "      <th>9</th>\n",
       "      <td>80804.777778</td>\n",
       "      <td>10804.777778</td>\n",
       "      <td>3.333333</td>\n",
       "      <td>1.0</td>\n",
       "      <td>0.698575</td>\n",
       "      <td>0.722222</td>\n",
       "      <td>102804.777778</td>\n",
       "      <td>968.111111</td>\n",
       "      <td>66.666667</td>\n",
       "      <td>190.111111</td>\n",
       "      <td>...</td>\n",
       "      <td>1.000000</td>\n",
       "      <td>0.444444</td>\n",
       "      <td>0.777778</td>\n",
       "      <td>0.0</td>\n",
       "      <td>0.666667</td>\n",
       "      <td>0.444444</td>\n",
       "      <td>0.444444</td>\n",
       "      <td>0.333333</td>\n",
       "      <td>0.111111</td>\n",
       "      <td>0.555556</td>\n",
       "    </tr>\n",
       "    <tr>\n",
       "      <th>10</th>\n",
       "      <td>83486.500000</td>\n",
       "      <td>13486.500000</td>\n",
       "      <td>3.166667</td>\n",
       "      <td>1.0</td>\n",
       "      <td>0.765639</td>\n",
       "      <td>0.683333</td>\n",
       "      <td>125236.500000</td>\n",
       "      <td>995.583333</td>\n",
       "      <td>53.750000</td>\n",
       "      <td>218.083333</td>\n",
       "      <td>...</td>\n",
       "      <td>1.000000</td>\n",
       "      <td>0.500000</td>\n",
       "      <td>0.250000</td>\n",
       "      <td>0.0</td>\n",
       "      <td>1.000000</td>\n",
       "      <td>0.666667</td>\n",
       "      <td>0.666667</td>\n",
       "      <td>0.583333</td>\n",
       "      <td>0.333333</td>\n",
       "      <td>0.666667</td>\n",
       "    </tr>\n",
       "  </tbody>\n",
       "</table>\n",
       "<p>7 rows × 42 columns</p>\n",
       "</div>"
      ],
      "text/plain": [
       "             eval_id    learner_id     level  person_with_disability  \\\n",
       "rating                                                                 \n",
       "4       75746.500000   5746.500000  4.500000                     1.0   \n",
       "5       77247.166667   7247.166667  4.000000                     1.0   \n",
       "6       78500.444444   8500.444444  2.777778                     1.0   \n",
       "7       84704.428571  14704.428571  2.071429                     1.0   \n",
       "8       75221.571429   5221.571429  3.285714                     1.0   \n",
       "9       80804.777778  10804.777778  3.333333                     1.0   \n",
       "10      83486.500000  13486.500000  3.166667                     1.0   \n",
       "\n",
       "        openness  exclusion  registration_id  offering_id   duration  \\\n",
       "rating                                                                 \n",
       "4       0.249706   0.700000     55246.500000   882.500000  67.500000   \n",
       "5       0.379851   0.766667     68747.166667   929.333333  70.000000   \n",
       "6       0.487603   0.811111     80500.444444   935.555556  80.000000   \n",
       "7       0.549795   0.807143    138775.857143  1007.785714  64.285714   \n",
       "8       0.652953   0.742857     50221.571429   882.000000  70.714286   \n",
       "9       0.698575   0.722222    102804.777778   968.111111  66.666667   \n",
       "10      0.765639   0.683333    125236.500000   995.583333  53.750000   \n",
       "\n",
       "            module  ...  digital_content  digital_smooth  \\\n",
       "rating              ...                                    \n",
       "4       101.500000  ...         1.000000        0.000000   \n",
       "5       151.333333  ...         0.833333        0.166667   \n",
       "6       156.888889  ...         0.888889        0.444444   \n",
       "7       229.714286  ...         1.000000        0.285714   \n",
       "8       101.428571  ...         1.000000        0.428571   \n",
       "9       190.111111  ...         1.000000        0.444444   \n",
       "10      218.083333  ...         1.000000        0.500000   \n",
       "\n",
       "        digital_professional  digital_accessible  personnel_present  \\\n",
       "rating                                                                \n",
       "4                   0.000000                 0.0           0.500000   \n",
       "5                   0.333333                 0.0           0.666667   \n",
       "6                   0.111111                 0.0           0.555556   \n",
       "7                   0.500000                 0.0           0.785714   \n",
       "8                   0.571429                 0.0           0.428571   \n",
       "9                   0.777778                 0.0           0.666667   \n",
       "10                  0.250000                 0.0           1.000000   \n",
       "\n",
       "        personnel_pleasant  personnel_helpful  personnel_professional  \\\n",
       "rating                                                                  \n",
       "4                 0.250000           0.000000                0.000000   \n",
       "5                 0.166667           0.333333                0.000000   \n",
       "6                 0.111111           0.222222                0.333333   \n",
       "7                 0.285714           0.357143                0.142857   \n",
       "8                 0.285714           0.000000                0.285714   \n",
       "9                 0.444444           0.444444                0.333333   \n",
       "10                0.666667           0.666667                0.583333   \n",
       "\n",
       "        personnel_inclusive  personnel_knowledgeable  \n",
       "rating                                                \n",
       "4                  0.000000                 0.250000  \n",
       "5                  0.000000                 0.166667  \n",
       "6                  0.000000                 0.000000  \n",
       "7                  0.071429                 0.142857  \n",
       "8                  0.000000                 0.285714  \n",
       "9                  0.111111                 0.555556  \n",
       "10                 0.333333                 0.666667  \n",
       "\n",
       "[7 rows x 42 columns]"
      ]
     },
     "execution_count": 50,
     "metadata": {},
     "output_type": "execute_result"
    }
   ],
   "source": [
    "df.query('person_with_disability == True & audience == \"Employee\" & ethnicity == \"Black\"').groupby(df.rating).agg(\"mean\")"
   ]
  },
  {
   "cell_type": "code",
   "execution_count": 53,
   "metadata": {},
   "outputs": [
    {
     "data": {
      "text/plain": [
       "<matplotlib.axes._subplots.AxesSubplot at 0x1cd2815f6d0>"
      ]
     },
     "execution_count": 53,
     "metadata": {},
     "output_type": "execute_result"
    },
    {
     "data": {
      "image/png": "[encoded data removed]",
      "text/plain": [
       "<Figure size 1008x432 with 1 Axes>"
      ]
     },
     "metadata": {
      "needs_background": "light"
     },
     "output_type": "display_data"
    }
   ],
   "source": [
    "df.groupby(df[\"offering_id\"].where(df.learning_product==\"E311\"))[\"rating\"].value_counts(\n",
    "    normalize=True).unstack().plot(kind='bar', title=\"Rating by Offering (E311)\", figsize=(14,6), color=seven_grad)"
   ]
  },
  {
   "cell_type": "code",
   "execution_count": null,
   "metadata": {},
   "outputs": [],
   "source": []
  }
 ],
 "metadata": {
  "kernelspec": {
   "display_name": "Python 3",
   "language": "python",
   "name": "python3"
  },
  "language_info": {
   "codemirror_mode": {
    "name": "ipython",
    "version": 3
   },
   "file_extension": ".py",
   "mimetype": "text/x-python",
   "name": "python",
   "nbconvert_exporter": "python",
   "pygments_lexer": "ipython3",
   "version": "3.8.5"
  }
 },
 "nbformat": 4,
 "nbformat_minor": 4
}
